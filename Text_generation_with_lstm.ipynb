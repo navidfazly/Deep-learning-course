{
  "metadata": {
    "accelerator": "GPU",
    "colab": {
      "gpuType": "T4",
      "provenance": []
    },
    "kernelspec": {
      "name": "python3",
      "display_name": "Python 3",
      "language": "python"
    },
    "language_info": {
      "name": "python",
      "version": "3.10.12",
      "mimetype": "text/x-python",
      "codemirror_mode": {
        "name": "ipython",
        "version": 3
      },
      "pygments_lexer": "ipython3",
      "nbconvert_exporter": "python",
      "file_extension": ".py"
    },
    "kaggle": {
      "accelerator": "nvidiaTeslaT4",
      "dataSources": [],
      "dockerImageVersionId": 30588,
      "isInternetEnabled": true,
      "language": "python",
      "sourceType": "notebook",
      "isGpuEnabled": true
    }
  },
  "nbformat_minor": 0,
  "nbformat": 4,
  "cells": [
    {
      "cell_type": "markdown",
      "source": [
        "# Homework 3 Part 2\n",
        "\n",
        "## Course Name: Deep Learning\n",
        "#### Lecturers: Dr. Beigy\n",
        "\n",
        "---\n",
        "\n",
        "#### Notebooks Supervised By: Zeinab Sadat Taghavi\n",
        "#### Notebooks Prepared By: Zahra Khoramnejad, Mehran Sarmadi, Zahra Rahimi\n",
        "\n",
        "**Contact**: Ask your questions in Quera\n",
        "\n",
        "---\n",
        "\n",
        "### Instructions:\n",
        "- Complete all exercises presented in this notebook.\n",
        "- Ensure you run each cell after you've entered your solution.\n",
        "- After completing the exercises, save the notebook and <font color='red'>follow the submission guidelines provided in the PDF.</font>\n",
        "\n",
        "\n",
        "---\n"
      ],
      "metadata": {
        "id": "DHvhhpBU-QtI"
      }
    },
    {
      "cell_type": "markdown",
      "source": [
        "#Text Generation\n",
        "\n",
        "<p align='justify'>Text generation task involves generating new text based on a given input or a prompt. It is a natural language processing (NLP) task that aims to generate coherent and contextually relevant text.\n",
        "\n",
        "In text generation, a model is trained on a large corpus of text data and learns the patterns and structures of the language. This model can then be used to generate new text by sampling from the learned distribution of words or characters.\n",
        "\n",
        "Text generation has various applications, including chatbots, language translation, poetry generation, and content creation. It can be implemented using different techniques such as `recurrent neural networks (RNNs)`, `transformers`, and `Markov chains`.\n",
        "\n",
        "The goal of text generation is to produce text that is fluent, coherent, and contextually relevant. It requires a deep understanding of the language and the ability to generate text that follows grammatical rules and maintains semantic coherence.</p>"
      ],
      "metadata": {
        "id": "LG6yNYAmreI_"
      }
    },
    {
      "cell_type": "markdown",
      "source": [
        "##Charachter-level text generation"
      ],
      "metadata": {
        "id": "-u6fGIqx0LIz"
      }
    },
    {
      "cell_type": "markdown",
      "source": [
        "One stage of the task of text generation is mapping, which can be at the word or character level. At this stage, a number is assigned to each word or character.\n",
        "\n",
        "In this exercise, we generate text at the character level. Because generating text at the word level, even though it leads to more meaningful outputs, requires a rich dataset with a high number of word repetitions."
      ],
      "metadata": {
        "id": "cKhboP-Y0TrV"
      }
    },
    {
      "cell_type": "markdown",
      "source": [
        "We will implement models based on `recurrent networks` for text generation and compare the performance of different models. In the following, we will check the performance of the best models on different datasets and compare the results"
      ],
      "metadata": {
        "id": "00sNsfmXtW6K"
      }
    },
    {
      "cell_type": "markdown",
      "source": [
        "The steps of this exercise are as follows:\n",
        "1. Train RNN and LSTM\n",
        "2. FineTuning\n",
        "3. Experiment on different datasets"
      ],
      "metadata": {
        "id": "jw8uJvD8vTyM"
      }
    },
    {
      "cell_type": "markdown",
      "source": [
        "---\n",
        "---"
      ],
      "metadata": {
        "id": "nb9egMrmAhXK"
      }
    },
    {
      "cell_type": "markdown",
      "source": [
        "#1. Train RNN and LSTM"
      ],
      "metadata": {
        "id": "SBqL42w1vt1Q"
      }
    },
    {
      "cell_type": "markdown",
      "source": [
        "## Imports"
      ],
      "metadata": {
        "id": "dP0JQJIj2rL0"
      }
    },
    {
      "cell_type": "code",
      "source": [
        "import torch\n",
        "import torch.nn as nn\n",
        "import torch.nn.functional as F\n",
        "from torch.distributions import Categorical\n",
        "\n",
        "import numpy as np\n",
        "import pandas as pd\n",
        "import random\n",
        "import re\n",
        "import string\n",
        "\n",
        "import matplotlib.pyplot as plt\n",
        "\n",
        "\n",
        "device = torch.device(\"cuda\" if torch.cuda.is_available() else \"cpu\")\n",
        "print(device)"
      ],
      "metadata": {
        "id": "x7cTJANKwpck",
        "outputId": "b6e61ee7-8ee2-4780-bd4c-0915506cd3dc",
        "execution": {
          "iopub.status.busy": "2023-12-03T03:58:18.862128Z",
          "iopub.execute_input": "2023-12-03T03:58:18.862499Z",
          "iopub.status.idle": "2023-12-03T03:58:22.118859Z",
          "shell.execute_reply.started": "2023-12-03T03:58:18.862467Z",
          "shell.execute_reply": "2023-12-03T03:58:22.117896Z"
        },
        "trusted": true,
        "colab": {
          "base_uri": "https://localhost:8080/"
        }
      },
      "execution_count": null,
      "outputs": [
        {
          "output_type": "stream",
          "name": "stdout",
          "text": [
            "cuda\n"
          ]
        }
      ]
    },
    {
      "cell_type": "markdown",
      "source": [
        "## Load data"
      ],
      "metadata": {
        "id": "hJSsyWUyv8KC"
      }
    },
    {
      "cell_type": "markdown",
      "source": [
        "- We use the dataset of `Shakespeare's plays` as the main dataset for this exercise"
      ],
      "metadata": {
        "id": "oHGryhW7wbsZ"
      }
    },
    {
      "cell_type": "code",
      "source": [
        "!wget \"https://raw.githubusercontent.com/karpathy/char-rnn/master/data/tinyshakespeare/input.txt\" -c -P {'data/'}"
      ],
      "metadata": {
        "id": "eUNd0YrFwW2E",
        "execution": {
          "iopub.status.busy": "2023-12-03T03:58:22.120410Z",
          "iopub.execute_input": "2023-12-03T03:58:22.120857Z",
          "iopub.status.idle": "2023-12-03T03:58:23.258065Z",
          "shell.execute_reply.started": "2023-12-03T03:58:22.120828Z",
          "shell.execute_reply": "2023-12-03T03:58:23.256821Z"
        },
        "trusted": true,
        "colab": {
          "base_uri": "https://localhost:8080/"
        },
        "outputId": "6638e431-1cbf-4bc2-d139-b34504b7a957"
      },
      "execution_count": null,
      "outputs": [
        {
          "output_type": "stream",
          "name": "stdout",
          "text": [
            "--2023-12-08 13:14:32--  https://raw.githubusercontent.com/karpathy/char-rnn/master/data/tinyshakespeare/input.txt\n",
            "Resolving raw.githubusercontent.com (raw.githubusercontent.com)... 185.199.108.133, 185.199.109.133, 185.199.110.133, ...\n",
            "Connecting to raw.githubusercontent.com (raw.githubusercontent.com)|185.199.108.133|:443... connected.\n",
            "HTTP request sent, awaiting response... 200 OK\n",
            "Length: 1115394 (1.1M) [text/plain]\n",
            "Saving to: ‘data/input.txt’\n",
            "\n",
            "input.txt           100%[===================>]   1.06M  --.-KB/s    in 0.04s   \n",
            "\n",
            "2023-12-08 13:14:32 (29.1 MB/s) - ‘data/input.txt’ saved [1115394/1115394]\n",
            "\n"
          ]
        }
      ]
    },
    {
      "cell_type": "markdown",
      "source": [
        "- Load data in amout of 30kb for training models"
      ],
      "metadata": {
        "id": "hYntrpS_Arse"
      }
    },
    {
      "cell_type": "code",
      "source": [
        "sh_data_file = \"./data/input.txt\"\n",
        "sh_data = open(sh_data_file, 'r').read(30000)"
      ],
      "metadata": {
        "id": "xYsndtIoxd0Z",
        "execution": {
          "iopub.status.busy": "2023-12-03T03:58:23.260084Z",
          "iopub.execute_input": "2023-12-03T03:58:23.260451Z",
          "iopub.status.idle": "2023-12-03T03:58:23.266112Z",
          "shell.execute_reply.started": "2023-12-03T03:58:23.260418Z",
          "shell.execute_reply": "2023-12-03T03:58:23.265031Z"
        },
        "trusted": true
      },
      "execution_count": null,
      "outputs": []
    },
    {
      "cell_type": "markdown",
      "source": [
        "##Charachter mapping"
      ],
      "metadata": {
        "id": "Pj-xesSRwI9S"
      }
    },
    {
      "cell_type": "markdown",
      "source": [
        "- For better performance of the model, we limit the set of allowed characters"
      ],
      "metadata": {
        "id": "Jl-LIH_Syl0M"
      }
    },
    {
      "cell_type": "code",
      "source": [
        "chars = list(string.ascii_lowercase + '\\n' + ' ' + ':' + '.')\n",
        "vocab_size = len(chars)"
      ],
      "metadata": {
        "id": "KLiOHN8sCSe2",
        "execution": {
          "iopub.status.busy": "2023-12-03T03:58:24.604575Z",
          "iopub.execute_input": "2023-12-03T03:58:24.605483Z",
          "iopub.status.idle": "2023-12-03T03:58:24.609815Z",
          "shell.execute_reply.started": "2023-12-03T03:58:24.605445Z",
          "shell.execute_reply": "2023-12-03T03:58:24.608809Z"
        },
        "trusted": true
      },
      "execution_count": null,
      "outputs": []
    },
    {
      "cell_type": "code",
      "source": [
        "# Mapping of char-index\n",
        "char_to_ix = { ch:i for i,ch in enumerate(chars) }\n",
        "ix_to_char = { i:ch for i,ch in enumerate(chars) }"
      ],
      "metadata": {
        "id": "xvP9iW3FyT6g",
        "execution": {
          "iopub.status.busy": "2023-12-03T03:58:25.438486Z",
          "iopub.execute_input": "2023-12-03T03:58:25.439188Z",
          "iopub.status.idle": "2023-12-03T03:58:25.444295Z",
          "shell.execute_reply.started": "2023-12-03T03:58:25.439151Z",
          "shell.execute_reply": "2023-12-03T03:58:25.443056Z"
        },
        "trusted": true
      },
      "execution_count": null,
      "outputs": []
    },
    {
      "cell_type": "markdown",
      "source": [
        "##Preprocessing"
      ],
      "metadata": {
        "id": "nh8Fo1WnwC9T"
      }
    },
    {
      "cell_type": "code",
      "source": [
        "def remove_extraneous_characters(data, valid_char_list):\n",
        "    pattern = f\"[^{re.escape(''.join(valid_char_list))}]\"\n",
        "    return re.sub(pattern, '', data)"
      ],
      "metadata": {
        "id": "vxGtjsgay0x9",
        "execution": {
          "iopub.status.busy": "2023-12-03T03:58:27.631866Z",
          "iopub.execute_input": "2023-12-03T03:58:27.632619Z",
          "iopub.status.idle": "2023-12-03T03:58:27.637290Z",
          "shell.execute_reply.started": "2023-12-03T03:58:27.632585Z",
          "shell.execute_reply": "2023-12-03T03:58:27.636280Z"
        },
        "trusted": true
      },
      "execution_count": null,
      "outputs": []
    },
    {
      "cell_type": "code",
      "source": [
        "sh_data = remove_extraneous_characters(sh_data.lower(), chars)\n",
        "sh_data_size = len(sh_data)\n",
        "sh_data = list(sh_data)\n",
        "for i, ch in enumerate(sh_data):\n",
        "    sh_data[i] = char_to_ix[ch]\n",
        "\n",
        "sh_data = torch.tensor(sh_data).to(device)\n",
        "sh_data = torch.unsqueeze(sh_data, dim=1)"
      ],
      "metadata": {
        "id": "KscUSBpbyRNZ",
        "execution": {
          "iopub.status.busy": "2023-12-03T03:58:28.703664Z",
          "iopub.execute_input": "2023-12-03T03:58:28.704184Z",
          "iopub.status.idle": "2023-12-03T03:58:31.432008Z",
          "shell.execute_reply.started": "2023-12-03T03:58:28.704150Z",
          "shell.execute_reply": "2023-12-03T03:58:31.431200Z"
        },
        "trusted": true
      },
      "execution_count": null,
      "outputs": []
    },
    {
      "cell_type": "code",
      "source": [
        "revised_input = torch.zeros(sh_data.shape[0],30)\n",
        "for i in range(sh_data.shape[0]):\n",
        "    revised_input[i][sh_data[i][0]] = 1\n",
        "sh_data = revised_input\n",
        "sh_data.to(device)"
      ],
      "metadata": {
        "execution": {
          "iopub.status.busy": "2023-12-03T03:58:36.679270Z",
          "iopub.execute_input": "2023-12-03T03:58:36.680127Z",
          "iopub.status.idle": "2023-12-03T03:58:37.499597Z",
          "shell.execute_reply.started": "2023-12-03T03:58:36.680090Z",
          "shell.execute_reply": "2023-12-03T03:58:37.498592Z"
        },
        "trusted": true,
        "colab": {
          "base_uri": "https://localhost:8080/"
        },
        "id": "TORRLtUXNkAo",
        "outputId": "0b7913c7-b54c-4e62-ebf3-8ac2a6f1ad2f"
      },
      "execution_count": null,
      "outputs": [
        {
          "output_type": "execute_result",
          "data": {
            "text/plain": [
              "tensor([[0., 0., 0.,  ..., 0., 0., 0.],\n",
              "        [0., 0., 0.,  ..., 0., 0., 0.],\n",
              "        [0., 0., 0.,  ..., 0., 0., 0.],\n",
              "        ...,\n",
              "        [0., 0., 0.,  ..., 0., 0., 0.],\n",
              "        [0., 0., 0.,  ..., 1., 0., 0.],\n",
              "        [1., 0., 0.,  ..., 0., 0., 0.]], device='cuda:0')"
            ]
          },
          "metadata": {},
          "execution_count": 8
        }
      ]
    },
    {
      "cell_type": "code",
      "source": [
        "def print_sample_output(model, data, data_size, test_output_len = 200):\n",
        "\n",
        "\n",
        "    test_output = \"\"\n",
        "    data_ptr = 0\n",
        "\n",
        "    rand_index = np.random.randint(data_size-1)\n",
        "    input_seq = data[rand_index : rand_index+1]\n",
        "\n",
        "    while True:\n",
        "        output = model(input_seq)\n",
        "\n",
        "        output = F.softmax(torch.squeeze(output), dim=0)\n",
        "        dist = Categorical(output)\n",
        "        index = dist.sample().item()\n",
        "\n",
        "        test_output += ix_to_char[index]\n",
        "        input_seq = torch.zeros(1,30).to(device)\n",
        "        input_seq[0][index] = 1\n",
        "        data_ptr += 1\n",
        "\n",
        "        if data_ptr > test_output_len:\n",
        "            break\n",
        "\n",
        "    print(\"Train Sample +++++++++++++++++++++++++++++++++++++++++++++\")\n",
        "    print(test_output)\n",
        "    print(\"++++++++++++++++++++++++++++++++++++++++++++++++++++++++++\")"
      ],
      "metadata": {
        "id": "ruPWrO7Z9JM2",
        "execution": {
          "iopub.status.busy": "2023-12-03T03:58:37.501713Z",
          "iopub.execute_input": "2023-12-03T03:58:37.502071Z",
          "iopub.status.idle": "2023-12-03T03:58:37.510742Z",
          "shell.execute_reply.started": "2023-12-03T03:58:37.502042Z",
          "shell.execute_reply": "2023-12-03T03:58:37.509819Z"
        },
        "trusted": true
      },
      "execution_count": null,
      "outputs": []
    },
    {
      "cell_type": "markdown",
      "source": [
        "##Modeling"
      ],
      "metadata": {
        "id": "Df7TxCxOzueM"
      }
    },
    {
      "cell_type": "markdown",
      "source": [
        "- In this part define RNN and LSTM model, according to the mentioned characteristics and function inputs.\n"
      ],
      "metadata": {
        "id": "Rsj67WalA4fY"
      }
    },
    {
      "cell_type": "markdown",
      "source": [
        "###RNN"
      ],
      "metadata": {
        "id": "kFj9nkzoz2Hs"
      }
    },
    {
      "cell_type": "code",
      "source": [
        "import torch\n",
        "import torch.nn as nn\n",
        "\n",
        "class RNN(nn.Module):\n",
        "    def __init__(self, input_size, output_size, hidden_size, num_layers, dropout_enable=False):\n",
        "        super(RNN, self).__init__()\n",
        "        self.input_size = input_size\n",
        "        self.output_size = output_size\n",
        "        self.hidden_size = hidden_size\n",
        "        self.num_layers = num_layers\n",
        "        self.dropout_enable = dropout_enable\n",
        "        self.dropout = nn.Dropout(0.1)\n",
        "        self.init_hidden()\n",
        "\n",
        "\n",
        "\n",
        "        self.rnn = nn.RNN(input_size=self.input_size, hidden_size=self.hidden_size, num_layers=self.num_layers, dropout=0.5 if self.dropout_enable else 0, batch_first=True)\n",
        "        self.decoder = nn.Linear(self.hidden_size, self.output_size)\n",
        "\n",
        "    def init_hidden(self):\n",
        "        self.hidden_state = torch.zeros(self.num_layers, self.hidden_size).to(device)\n",
        "\n",
        "    def forward(self, input_seq):\n",
        "        input_seq = input_seq.float()\n",
        "        out, self.hidden_state = self.rnn(input_seq, self.hidden_state)\n",
        "\n",
        "        out = self.decoder(out.squeeze())\n",
        "\n",
        "        return out\n",
        "\n",
        "    def save_model(self, path):\n",
        "        torch.save(self.state_dict(), path)\n",
        "\n",
        "    def load_model(self, path):\n",
        "        self.load_state_dict(torch.load(path))\n"
      ],
      "metadata": {
        "execution": {
          "iopub.status.busy": "2023-12-03T03:58:37.512390Z",
          "iopub.execute_input": "2023-12-03T03:58:37.512817Z",
          "iopub.status.idle": "2023-12-03T03:58:37.525603Z",
          "shell.execute_reply.started": "2023-12-03T03:58:37.512765Z",
          "shell.execute_reply": "2023-12-03T03:58:37.524712Z"
        },
        "trusted": true,
        "id": "6-dhGgMZNkAq"
      },
      "execution_count": null,
      "outputs": []
    },
    {
      "cell_type": "markdown",
      "source": [
        "###LSTM"
      ],
      "metadata": {
        "id": "xeoymmMx7RKR"
      }
    },
    {
      "cell_type": "code",
      "source": [
        "import torch.nn as nn\n",
        "\n",
        "class LSTM(nn.Module):\n",
        "    def __init__(self, input_size, output_size, hidden_size=512, num_layers=3, dropout_enable=False):\n",
        "        super(LSTM, self).__init__()\n",
        "        self.input_size = input_size\n",
        "        self.output_size = output_size\n",
        "        self.hidden_size = hidden_size\n",
        "        self.num_layers = num_layers\n",
        "        self.dropout_enable = dropout_enable\n",
        "        self.dropout = nn.Dropout(0.4)\n",
        "        self.hidden_state = None\n",
        "\n",
        "\n",
        "        self.lstm = nn.LSTM(input_size, hidden_size, num_layers, batch_first=True)\n",
        "        self.decoder = nn.Linear(hidden_size, output_size)\n",
        "\n",
        "    def forward(self, input_seq):\n",
        "\n",
        "        lstm_out, _ = self.lstm(input_seq, self.hidden_state)\n",
        "        out = self.decoder(lstm_out[:,])\n",
        "        return out\n",
        "\n",
        "    def init_hidden(self):\n",
        "\n",
        "        return (\n",
        "            torch.zeros(self.num_layers, self.hidden_size).to(device),\n",
        "            torch.zeros(self.num_layers, self.hidden_size).to(device)\n",
        "        )\n",
        "\n",
        "    def save_model(self, path):\n",
        "        torch.save(self.state_dict(), path)\n",
        "\n",
        "    def load_model(self, path):\n",
        "        self.load_state_dict(torch.load(path))\n"
      ],
      "metadata": {
        "execution": {
          "iopub.status.busy": "2023-12-03T03:58:37.527835Z",
          "iopub.execute_input": "2023-12-03T03:58:37.528216Z",
          "iopub.status.idle": "2023-12-03T03:58:37.540013Z",
          "shell.execute_reply.started": "2023-12-03T03:58:37.528177Z",
          "shell.execute_reply": "2023-12-03T03:58:37.539018Z"
        },
        "trusted": true,
        "id": "PXnYofEVNkAr"
      },
      "execution_count": null,
      "outputs": []
    },
    {
      "cell_type": "markdown",
      "source": [
        "##Training"
      ],
      "metadata": {
        "id": "Y9XQWqoXwM4N"
      }
    },
    {
      "cell_type": "code",
      "source": [
        "\n",
        "def train_epoch(model, data, data_size, epoch, optimizer, seq_len=200):\n",
        "\n",
        "    model.train()\n",
        "    criterion = nn.CrossEntropyLoss()\n",
        "    total_loss = 0\n",
        "    sample_number = 0\n",
        "\n",
        "\n",
        "    window = data_size - seq_len\n",
        "    for index in range(0, window , seq_len):\n",
        "\n",
        "        inputs = data[index:index+seq_len].to(device)\n",
        "        lables = data[index+1:index+seq_len+1].to(device)\n",
        "        model.init_hidden()\n",
        "\n",
        "        outputs = model(inputs)\n",
        "        loss = criterion(outputs, lables)\n",
        "\n",
        "        optimizer.zero_grad()\n",
        "        loss.backward()\n",
        "        optimizer.step()\n",
        "        total_loss += loss.item()\n",
        "        sample_number = sample_number+1\n",
        "\n",
        "    if epoch % 20 == 0:\n",
        "        print(f\"Epoch {epoch}, Loss: {total_loss / (sample_number+1)}\")\n",
        "\n",
        "\n",
        "    return total_loss / (sample_number+1)"
      ],
      "metadata": {
        "id": "aPpDSsZU7vWu",
        "execution": {
          "iopub.status.busy": "2023-12-03T03:58:53.751490Z",
          "iopub.execute_input": "2023-12-03T03:58:53.752434Z",
          "iopub.status.idle": "2023-12-03T03:58:53.760842Z",
          "shell.execute_reply.started": "2023-12-03T03:58:53.752395Z",
          "shell.execute_reply": "2023-12-03T03:58:53.759668Z"
        },
        "trusted": true
      },
      "execution_count": null,
      "outputs": []
    },
    {
      "cell_type": "markdown",
      "source": [
        "- For construction of each sample in the dataset, the output sequence is\n",
        "obtained from the shift of one character from the input sequence. For example, when sequence_length is 10 and our text is `Hello world`. The input sequence would be `Hello worl`, and the target sequence `ello world`."
      ],
      "metadata": {
        "id": "WC337ho-XX-I"
      }
    },
    {
      "cell_type": "code",
      "source": [
        "import torch.optim as optim\n",
        "\n",
        "def train_rnn(data, data_size, model_save_file):\n",
        "\n",
        "    hidden_size = 512\n",
        "    input_size = 30\n",
        "    output_size = 30\n",
        "    num_layers = 3\n",
        "    lr = 0.002\n",
        "    epoch_num = 100\n",
        "    losses = []\n",
        "\n",
        "\n",
        "    rnn_model = RNN(input_size=input_size, output_size=output_size, hidden_size=hidden_size, num_layers=num_layers, dropout_enable=True).to(device)\n",
        "\n",
        "    optimizer = optim.Adam(rnn_model.parameters(), lr=lr)\n",
        "    criterion = nn.CrossEntropyLoss()\n",
        "\n",
        "\n",
        "    best = {'loss': float('inf')}\n",
        "\n",
        "    for epoch in range(1, epoch_num + 1):\n",
        "        print(f\"Epoch: {epoch}\")\n",
        "        loss = train_epoch(rnn_model, data, data_size, epoch, optimizer)\n",
        "        losses.append(loss)\n",
        "\n",
        "        if loss < best['loss']:\n",
        "            print(f\"New best loss: {loss}\")\n",
        "            best['loss'] = loss\n",
        "            torch.save(rnn_model.state_dict(), model_save_file)\n",
        "\n",
        "    return losses"
      ],
      "metadata": {
        "id": "1NT_mZuMf4do",
        "execution": {
          "iopub.status.busy": "2023-12-03T04:20:08.600694Z",
          "iopub.execute_input": "2023-12-03T04:20:08.601617Z",
          "iopub.status.idle": "2023-12-03T04:20:08.611391Z",
          "shell.execute_reply.started": "2023-12-03T04:20:08.601581Z",
          "shell.execute_reply": "2023-12-03T04:20:08.610396Z"
        },
        "trusted": true
      },
      "execution_count": null,
      "outputs": []
    },
    {
      "cell_type": "code",
      "source": [
        "def train_lstm(data, data_size, model_save_file):\n",
        "\n",
        "    hidden_size = 512\n",
        "    num_layers = 3\n",
        "    lr = 0.002\n",
        "    epoch_num = 100\n",
        "    losses = []\n",
        "    input_size = 30\n",
        "    output_size = 30\n",
        "\n",
        "\n",
        "    lstm = LSTM(input_size=input_size, output_size=output_size, hidden_size=hidden_size, num_layers=num_layers, dropout_enable=True).to(device)\n",
        "\n",
        "\n",
        "    optimizer = optim.Adam(lstm.parameters(), lr=lr)\n",
        "    criterion = nn.CrossEntropyLoss()\n",
        "\n",
        "    best = {'loss': float('inf')}\n",
        "\n",
        "    for epoch in range(1, epoch_num + 1):\n",
        "        print(f\"Epoch: {epoch}\")\n",
        "        loss = train_epoch(lstm, data, data_size, epoch, optimizer)\n",
        "        losses.append(loss)\n",
        "\n",
        "        if loss < best['loss']:\n",
        "            print(f\"New best loss: {loss}\")\n",
        "            best['loss'] = loss\n",
        "            torch.save(lstm.state_dict(), model_save_file)\n",
        "\n",
        "    return losses"
      ],
      "metadata": {
        "id": "gd-wyFT4gerv",
        "execution": {
          "iopub.status.busy": "2023-12-03T04:45:06.591085Z",
          "iopub.execute_input": "2023-12-03T04:45:06.592067Z",
          "iopub.status.idle": "2023-12-03T04:45:06.601193Z",
          "shell.execute_reply.started": "2023-12-03T04:45:06.592025Z",
          "shell.execute_reply": "2023-12-03T04:45:06.600068Z"
        },
        "trusted": true
      },
      "execution_count": null,
      "outputs": []
    },
    {
      "cell_type": "markdown",
      "source": [
        "### RNN"
      ],
      "metadata": {
        "id": "KW4HTBwBEoHC"
      }
    },
    {
      "cell_type": "code",
      "source": [
        "rnn_sh_losses = train_rnn(sh_data, sh_data_size, './model_sh_rnn2.pth')"
      ],
      "metadata": {
        "id": "-mA-QGewD22i",
        "execution": {
          "iopub.status.busy": "2023-12-03T04:20:11.287668Z",
          "iopub.execute_input": "2023-12-03T04:20:11.288072Z",
          "iopub.status.idle": "2023-12-03T04:23:49.465112Z",
          "shell.execute_reply.started": "2023-12-03T04:20:11.288038Z",
          "shell.execute_reply": "2023-12-03T04:23:49.464044Z"
        },
        "trusted": true,
        "colab": {
          "base_uri": "https://localhost:8080/"
        },
        "outputId": "6c466d84-8059-41d0-bc92-843bfc4b3359"
      },
      "execution_count": null,
      "outputs": [
        {
          "output_type": "stream",
          "name": "stdout",
          "text": [
            "Epoch: 1\n",
            "New best loss: 3.0370884741822333\n",
            "Epoch: 2\n",
            "New best loss: 3.0139265533995956\n",
            "Epoch: 3\n",
            "New best loss: 3.0123755474613136\n",
            "Epoch: 4\n",
            "New best loss: 3.010600589726069\n",
            "Epoch: 5\n",
            "Epoch: 6\n",
            "Epoch: 7\n",
            "Epoch: 8\n",
            "Epoch: 9\n",
            "Epoch: 10\n",
            "Epoch: 11\n",
            "Epoch: 12\n",
            "Epoch: 13\n",
            "New best loss: 3.007477536593398\n",
            "Epoch: 14\n",
            "New best loss: 3.0055815699982316\n",
            "Epoch: 15\n",
            "New best loss: 3.0048325910960156\n",
            "Epoch: 16\n",
            "New best loss: 3.0047505767378087\n",
            "Epoch: 17\n",
            "New best loss: 3.004279077869572\n",
            "Epoch: 18\n",
            "Epoch: 19\n",
            "New best loss: 3.0038030033242213\n",
            "Epoch: 20\n",
            "Epoch 20, Loss: 3.0242414458044644\n",
            "New best loss: 3.0035274632989544\n",
            "Epoch: 21\n",
            "Epoch: 22\n",
            "Epoch: 23\n",
            "Epoch: 24\n",
            "Epoch: 25\n",
            "Epoch: 26\n",
            "Epoch: 27\n",
            "Epoch: 28\n",
            "Epoch: 29\n",
            "Epoch: 30\n",
            "Epoch: 31\n",
            "Epoch: 32\n",
            "Epoch: 33\n",
            "New best loss: 3.001802517943186\n",
            "Epoch: 34\n",
            "New best loss: 3.000813221278256\n",
            "Epoch: 35\n",
            "New best loss: 3.0002490020778083\n",
            "Epoch: 36\n",
            "New best loss: 2.9990103506062127\n",
            "Epoch: 37\n",
            "New best loss: 2.998738357465561\n",
            "Epoch: 38\n",
            "Epoch: 39\n",
            "Epoch: 40\n",
            "Epoch 40, Loss: 3.046894507572569\n",
            "Epoch: 41\n",
            "Epoch: 42\n",
            "Epoch: 43\n",
            "Epoch: 44\n",
            "Epoch: 45\n",
            "Epoch: 46\n",
            "Epoch: 47\n",
            "Epoch: 48\n",
            "Epoch: 49\n",
            "Epoch: 50\n",
            "Epoch: 51\n",
            "Epoch: 52\n",
            "Epoch: 53\n",
            "Epoch: 54\n",
            "Epoch: 55\n",
            "Epoch: 56\n",
            "Epoch: 57\n",
            "Epoch: 58\n",
            "Epoch: 59\n",
            "Epoch: 60\n",
            "Epoch 60, Loss: 3.032265881834359\n",
            "Epoch: 61\n",
            "Epoch: 62\n",
            "Epoch: 63\n",
            "Epoch: 64\n",
            "Epoch: 65\n",
            "Epoch: 66\n",
            "Epoch: 67\n",
            "Epoch: 68\n",
            "Epoch: 69\n",
            "Epoch: 70\n",
            "Epoch: 71\n",
            "Epoch: 72\n",
            "New best loss: 2.998574761495198\n",
            "Epoch: 73\n",
            "Epoch: 74\n",
            "New best loss: 2.997265931678145\n",
            "Epoch: 75\n",
            "New best loss: 2.9970979772201956\n",
            "Epoch: 76\n",
            "New best loss: 2.9958409675180095\n",
            "Epoch: 77\n",
            "Epoch: 78\n",
            "Epoch: 79\n",
            "Epoch: 80\n",
            "Epoch 80, Loss: 3.030029295230734\n",
            "Epoch: 81\n",
            "Epoch: 82\n",
            "Epoch: 83\n",
            "Epoch: 84\n",
            "New best loss: 2.995587012539171\n",
            "Epoch: 85\n",
            "Epoch: 86\n",
            "New best loss: 2.9954364479404605\n",
            "Epoch: 87\n",
            "New best loss: 2.994295539921277\n",
            "Epoch: 88\n",
            "Epoch: 89\n",
            "Epoch: 90\n",
            "New best loss: 2.9934793776028776\n",
            "Epoch: 91\n",
            "New best loss: 2.9931170793428814\n",
            "Epoch: 92\n",
            "Epoch: 93\n",
            "Epoch: 94\n",
            "Epoch: 95\n",
            "Epoch: 96\n",
            "Epoch: 97\n",
            "Epoch: 98\n",
            "Epoch: 99\n",
            "New best loss: 2.9917229920217436\n",
            "Epoch: 100\n",
            "Epoch 100, Loss: 3.0117918425592882\n",
            "New best loss: 2.9911631313088822\n"
          ]
        }
      ]
    },
    {
      "cell_type": "markdown",
      "source": [
        "### LSTM"
      ],
      "metadata": {
        "id": "0LNMgGhjEqZn"
      }
    },
    {
      "cell_type": "code",
      "source": [
        "lstm_sh_losses = train_lstm(sh_data, sh_data_size, './model_sh_lstm.pth')"
      ],
      "metadata": {
        "id": "oA6zVNt6Ep7S",
        "execution": {
          "iopub.status.busy": "2023-12-03T04:45:21.810960Z",
          "iopub.execute_input": "2023-12-03T04:45:21.811353Z",
          "iopub.status.idle": "2023-12-03T04:52:02.730349Z",
          "shell.execute_reply.started": "2023-12-03T04:45:21.811320Z",
          "shell.execute_reply": "2023-12-03T04:52:02.729171Z"
        },
        "trusted": true,
        "colab": {
          "base_uri": "https://localhost:8080/"
        },
        "outputId": "d5a4a908-ed86-4fb7-861d-bc45b2a69ce0"
      },
      "execution_count": null,
      "outputs": [
        {
          "output_type": "stream",
          "name": "stdout",
          "text": [
            "Epoch: 1\n",
            "New best loss: 2.7896797852973414\n",
            "Epoch: 2\n",
            "New best loss: 2.2517983529665697\n",
            "Epoch: 3\n",
            "New best loss: 1.9953578539090613\n",
            "Epoch: 4\n",
            "New best loss: 1.7983870212345907\n",
            "Epoch: 5\n",
            "New best loss: 1.640400380304415\n",
            "Epoch: 6\n",
            "New best loss: 1.5043137302137402\n",
            "Epoch: 7\n",
            "New best loss: 1.3810440036531997\n",
            "Epoch: 8\n",
            "New best loss: 1.2672181709171975\n",
            "Epoch: 9\n",
            "New best loss: 1.1328695575668388\n",
            "Epoch: 10\n",
            "New best loss: 1.005123538513706\n",
            "Epoch: 11\n",
            "New best loss: 0.8695683242523506\n",
            "Epoch: 12\n",
            "New best loss: 0.7301494311796476\n",
            "Epoch: 13\n",
            "New best loss: 0.6205371642765933\n",
            "Epoch: 14\n",
            "New best loss: 0.5264987655698437\n",
            "Epoch: 15\n",
            "New best loss: 0.4434885423477382\n",
            "Epoch: 16\n",
            "New best loss: 0.37363261157927447\n",
            "Epoch: 17\n",
            "New best loss: 0.30222617885837816\n",
            "Epoch: 18\n",
            "New best loss: 0.2687231051186993\n",
            "Epoch: 19\n",
            "New best loss: 0.24026578205497298\n",
            "Epoch: 20\n",
            "Epoch 20, Loss: 0.2333057019217261\n",
            "New best loss: 0.23170771766198825\n",
            "Epoch: 21\n",
            "New best loss: 0.22704464697266277\n",
            "Epoch: 22\n",
            "New best loss: 0.21164390557024576\n",
            "Epoch: 23\n",
            "New best loss: 0.19215496343700852\n",
            "Epoch: 24\n",
            "New best loss: 0.17934172447413615\n",
            "Epoch: 25\n",
            "New best loss: 0.16729833522479828\n",
            "Epoch: 26\n",
            "New best loss: 0.15617578864505846\n",
            "Epoch: 27\n",
            "New best loss: 0.14792868591947098\n",
            "Epoch: 28\n",
            "New best loss: 0.1313428411847108\n",
            "Epoch: 29\n",
            "New best loss: 0.11360292603606231\n",
            "Epoch: 30\n",
            "New best loss: 0.10537302940573594\n",
            "Epoch: 31\n",
            "New best loss: 0.09191677122287555\n",
            "Epoch: 32\n",
            "New best loss: 0.0738213383528876\n",
            "Epoch: 33\n",
            "New best loss: 0.06295880885820275\n",
            "Epoch: 34\n",
            "New best loss: 0.05403010716840421\n",
            "Epoch: 35\n",
            "New best loss: 0.04338228088255002\n",
            "Epoch: 36\n",
            "New best loss: 0.03719638492784476\n",
            "Epoch: 37\n",
            "New best loss: 0.03103568439678072\n",
            "Epoch: 38\n",
            "New best loss: 0.02703484849468486\n",
            "Epoch: 39\n",
            "New best loss: 0.024314134329085378\n",
            "Epoch: 40\n",
            "Epoch 40, Loss: 0.021924439433897876\n",
            "New best loss: 0.021774272040515016\n",
            "Epoch: 41\n",
            "New best loss: 0.020650249319023466\n",
            "Epoch: 42\n",
            "New best loss: 0.019793628664744687\n",
            "Epoch: 43\n",
            "New best loss: 0.01924162055923897\n",
            "Epoch: 44\n",
            "New best loss: 0.019176438741054232\n",
            "Epoch: 45\n",
            "New best loss: 0.01882597900630447\n",
            "Epoch: 46\n",
            "Epoch: 47\n",
            "Epoch: 48\n",
            "Epoch: 49\n",
            "Epoch: 50\n",
            "Epoch: 51\n",
            "Epoch: 52\n",
            "Epoch: 53\n",
            "Epoch: 54\n",
            "Epoch: 55\n",
            "Epoch: 56\n",
            "Epoch: 57\n",
            "Epoch: 58\n",
            "Epoch: 59\n",
            "Epoch: 60\n",
            "Epoch 60, Loss: 0.020275286132277085\n",
            "Epoch: 61\n",
            "Epoch: 62\n",
            "New best loss: 0.018438818716214434\n",
            "Epoch: 63\n",
            "New best loss: 0.018113835984266885\n",
            "Epoch: 64\n",
            "New best loss: 0.01769411322431103\n",
            "Epoch: 65\n",
            "New best loss: 0.017562582157552242\n",
            "Epoch: 66\n",
            "New best loss: 0.017446931453153798\n",
            "Epoch: 67\n",
            "New best loss: 0.017419641618999615\n",
            "Epoch: 68\n",
            "New best loss: 0.01741686020977795\n",
            "Epoch: 69\n",
            "Epoch: 70\n",
            "Epoch: 71\n",
            "Epoch: 72\n",
            "Epoch: 73\n",
            "Epoch: 74\n",
            "Epoch: 75\n",
            "Epoch: 76\n",
            "Epoch: 77\n",
            "Epoch: 78\n",
            "Epoch: 79\n",
            "Epoch: 80\n",
            "Epoch 80, Loss: 0.017895542716222075\n",
            "Epoch: 81\n",
            "Epoch: 82\n",
            "Epoch: 83\n",
            "Epoch: 84\n",
            "Epoch: 85\n",
            "Epoch: 86\n",
            "Epoch: 87\n",
            "Epoch: 88\n",
            "New best loss: 0.017413319637703914\n",
            "Epoch: 89\n",
            "New best loss: 0.01733136581526495\n",
            "Epoch: 90\n",
            "New best loss: 0.017238925281499052\n",
            "Epoch: 91\n",
            "New best loss: 0.01714867433973218\n",
            "Epoch: 92\n",
            "New best loss: 0.017042751874326575\n",
            "Epoch: 93\n",
            "New best loss: 0.016941124119250462\n",
            "Epoch: 94\n",
            "New best loss: 0.01682688795669604\n",
            "Epoch: 95\n",
            "New best loss: 0.016718464795889156\n",
            "Epoch: 96\n",
            "New best loss: 0.016598145702530067\n",
            "Epoch: 97\n",
            "New best loss: 0.016485498740883186\n",
            "Epoch: 98\n",
            "New best loss: 0.0163606378773693\n",
            "Epoch: 99\n",
            "New best loss: 0.01624566819961342\n",
            "Epoch: 100\n",
            "Epoch 100, Loss: 0.016231198256819283\n",
            "New best loss: 0.016120025666019153\n"
          ]
        }
      ]
    },
    {
      "cell_type": "markdown",
      "source": [
        "##Generating texts"
      ],
      "metadata": {
        "id": "tUGxc-Z1wRiP"
      }
    },
    {
      "cell_type": "markdown",
      "source": [
        "- A sample text to input the model"
      ],
      "metadata": {
        "id": "43rEOvbopt3s"
      }
    },
    {
      "cell_type": "code",
      "source": [
        "input_sample_text = 'First Citizen:\\nYou are all resolved rather to die than to famish?\\n'\n",
        "\n",
        "def create_input_sample_dataset(input_sample_text):\n",
        "    input_sample = remove_extraneous_characters(input_sample_text.lower(), chars)\n",
        "    input_sample = list(input_sample)\n",
        "    for i, ch in enumerate(input_sample):\n",
        "        input_sample[i] = char_to_ix[ch]\n",
        "\n",
        "    input_sample = torch.tensor(input_sample).to(device)\n",
        "    input_sample = torch.unsqueeze(input_sample, dim=1)\n",
        "    seq = torch.zeros(len(input_sample), 30).to(device)\n",
        "    seq[torch.arange(len(input_sample)), input_sample] = 1\n",
        "    return seq"
      ],
      "metadata": {
        "id": "2gkZC4UagpoB",
        "execution": {
          "iopub.status.busy": "2023-12-03T04:01:55.462481Z",
          "iopub.execute_input": "2023-12-03T04:01:55.462804Z",
          "iopub.status.idle": "2023-12-03T04:01:55.469878Z",
          "shell.execute_reply.started": "2023-12-03T04:01:55.462771Z",
          "shell.execute_reply": "2023-12-03T04:01:55.468805Z"
        },
        "trusted": true
      },
      "execution_count": null,
      "outputs": []
    },
    {
      "cell_type": "markdown",
      "source": [
        "- This function generates the output generated by the model for the input sample, and if the input sample text is not given, it samples a sequence of original data and gives it to the model."
      ],
      "metadata": {
        "id": "m7N1xZocpFIf"
      }
    },
    {
      "cell_type": "code",
      "source": [
        "def generate_text(model, data, data_size, input_sample_test = None, output_len=1000):\n",
        "    model.eval()\n",
        "    data_ptr = 0\n",
        "    test_output=\"\"\n",
        "\n",
        "    if input_sample_test is not None:\n",
        "        index = 0\n",
        "        seq_len = len(input_sample_test)\n",
        "        input_seq = input_sample_test[index : index + seq_len-1]\n",
        "    else:\n",
        "\n",
        "        index = np.random.randint(data_size - 11)\n",
        "        seq_len = 10\n",
        "        input_seq = data[index : index + 9]\n",
        "\n",
        "\n",
        "    output = model(input_seq)\n",
        "\n",
        "    if input_sample_test is not None:\n",
        "        input_seq = input_sample_test[index + seq_len-1 : index + seq_len]\n",
        "    else:\n",
        "        input_seq = data[index + seq_len-1 : index + seq_len]\n",
        "\n",
        "    while True:\n",
        "        output = model(input_seq)\n",
        "\n",
        "        output = F.softmax(torch.squeeze(output), dim=0)\n",
        "        dist = Categorical(output)\n",
        "        index = dist.sample().item()\n",
        "\n",
        "        test_output += ix_to_char[index]\n",
        "#\n",
        "        input_seq = torch.zeros(1,30).to(device)\n",
        "        input_seq[0][index] = 1\n",
        "\n",
        "        data_ptr += 1\n",
        "\n",
        "        if data_ptr  > output_len:\n",
        "            break\n",
        "\n",
        "    print(\"Eaxmple of generated text --------------------------------------------------------------------------\")\n",
        "    print(test_output)\n",
        "    print(\"----------------------------------------------------------------------------------------------------\")"
      ],
      "metadata": {
        "id": "zTFXBqKqII_j",
        "execution": {
          "iopub.status.busy": "2023-12-03T04:01:55.471087Z",
          "iopub.execute_input": "2023-12-03T04:01:55.471368Z",
          "iopub.status.idle": "2023-12-03T04:01:55.484726Z",
          "shell.execute_reply.started": "2023-12-03T04:01:55.471343Z",
          "shell.execute_reply": "2023-12-03T04:01:55.483711Z"
        },
        "trusted": true
      },
      "execution_count": null,
      "outputs": []
    },
    {
      "cell_type": "code",
      "source": [
        "def generate_text_additional(model, data, data_size, input_sample_test = None, output_len=1000):\n",
        "    model.eval()\n",
        "    data_ptr = 0\n",
        "    test_output=\"\"\n",
        "\n",
        "    if input_sample_test is not None:\n",
        "        index = 0\n",
        "        seq_len = len(input_sample_test)\n",
        "        input_seq = input_sample_test[index : index + seq_len-1]\n",
        "    else:\n",
        "\n",
        "        index = np.random.randint(data_size - 11)\n",
        "        seq_len = 10\n",
        "        input_seq = data[index : index + 9]\n",
        "\n",
        "\n",
        "    output = model(input_seq)\n",
        "\n",
        "\n",
        "    if input_sample_test is not None:\n",
        "        input_seq = input_sample_test[index + seq_len-1 : index + seq_len]\n",
        "    else:\n",
        "        input_seq = data[index + seq_len-1 : index + seq_len]\n",
        "\n",
        "    while True:\n",
        "        output = model(input_seq.to(dev))\n",
        "\n",
        "        output = F.softmax(torch.squeeze(output), dim=0)\n",
        "        dist = Categorical(output)\n",
        "        index = dist.sample().item()\n",
        "\n",
        "        test_output += ix_to_char[index]\n",
        "        input_seq = torch.zeros(1,30).to(device)\n",
        "        input_seq[0][index] = 1\n",
        "\n",
        "        data_ptr += 1\n",
        "\n",
        "        if data_ptr  > output_len:\n",
        "            break\n",
        "\n",
        "    print(\"Eaxmple of generated text --------------------------------------------------------------------------\")\n",
        "    print(test_output)\n",
        "    print(\"----------------------------------------------------------------------------------------------------\")"
      ],
      "metadata": {
        "execution": {
          "iopub.status.busy": "2023-12-03T04:01:55.487180Z",
          "iopub.execute_input": "2023-12-03T04:01:55.487514Z",
          "iopub.status.idle": "2023-12-03T04:01:55.499702Z",
          "shell.execute_reply.started": "2023-12-03T04:01:55.487477Z",
          "shell.execute_reply": "2023-12-03T04:01:55.498794Z"
        },
        "trusted": true,
        "id": "uIqePMC-NkAy"
      },
      "execution_count": null,
      "outputs": []
    },
    {
      "cell_type": "markdown",
      "source": [
        "### RNN"
      ],
      "metadata": {
        "id": "MatZYKCUFOSn"
      }
    },
    {
      "cell_type": "code",
      "source": [
        "best_model_rnn =  RNN(vocab_size, vocab_size, 512, 3).to(device)\n",
        "best_model_rnn.load_model('./model_sh_rnn2.pth')\n",
        "print(\"best loss\", min(rnn_sh_losses))\n",
        "generate_text(best_model_rnn.to(device), sh_data.to(device), sh_data_size)\n"
      ],
      "metadata": {
        "id": "-oT9TsOBFQ9k",
        "execution": {
          "iopub.status.busy": "2023-12-03T04:27:31.038520Z",
          "iopub.execute_input": "2023-12-03T04:27:31.039355Z",
          "iopub.status.idle": "2023-12-03T04:27:32.060673Z",
          "shell.execute_reply.started": "2023-12-03T04:27:31.039294Z",
          "shell.execute_reply": "2023-12-03T04:27:32.059727Z"
        },
        "trusted": true,
        "colab": {
          "base_uri": "https://localhost:8080/"
        },
        "outputId": "0fc75d2e-649e-45e2-a757-d12523b14457"
      },
      "execution_count": null,
      "outputs": [
        {
          "output_type": "stream",
          "name": "stdout",
          "text": [
            "best loss 2.9911631313088822\n",
            "Eaxmple of generated text --------------------------------------------------------------------------\n",
            "aryfwgotrwatlt setaweecbbbinthl dfebo  uoho onoah:a  \n",
            "wligruii\n",
            " aniuino\n",
            " ltethiuea:sshioonfeu  teudo \n",
            "aeo abrrd r\n",
            "h\n",
            "dhiceaomh\n",
            "ieehdpzwisoeortioarduidiaaoii  pesete ebeah yeone.ta rv gyoi  oton u \n",
            "inossn.  bose.rlieedim trm sonpnhui\n",
            "e oierut a seoohsyloi ociftl ne .t.ef es:\n",
            "ou odneawhohyer\n",
            "y oai euibshro aonor\n",
            "n h mgtbn swmdcotoaa   ds  rwree \n",
            "sinnnea  ohmacrngne r hrubdc\n",
            "omrnf \n",
            " rtorr\n",
            "suiruothwcenacytiaaffntnr  nrn\n",
            "n.hen  etrnd u\n",
            "inyiea  m:mrero\n",
            "\n",
            "ewuea eul idto\n",
            ".htsioowiho\n",
            " mfnvluai euetneohoernisel \n",
            "\n",
            "hoe \n",
            " tditcoartsberiw: orreo  pchimihia iehosoelldhtdotg\n",
            "o\n",
            "eeilshineriuls n mehouhtdteyo eetnlmtc  yrmp dos   tlseu  ym ai aloriieuldin hov oinnhdleuinrns\n",
            "lim wltttai:mh horh elyln o i  ioui h mtl aleturim . fyc ueroa ri rneeocekovra. sbyll  iwhghohwvdlel\n",
            "a nkre bco znebaas  tia: e snyeahrdtae. oh\n",
            " \n",
            " d ttefsltoa  lcohrnyhseeuaa cilehtaonwtohihta ty  a  peitsaa\n",
            ":ls ua nelitr t stnls\n",
            "iffaohhtshglitedbevndadsyisu\n",
            ": anie\n",
            "tieno yeanve hi:mue  lmoyoeird teestum m\n",
            "\n",
            "enm c  hmtgue:s isahysrorsulelm\n",
            "----------------------------------------------------------------------------------------------------\n"
          ]
        }
      ]
    },
    {
      "cell_type": "markdown",
      "source": [
        "### LSTM"
      ],
      "metadata": {
        "id": "Fwr90H6eFPqR"
      }
    },
    {
      "cell_type": "code",
      "source": [
        "dev = torch.device('cpu')"
      ],
      "metadata": {
        "execution": {
          "iopub.status.busy": "2023-12-03T04:01:56.380114Z",
          "iopub.execute_input": "2023-12-03T04:01:56.381072Z",
          "iopub.status.idle": "2023-12-03T04:01:56.385507Z",
          "shell.execute_reply.started": "2023-12-03T04:01:56.381031Z",
          "shell.execute_reply": "2023-12-03T04:01:56.384536Z"
        },
        "trusted": true,
        "id": "SWtXakNaNkAz"
      },
      "execution_count": null,
      "outputs": []
    },
    {
      "cell_type": "code",
      "source": [
        "best_model_lstm =  LSTM(vocab_size, vocab_size, 512, 3).to(device)\n",
        "best_model_lstm.load_model('./model_sh_lstm.pth')\n",
        "print(\"best loss\", min(lstm_sh_losses))\n",
        "generate_text_additional(best_model_lstm.to(dev), sh_data.to(dev), sh_data_size)"
      ],
      "metadata": {
        "id": "R2DUmeREFUkc",
        "execution": {
          "iopub.status.busy": "2023-12-03T04:52:12.234523Z",
          "iopub.execute_input": "2023-12-03T04:52:12.235024Z",
          "iopub.status.idle": "2023-12-03T04:52:16.504520Z",
          "shell.execute_reply.started": "2023-12-03T04:52:12.234986Z",
          "shell.execute_reply": "2023-12-03T04:52:16.503448Z"
        },
        "trusted": true,
        "colab": {
          "base_uri": "https://localhost:8080/"
        },
        "outputId": "82e94366-825d-498c-9a23-20bf4fede816"
      },
      "execution_count": null,
      "outputs": [
        {
          "output_type": "stream",
          "name": "stdout",
          "text": [
            "best loss 0.016120025666019153\n",
            "Eaxmple of generated text --------------------------------------------------------------------------\n",
            " o paro whto m shi pldi po.\n",
            "vy kero soro s bls pld s o lusi s s mi by.\n",
            "arbli o s plersi sus:\n",
            "acle o o lsi o o m s pllsi o bllerble o o po m s s o orbe i ke pi o o o si o o si o po o ly o o whi o ifo o mi o ble o plersi s o s:\n",
            "vy s o po i o pls:\n",
            "arbly i o hi di s o s hersi o o s sirsi si ifaro o o m o bifage po mi he o o s ply plerodi o anandi o ply d o o ly o o o i mi di orblen o o ou s o s:\n",
            "mi d ke plle po si mars by so o di hi s si hi hty w ls: s i ly.\n",
            "vy wey.\n",
            "ai s m pldi oudi s ple bley ke i whaifablurerbli s:\n",
            "aro ley.\n",
            "vy s le li po hi o ls ld o wert hi o o mi po lifan whi so ke m si m o o mi ply ly he o blsi serblsi suple hi ply.\n",
            "acld o di o si wi pld plso herevy po mi lendifablers shable a o o o habso hi d surbls bly o sifacly m o o o s:\n",
            "vy se po mi o o aly o o o aro ousi mi o s d lerbley o a ke hi blero di o prorto hifo plus plerere kerbld pls po m o si o s s po lld o so ke le o pe s:\n",
            "m so ke mi plsi o ls blyifare i o s s o alerble s o mifo whtha bly hicle s o hi o m po o i o mi \n",
            "\n",
            "----------------------------------------------------------------------------------------------------\n"
          ]
        }
      ]
    },
    {
      "cell_type": "markdown",
      "source": [
        "## Plotting the losses"
      ],
      "metadata": {
        "id": "_thNtUicv2kd"
      }
    },
    {
      "cell_type": "code",
      "source": [
        "def plot_losses(losses):\n",
        "    xpoints = np.array(range(len(losses)))\n",
        "    ypoints = np.array(losses)\n",
        "\n",
        "    plt.plot(xpoints, ypoints, color='blue',label='losses')\n",
        "    plt.xlabel(\"epoch\")\n",
        "    plt.ylabel(\"loss\")\n",
        "    plt.legend()\n",
        "    plt.show()"
      ],
      "metadata": {
        "id": "f_If3o7grbO8",
        "execution": {
          "iopub.status.busy": "2023-12-03T04:01:57.470341Z",
          "iopub.execute_input": "2023-12-03T04:01:57.470844Z",
          "iopub.status.idle": "2023-12-03T04:01:57.476489Z",
          "shell.execute_reply.started": "2023-12-03T04:01:57.470804Z",
          "shell.execute_reply": "2023-12-03T04:01:57.475732Z"
        },
        "trusted": true
      },
      "execution_count": null,
      "outputs": []
    },
    {
      "cell_type": "markdown",
      "source": [
        "### RNN"
      ],
      "metadata": {
        "id": "ylDZpjFtJ6Mo"
      }
    },
    {
      "cell_type": "code",
      "source": [
        "plot_losses(rnn_sh_losses)"
      ],
      "metadata": {
        "id": "lvQC5FNzJ4Q1",
        "execution": {
          "iopub.status.busy": "2023-12-03T04:27:40.402359Z",
          "iopub.execute_input": "2023-12-03T04:27:40.402732Z",
          "iopub.status.idle": "2023-12-03T04:27:40.662555Z",
          "shell.execute_reply.started": "2023-12-03T04:27:40.402702Z",
          "shell.execute_reply": "2023-12-03T04:27:40.661461Z"
        },
        "trusted": true,
        "colab": {
          "base_uri": "https://localhost:8080/",
          "height": 449
        },
        "outputId": "d39d1da7-5d5e-4820-ab4f-a26c361346c6"
      },
      "execution_count": null,
      "outputs": [
        {
          "output_type": "display_data",
          "data": {
            "text/plain": [
              "<Figure size 640x480 with 1 Axes>"
            ],
            "image/png": "[encoded data removed]"
          },
          "metadata": {}
        }
      ]
    },
    {
      "cell_type": "markdown",
      "source": [
        "### LSTM"
      ],
      "metadata": {
        "id": "nbd_-EFInd-K"
      }
    },
    {
      "cell_type": "code",
      "source": [
        "plot_losses(lstm_sh_losses)"
      ],
      "metadata": {
        "id": "g44i0NiKJ97c",
        "execution": {
          "iopub.status.busy": "2023-12-03T04:52:26.446098Z",
          "iopub.execute_input": "2023-12-03T04:52:26.446952Z",
          "iopub.status.idle": "2023-12-03T04:52:26.699326Z",
          "shell.execute_reply.started": "2023-12-03T04:52:26.446917Z",
          "shell.execute_reply": "2023-12-03T04:52:26.698408Z"
        },
        "trusted": true,
        "colab": {
          "base_uri": "https://localhost:8080/",
          "height": 449
        },
        "outputId": "4e527cb4-d261-4c03-a70f-b23a9bd0bd2b"
      },
      "execution_count": null,
      "outputs": [
        {
          "output_type": "display_data",
          "data": {
            "text/plain": [
              "<Figure size 640x480 with 1 Axes>"
            ],
            "image/png": "[encoded data removed]"
          },
          "metadata": {}
        }
      ]
    },
    {
      "cell_type": "markdown",
      "source": [
        "## Report"
      ],
      "metadata": {
        "id": "nkoXQFMmKbU1"
      }
    },
    {
      "cell_type": "markdown",
      "source": [
        "According to the texts generated from different models and the losses during the training process of the models, analyze what is the reason for the difference in the result of models.\n",
        "\n",
        "Which model works better and what do you think are the reasons?"
      ],
      "metadata": {
        "id": "liCOCuR5KeFE"
      }
    },
    {
      "cell_type": "markdown",
      "source": [
        "<font color='#73FF73'><b>Your answer : </b></font>LSTMs possess a sophisticated memory cell architecture, which encompasses distinct memory cells and a gating system. They are engineered to adeptly seize and regulate long-term dependencies, rendering them more efficient in situations where preserving data across extended sequences is vital. LSTMs encompass a greater number of parameters compared to RNNs. This is the reason why LSTMs outperform RNNs."
      ],
      "metadata": {
        "id": "_TMkOL1uK8AU"
      }
    },
    {
      "cell_type": "markdown",
      "source": [
        "---\n",
        "---"
      ],
      "metadata": {
        "id": "j3UI0UnS9tzg"
      }
    },
    {
      "cell_type": "markdown",
      "source": [
        "#2. FineTuning"
      ],
      "metadata": {
        "id": "UjJP-PvXLKVf"
      }
    },
    {
      "cell_type": "markdown",
      "source": [
        "FineTuning is a technique used in neural network training where a pre-trained model is further trained on a new task or dataset. It allows us to leverage the knowledge and representations learned by a pre-trained model and adapt it to a specific task or domain.\n",
        "\n",
        "In this exercise, we first train the models with a `wikipedia` dataset that contains english texts, then we fine-tune this pre-trained model again with the Shakespeare play dataset to check the effect of this method on different models."
      ],
      "metadata": {
        "id": "DqR62s6qMfc5"
      }
    },
    {
      "cell_type": "markdown",
      "source": [
        "## Load Wikipedia dataset"
      ],
      "metadata": {
        "id": "hrBfhPcpOB-x"
      }
    },
    {
      "cell_type": "code",
      "source": [
        "!wget https://s3.amazonaws.com/fast-ai-nlp/wikitext-2.tgz"
      ],
      "metadata": {
        "id": "UiqBbrV4kSYN",
        "execution": {
          "iopub.status.busy": "2023-12-03T04:02:50.960746Z",
          "iopub.execute_input": "2023-12-03T04:02:50.961662Z",
          "iopub.status.idle": "2023-12-03T04:02:52.337843Z",
          "shell.execute_reply.started": "2023-12-03T04:02:50.961628Z",
          "shell.execute_reply": "2023-12-03T04:02:52.336828Z"
        },
        "trusted": true,
        "colab": {
          "base_uri": "https://localhost:8080/"
        },
        "outputId": "7a7123c1-d227-4c1f-efec-dc7a9aff7535"
      },
      "execution_count": null,
      "outputs": [
        {
          "output_type": "stream",
          "name": "stdout",
          "text": [
            "--2023-12-08 13:29:06--  https://s3.amazonaws.com/fast-ai-nlp/wikitext-2.tgz\n",
            "Resolving s3.amazonaws.com (s3.amazonaws.com)... 52.216.222.176, 52.217.73.214, 52.216.216.112, ...\n",
            "Connecting to s3.amazonaws.com (s3.amazonaws.com)|52.216.222.176|:443... connected.\n",
            "HTTP request sent, awaiting response... 200 OK\n",
            "Length: 4070055 (3.9M) [application/x-tar]\n",
            "Saving to: ‘wikitext-2.tgz.1’\n",
            "\n",
            "wikitext-2.tgz.1    100%[===================>]   3.88M  8.81MB/s    in 0.4s    \n",
            "\n",
            "2023-12-08 13:29:07 (8.81 MB/s) - ‘wikitext-2.tgz.1’ saved [4070055/4070055]\n",
            "\n"
          ]
        }
      ]
    },
    {
      "cell_type": "code",
      "source": [
        "!tar -xvzf '/kaggle/working/wikitext-2.tgz' -C '/kaggle/working'"
      ],
      "metadata": {
        "id": "ecXOywp5lv0D",
        "execution": {
          "iopub.status.busy": "2023-12-03T04:02:52.339977Z",
          "iopub.execute_input": "2023-12-03T04:02:52.340266Z",
          "iopub.status.idle": "2023-12-03T04:02:53.501488Z",
          "shell.execute_reply.started": "2023-12-03T04:02:52.340240Z",
          "shell.execute_reply": "2023-12-03T04:02:53.500297Z"
        },
        "trusted": true,
        "colab": {
          "base_uri": "https://localhost:8080/"
        },
        "outputId": "5cdadaf1-d0ce-4f73-af25-1559bc7c87da"
      },
      "execution_count": null,
      "outputs": [
        {
          "output_type": "stream",
          "name": "stdout",
          "text": [
            "tar (child): /kaggle/working/wikitext-2.tgz: Cannot open: No such file or directory\n",
            "tar (child): Error is not recoverable: exiting now\n",
            "tar: Child returned status 2\n",
            "tar: Error is not recoverable: exiting now\n"
          ]
        }
      ]
    },
    {
      "cell_type": "code",
      "source": [
        "!cat '/kaggle/working/wikitext-2/train.csv' | tr -d '\\n' > ./data/wikitext.txt"
      ],
      "metadata": {
        "id": "c52RASUHpGM3",
        "execution": {
          "iopub.status.busy": "2023-12-03T04:02:53.503687Z",
          "iopub.execute_input": "2023-12-03T04:02:53.504056Z",
          "iopub.status.idle": "2023-12-03T04:02:54.568269Z",
          "shell.execute_reply.started": "2023-12-03T04:02:53.504022Z",
          "shell.execute_reply": "2023-12-03T04:02:54.566526Z"
        },
        "trusted": true,
        "colab": {
          "base_uri": "https://localhost:8080/"
        },
        "outputId": "f8b35754-916f-455b-e119-efa1533e7925"
      },
      "execution_count": null,
      "outputs": [
        {
          "output_type": "stream",
          "name": "stdout",
          "text": [
            "cat: /kaggle/working/wikitext-2/train.csv: No such file or directory\n"
          ]
        }
      ]
    },
    {
      "cell_type": "markdown",
      "source": [
        "##Preprocessing"
      ],
      "metadata": {
        "id": "6Sfwpof1OGOv"
      }
    },
    {
      "cell_type": "code",
      "source": [
        "def clean_wiki_data(data):\n",
        "    repl=''\n",
        "    data=re.sub('\\(', repl, data)\n",
        "    data=re.sub('\\)', repl, data)\n",
        "    for pattern in set(re.findall(\"=.*=\",data)):\n",
        "        data=re.sub(pattern, repl, data)\n",
        "    for pattern in set(re.findall(\"<unk>\",data)):\n",
        "        data=re.sub(pattern,repl,data)\n",
        "    for pattern in set(re.findall(r\"[^\\w ]\", data)):\n",
        "        repl=''\n",
        "        if pattern=='-':\n",
        "            repl=' '\n",
        "        if pattern!='.' and pattern!=\"\\'\":\n",
        "            data=re.sub(\"\\\\\"+pattern, repl, data)\n",
        "\n",
        "    return data\n",
        "\n",
        "def load_data(filepath):\n",
        "    f=open(filepath)\n",
        "    return f.read()"
      ],
      "metadata": {
        "cellView": "code",
        "id": "CniodW0Knkld",
        "execution": {
          "iopub.status.busy": "2023-12-03T04:02:55.124966Z",
          "iopub.execute_input": "2023-12-03T04:02:55.125383Z",
          "iopub.status.idle": "2023-12-03T04:02:55.134001Z",
          "shell.execute_reply.started": "2023-12-03T04:02:55.125348Z",
          "shell.execute_reply": "2023-12-03T04:02:55.133040Z"
        },
        "trusted": true
      },
      "execution_count": null,
      "outputs": []
    },
    {
      "cell_type": "code",
      "source": [
        "wikidata=load_data(\"./data/wikitext.txt\")\n",
        "data=wikidata[:]\n",
        "data=clean_wiki_data(data)\n",
        "wikiPreprocessed_file = open(\"./data/wiki_preprocesed.txt\", \"w\")\n",
        "f = wikiPreprocessed_file.write(data)\n",
        "wikiPreprocessed_file.close()"
      ],
      "metadata": {
        "id": "N-BjAHGHpm4H",
        "execution": {
          "iopub.status.busy": "2023-12-03T04:02:56.572696Z",
          "iopub.execute_input": "2023-12-03T04:02:56.573148Z",
          "iopub.status.idle": "2023-12-03T04:03:38.422519Z",
          "shell.execute_reply.started": "2023-12-03T04:02:56.573111Z",
          "shell.execute_reply": "2023-12-03T04:03:38.421616Z"
        },
        "trusted": true
      },
      "execution_count": null,
      "outputs": []
    },
    {
      "cell_type": "markdown",
      "source": [
        "- Load data in amount of 50kb for finetuning"
      ],
      "metadata": {
        "id": "MxILpQvZmFs8"
      }
    },
    {
      "cell_type": "code",
      "source": [
        "wi_data_file = \"./data/wiki_preprocesed.txt\"\n",
        "wi_data = open(wi_data_file, 'r').read(50000)"
      ],
      "metadata": {
        "id": "Q9AUJmRFPGqH",
        "execution": {
          "iopub.status.busy": "2023-12-03T04:03:38.424283Z",
          "iopub.execute_input": "2023-12-03T04:03:38.424598Z",
          "iopub.status.idle": "2023-12-03T04:03:38.429488Z",
          "shell.execute_reply.started": "2023-12-03T04:03:38.424572Z",
          "shell.execute_reply": "2023-12-03T04:03:38.428507Z"
        },
        "trusted": true
      },
      "execution_count": null,
      "outputs": []
    },
    {
      "cell_type": "code",
      "source": [
        "wi_data = remove_extraneous_characters(wi_data.lower(), chars)\n",
        "wi_data_size = len(wi_data)\n",
        "\n",
        "wi_data = list(wi_data)\n",
        "for i, ch in enumerate(wi_data):\n",
        "    wi_data[i] = char_to_ix[ch]\n",
        "\n",
        "wi_data = torch.tensor(wi_data).to(device)\n",
        "wi_data = torch.unsqueeze(wi_data, dim=1)"
      ],
      "metadata": {
        "id": "hdxMOch8e4mB",
        "execution": {
          "iopub.status.busy": "2023-12-03T04:03:38.430976Z",
          "iopub.execute_input": "2023-12-03T04:03:38.431652Z",
          "iopub.status.idle": "2023-12-03T04:03:38.470584Z",
          "shell.execute_reply.started": "2023-12-03T04:03:38.431612Z",
          "shell.execute_reply": "2023-12-03T04:03:38.469791Z"
        },
        "trusted": true
      },
      "execution_count": null,
      "outputs": []
    },
    {
      "cell_type": "code",
      "source": [
        "revised_input = torch.zeros(wi_data.shape[0],30)\n",
        "for i in range(wi_data.shape[0]):\n",
        "    revised_input[i][wi_data[i][0]] = 1\n",
        "\n"
      ],
      "metadata": {
        "execution": {
          "iopub.status.busy": "2023-12-03T04:03:38.472845Z",
          "iopub.execute_input": "2023-12-03T04:03:38.473538Z",
          "iopub.status.idle": "2023-12-03T04:03:39.791489Z",
          "shell.execute_reply.started": "2023-12-03T04:03:38.473503Z",
          "shell.execute_reply": "2023-12-03T04:03:39.790521Z"
        },
        "trusted": true,
        "id": "XsFwjiV6NkA4"
      },
      "execution_count": null,
      "outputs": []
    },
    {
      "cell_type": "code",
      "source": [],
      "metadata": {
        "execution": {
          "iopub.status.busy": "2023-12-03T04:03:39.796730Z",
          "iopub.execute_input": "2023-12-03T04:03:39.797051Z",
          "iopub.status.idle": "2023-12-03T04:03:39.803443Z",
          "shell.execute_reply.started": "2023-12-03T04:03:39.797025Z",
          "shell.execute_reply": "2023-12-03T04:03:39.802333Z"
        },
        "trusted": true,
        "id": "n3brqsSwNkA4"
      },
      "execution_count": null,
      "outputs": []
    },
    {
      "cell_type": "markdown",
      "source": [
        "## Pre-training by wikipedia dataset"
      ],
      "metadata": {
        "id": "_Z9RXj7fOPFh"
      }
    },
    {
      "cell_type": "markdown",
      "source": [
        "### RNN"
      ],
      "metadata": {
        "id": "WQRRXlSDfVEI"
      }
    },
    {
      "cell_type": "code",
      "source": [
        "rnn_wi_losses = train_rnn(revised_input, wi_data_size, './model_wi_rnn.pth')"
      ],
      "metadata": {
        "id": "00m3G13vfcQ1",
        "execution": {
          "iopub.status.busy": "2023-12-03T04:28:05.843569Z",
          "iopub.execute_input": "2023-12-03T04:28:05.844339Z",
          "iopub.status.idle": "2023-12-03T04:34:08.718024Z",
          "shell.execute_reply.started": "2023-12-03T04:28:05.844302Z",
          "shell.execute_reply": "2023-12-03T04:34:08.716943Z"
        },
        "trusted": true,
        "colab": {
          "base_uri": "https://localhost:8080/"
        },
        "outputId": "573d5cf5-cdc0-4388-89ae-7864e18472e7"
      },
      "execution_count": null,
      "outputs": [
        {
          "output_type": "stream",
          "name": "stdout",
          "text": [
            "Epoch: 1\n",
            "New best loss: 0.0\n",
            "Epoch: 2\n",
            "Epoch: 3\n",
            "Epoch: 4\n",
            "Epoch: 5\n",
            "Epoch: 6\n",
            "Epoch: 7\n",
            "Epoch: 8\n",
            "Epoch: 9\n",
            "Epoch: 10\n",
            "Epoch: 11\n",
            "Epoch: 12\n",
            "Epoch: 13\n",
            "Epoch: 14\n",
            "Epoch: 15\n",
            "Epoch: 16\n",
            "Epoch: 17\n",
            "Epoch: 18\n",
            "Epoch: 19\n",
            "Epoch: 20\n",
            "Epoch 20, Loss: 0.0\n",
            "Epoch: 21\n",
            "Epoch: 22\n",
            "Epoch: 23\n",
            "Epoch: 24\n",
            "Epoch: 25\n",
            "Epoch: 26\n",
            "Epoch: 27\n",
            "Epoch: 28\n",
            "Epoch: 29\n",
            "Epoch: 30\n",
            "Epoch: 31\n",
            "Epoch: 32\n",
            "Epoch: 33\n",
            "Epoch: 34\n",
            "Epoch: 35\n",
            "Epoch: 36\n",
            "Epoch: 37\n",
            "Epoch: 38\n",
            "Epoch: 39\n",
            "Epoch: 40\n",
            "Epoch 40, Loss: 0.0\n",
            "Epoch: 41\n",
            "Epoch: 42\n",
            "Epoch: 43\n",
            "Epoch: 44\n",
            "Epoch: 45\n",
            "Epoch: 46\n",
            "Epoch: 47\n",
            "Epoch: 48\n",
            "Epoch: 49\n",
            "Epoch: 50\n",
            "Epoch: 51\n",
            "Epoch: 52\n",
            "Epoch: 53\n",
            "Epoch: 54\n",
            "Epoch: 55\n",
            "Epoch: 56\n",
            "Epoch: 57\n",
            "Epoch: 58\n",
            "Epoch: 59\n",
            "Epoch: 60\n",
            "Epoch 60, Loss: 0.0\n",
            "Epoch: 61\n",
            "Epoch: 62\n",
            "Epoch: 63\n",
            "Epoch: 64\n",
            "Epoch: 65\n",
            "Epoch: 66\n",
            "Epoch: 67\n",
            "Epoch: 68\n",
            "Epoch: 69\n",
            "Epoch: 70\n",
            "Epoch: 71\n",
            "Epoch: 72\n",
            "Epoch: 73\n",
            "Epoch: 74\n",
            "Epoch: 75\n",
            "Epoch: 76\n",
            "Epoch: 77\n",
            "Epoch: 78\n",
            "Epoch: 79\n",
            "Epoch: 80\n",
            "Epoch 80, Loss: 0.0\n",
            "Epoch: 81\n",
            "Epoch: 82\n",
            "Epoch: 83\n",
            "Epoch: 84\n",
            "Epoch: 85\n",
            "Epoch: 86\n",
            "Epoch: 87\n",
            "Epoch: 88\n",
            "Epoch: 89\n",
            "Epoch: 90\n",
            "Epoch: 91\n",
            "Epoch: 92\n",
            "Epoch: 93\n",
            "Epoch: 94\n",
            "Epoch: 95\n",
            "Epoch: 96\n",
            "Epoch: 97\n",
            "Epoch: 98\n",
            "Epoch: 99\n",
            "Epoch: 100\n",
            "Epoch 100, Loss: 0.0\n"
          ]
        }
      ]
    },
    {
      "cell_type": "markdown",
      "source": [
        "### LSTM"
      ],
      "metadata": {
        "id": "iI8hukxjfc0g"
      }
    },
    {
      "cell_type": "code",
      "source": [
        "lstm_wi_losses = train_lstm(revised_input, wi_data_size, './model_wi_lstm.pth')"
      ],
      "metadata": {
        "id": "b5KmatWPhUYB",
        "execution": {
          "iopub.status.busy": "2023-12-03T04:52:44.067017Z",
          "iopub.execute_input": "2023-12-03T04:52:44.067432Z",
          "iopub.status.idle": "2023-12-03T05:03:53.499145Z",
          "shell.execute_reply.started": "2023-12-03T04:52:44.067397Z",
          "shell.execute_reply": "2023-12-03T05:03:53.497805Z"
        },
        "trusted": true,
        "colab": {
          "base_uri": "https://localhost:8080/"
        },
        "outputId": "b4e0ca62-6fd2-461c-d47e-0e9539304b28"
      },
      "execution_count": null,
      "outputs": [
        {
          "output_type": "stream",
          "name": "stdout",
          "text": [
            "Epoch: 1\n",
            "New best loss: 0.0\n",
            "Epoch: 2\n",
            "Epoch: 3\n",
            "Epoch: 4\n",
            "Epoch: 5\n",
            "Epoch: 6\n",
            "Epoch: 7\n",
            "Epoch: 8\n",
            "Epoch: 9\n",
            "Epoch: 10\n",
            "Epoch: 11\n",
            "Epoch: 12\n",
            "Epoch: 13\n",
            "Epoch: 14\n",
            "Epoch: 15\n",
            "Epoch: 16\n",
            "Epoch: 17\n",
            "Epoch: 18\n",
            "Epoch: 19\n",
            "Epoch: 20\n",
            "Epoch 20, Loss: 0.0\n",
            "Epoch: 21\n",
            "Epoch: 22\n",
            "Epoch: 23\n",
            "Epoch: 24\n",
            "Epoch: 25\n",
            "Epoch: 26\n",
            "Epoch: 27\n",
            "Epoch: 28\n",
            "Epoch: 29\n",
            "Epoch: 30\n",
            "Epoch: 31\n",
            "Epoch: 32\n",
            "Epoch: 33\n",
            "Epoch: 34\n",
            "Epoch: 35\n",
            "Epoch: 36\n",
            "Epoch: 37\n",
            "Epoch: 38\n",
            "Epoch: 39\n",
            "Epoch: 40\n",
            "Epoch 40, Loss: 0.0\n",
            "Epoch: 41\n",
            "Epoch: 42\n",
            "Epoch: 43\n",
            "Epoch: 44\n",
            "Epoch: 45\n",
            "Epoch: 46\n",
            "Epoch: 47\n",
            "Epoch: 48\n",
            "Epoch: 49\n",
            "Epoch: 50\n",
            "Epoch: 51\n",
            "Epoch: 52\n",
            "Epoch: 53\n",
            "Epoch: 54\n",
            "Epoch: 55\n",
            "Epoch: 56\n",
            "Epoch: 57\n",
            "Epoch: 58\n",
            "Epoch: 59\n",
            "Epoch: 60\n",
            "Epoch 60, Loss: 0.0\n",
            "Epoch: 61\n",
            "Epoch: 62\n",
            "Epoch: 63\n",
            "Epoch: 64\n",
            "Epoch: 65\n",
            "Epoch: 66\n",
            "Epoch: 67\n",
            "Epoch: 68\n",
            "Epoch: 69\n",
            "Epoch: 70\n",
            "Epoch: 71\n",
            "Epoch: 72\n",
            "Epoch: 73\n",
            "Epoch: 74\n",
            "Epoch: 75\n",
            "Epoch: 76\n",
            "Epoch: 77\n",
            "Epoch: 78\n",
            "Epoch: 79\n",
            "Epoch: 80\n",
            "Epoch 80, Loss: 0.0\n",
            "Epoch: 81\n",
            "Epoch: 82\n",
            "Epoch: 83\n",
            "Epoch: 84\n",
            "Epoch: 85\n",
            "Epoch: 86\n",
            "Epoch: 87\n",
            "Epoch: 88\n",
            "Epoch: 89\n",
            "Epoch: 90\n",
            "Epoch: 91\n",
            "Epoch: 92\n",
            "Epoch: 93\n",
            "Epoch: 94\n",
            "Epoch: 95\n",
            "Epoch: 96\n",
            "Epoch: 97\n",
            "Epoch: 98\n",
            "Epoch: 99\n",
            "Epoch: 100\n",
            "Epoch 100, Loss: 0.0\n"
          ]
        }
      ]
    },
    {
      "cell_type": "code",
      "source": [],
      "metadata": {
        "id": "hZM5IO2GjgTe"
      },
      "execution_count": null,
      "outputs": []
    },
    {
      "cell_type": "markdown",
      "source": [
        "## Finetuning by Shakespeare"
      ],
      "metadata": {
        "id": "s4EDmKGTOTaQ"
      }
    },
    {
      "cell_type": "markdown",
      "source": [
        "- Define the following functions to use the previous model as a pre-trained model and fine-tunes it using Shakespeare's plays dataset with lower learning rate."
      ],
      "metadata": {
        "id": "J99viDjUqxUz"
      }
    },
    {
      "cell_type": "code",
      "source": [
        "def finetune_rnn(data, data_size, model_save_file, model_pretrained_path):\n",
        "\n",
        "    hidden_size = 512\n",
        "    num_layers = 3\n",
        "    lr = 0.001\n",
        "    epoch_num = 100\n",
        "    losses = []\n",
        "\n",
        "    rnn =  RNN(vocab_size, vocab_size, hidden_size, num_layers).to(device)\n",
        "    rnn.load_model(model_pretrained_path)\n",
        "    optimizer = optim.Adam(rnn.parameters(), lr=lr)\n",
        "    criterion = nn.CrossEntropyLoss()\n",
        "    best = {'loss': float('inf')}\n",
        "\n",
        "    for epoch in range(1, epoch_num + 1):\n",
        "        print(f\"Epoch: {epoch}\")\n",
        "        loss = train_epoch(rnn, data, data_size, epoch, optimizer)\n",
        "        losses.append(loss)\n",
        "\n",
        "        if loss < best['loss']:\n",
        "            print(f\"New best loss: {loss}\")\n",
        "            best['loss'] = loss\n",
        "            torch.save(rnn.state_dict(), model_save_file)\n",
        "\n",
        "    return losses"
      ],
      "metadata": {
        "id": "FKa2cGcVjRje",
        "execution": {
          "iopub.status.busy": "2023-12-03T04:34:39.727201Z",
          "iopub.execute_input": "2023-12-03T04:34:39.727586Z",
          "iopub.status.idle": "2023-12-03T04:34:39.735551Z",
          "shell.execute_reply.started": "2023-12-03T04:34:39.727553Z",
          "shell.execute_reply": "2023-12-03T04:34:39.734405Z"
        },
        "trusted": true
      },
      "execution_count": null,
      "outputs": []
    },
    {
      "cell_type": "code",
      "source": [
        "def finetune_lstm(data, data_size, model_save_file, model_pretrained_path):\n",
        "    # LSTM parameters\n",
        "    hidden_size = 512\n",
        "    num_layers = 3\n",
        "    lr = 0.001\n",
        "    epoch_num = 100\n",
        "    losses = []\n",
        "\n",
        "\n",
        "    lstm =  LSTM(vocab_size, vocab_size, hidden_size, num_layers).to(device)\n",
        "    lstm.load_model(model_pretrained_path)\n",
        "    optimizer = optim.Adam(lstm.parameters(), lr=lr)\n",
        "    criterion = nn.CrossEntropyLoss()\n",
        "    best_loss = float('inf')\n",
        "\n",
        "    best = {'loss': float('inf')}\n",
        "\n",
        "    for epoch in range(1, epoch_num + 1):\n",
        "        print(f\"Epoch: {epoch}\")\n",
        "        loss = train_epoch(lstm, data, data_size, epoch, optimizer)\n",
        "        losses.append(loss)\n",
        "\n",
        "        if loss < best['loss']:\n",
        "            print(f\"New best loss: {loss}\")\n",
        "            best['loss'] = loss\n",
        "            torch.save(lstm.state_dict(), model_save_file)\n",
        "\n",
        "    return losses"
      ],
      "metadata": {
        "id": "ijG0lP75lHfm",
        "execution": {
          "iopub.status.busy": "2023-12-03T05:04:53.582900Z",
          "iopub.execute_input": "2023-12-03T05:04:53.583255Z",
          "iopub.status.idle": "2023-12-03T05:04:53.591167Z",
          "shell.execute_reply.started": "2023-12-03T05:04:53.583229Z",
          "shell.execute_reply": "2023-12-03T05:04:53.589984Z"
        },
        "trusted": true
      },
      "execution_count": null,
      "outputs": []
    },
    {
      "cell_type": "markdown",
      "source": [
        "### RNN"
      ],
      "metadata": {
        "id": "wwqLT0A0mSuo"
      }
    },
    {
      "cell_type": "code",
      "source": [
        "rnn_sh_finetune_losses = finetune_rnn(sh_data, sh_data_size, './model_sh_finetune_rnn.pth', './model_wi_rnn.pth')"
      ],
      "metadata": {
        "id": "DixZCVqZmV8I",
        "execution": {
          "iopub.status.busy": "2023-12-03T04:34:44.228147Z",
          "iopub.execute_input": "2023-12-03T04:34:44.228496Z",
          "iopub.status.idle": "2023-12-03T04:38:17.614923Z",
          "shell.execute_reply.started": "2023-12-03T04:34:44.228470Z",
          "shell.execute_reply": "2023-12-03T04:38:17.613800Z"
        },
        "trusted": true,
        "colab": {
          "base_uri": "https://localhost:8080/"
        },
        "outputId": "c2122ee9-f4a2-4d39-edea-4e33b7566cf9"
      },
      "execution_count": null,
      "outputs": [
        {
          "output_type": "stream",
          "name": "stdout",
          "text": [
            "Epoch: 1\n",
            "New best loss: 2.5131685439854454\n",
            "Epoch: 2\n",
            "New best loss: 2.203711054096483\n",
            "Epoch: 3\n",
            "New best loss: 2.0467276483365935\n",
            "Epoch: 4\n",
            "New best loss: 1.9173606152403844\n",
            "Epoch: 5\n",
            "New best loss: 1.807242307760944\n",
            "Epoch: 6\n",
            "New best loss: 1.71989564128118\n",
            "Epoch: 7\n",
            "New best loss: 1.6610696764841473\n",
            "Epoch: 8\n",
            "New best loss: 1.6198181060895527\n",
            "Epoch: 9\n",
            "New best loss: 1.5844225050651863\n",
            "Epoch: 10\n",
            "New best loss: 1.5532219614068123\n",
            "Epoch: 11\n",
            "New best loss: 1.5128179845744616\n",
            "Epoch: 12\n",
            "New best loss: 1.4712223279966068\n",
            "Epoch: 13\n",
            "New best loss: 1.4212095419021502\n",
            "Epoch: 14\n",
            "New best loss: 1.3828811220926782\n",
            "Epoch: 15\n",
            "New best loss: 1.3473169815866914\n",
            "Epoch: 16\n",
            "New best loss: 1.2943555463666785\n",
            "Epoch: 17\n",
            "New best loss: 1.2694266262936265\n",
            "Epoch: 18\n",
            "New best loss: 1.2444116656910884\n",
            "Epoch: 19\n",
            "New best loss: 1.1941791870822644\n",
            "Epoch: 20\n",
            "Epoch 20, Loss: 1.1557121285020489\n",
            "New best loss: 1.1557121285020489\n",
            "Epoch: 21\n",
            "New best loss: 1.105940099448374\n",
            "Epoch: 22\n",
            "New best loss: 1.092995869786772\n",
            "Epoch: 23\n",
            "New best loss: 1.0730454239943257\n",
            "Epoch: 24\n",
            "New best loss: 1.0545540251960492\n",
            "Epoch: 25\n",
            "New best loss: 1.011628859255412\n",
            "Epoch: 26\n",
            "New best loss: 0.9829550875376348\n",
            "Epoch: 27\n",
            "New best loss: 0.9561723707473442\n",
            "Epoch: 28\n",
            "New best loss: 0.928380161523819\n",
            "Epoch: 29\n",
            "New best loss: 0.9157817200438617\n",
            "Epoch: 30\n",
            "New best loss: 0.8862519872515169\n",
            "Epoch: 31\n",
            "New best loss: 0.8515433987526044\n",
            "Epoch: 32\n",
            "New best loss: 0.8327234869133936\n",
            "Epoch: 33\n",
            "New best loss: 0.8050298364195105\n",
            "Epoch: 34\n",
            "New best loss: 0.7857519241228496\n",
            "Epoch: 35\n",
            "New best loss: 0.7679742950282685\n",
            "Epoch: 36\n",
            "New best loss: 0.7454344152587734\n",
            "Epoch: 37\n",
            "New best loss: 0.7099978033810446\n",
            "Epoch: 38\n",
            "New best loss: 0.6818334521496132\n",
            "Epoch: 39\n",
            "New best loss: 0.6567737856139876\n",
            "Epoch: 40\n",
            "Epoch 40, Loss: 0.6319066533078886\n",
            "New best loss: 0.6319066533078886\n",
            "Epoch: 41\n",
            "New best loss: 0.5889923431693691\n",
            "Epoch: 42\n",
            "New best loss: 0.5759926715942278\n",
            "Epoch: 43\n",
            "New best loss: 0.5336548910565573\n",
            "Epoch: 44\n",
            "Epoch: 45\n",
            "New best loss: 0.5320731360618383\n",
            "Epoch: 46\n",
            "New best loss: 0.5308895668346588\n",
            "Epoch: 47\n",
            "New best loss: 0.5209298860536863\n",
            "Epoch: 48\n",
            "Epoch: 49\n",
            "New best loss: 0.5067091631154491\n",
            "Epoch: 50\n",
            "New best loss: 0.48576709546454966\n",
            "Epoch: 51\n",
            "New best loss: 0.4600973245623994\n",
            "Epoch: 52\n",
            "Epoch: 53\n",
            "New best loss: 0.4549210153213919\n",
            "Epoch: 54\n",
            "Epoch: 55\n",
            "Epoch: 56\n",
            "Epoch: 57\n",
            "Epoch: 58\n",
            "Epoch: 59\n",
            "Epoch: 60\n",
            "Epoch 60, Loss: 0.47874615351631217\n",
            "Epoch: 61\n",
            "New best loss: 0.4336593157216294\n",
            "Epoch: 62\n",
            "New best loss: 0.41815324433862344\n",
            "Epoch: 63\n",
            "New best loss: 0.41364381737905004\n",
            "Epoch: 64\n",
            "Epoch: 65\n",
            "Epoch: 66\n",
            "Epoch: 67\n",
            "Epoch: 68\n",
            "Epoch: 69\n",
            "Epoch: 70\n",
            "Epoch: 71\n",
            "Epoch: 72\n",
            "Epoch: 73\n",
            "Epoch: 74\n",
            "Epoch: 75\n",
            "Epoch: 76\n",
            "Epoch: 77\n",
            "Epoch: 78\n",
            "Epoch: 79\n",
            "Epoch: 80\n",
            "Epoch 80, Loss: 0.5775406164665745\n",
            "Epoch: 81\n",
            "Epoch: 82\n",
            "Epoch: 83\n",
            "Epoch: 84\n",
            "Epoch: 85\n",
            "Epoch: 86\n",
            "Epoch: 87\n",
            "Epoch: 88\n",
            "Epoch: 89\n",
            "Epoch: 90\n",
            "Epoch: 91\n",
            "Epoch: 92\n",
            "Epoch: 93\n",
            "Epoch: 94\n",
            "Epoch: 95\n",
            "Epoch: 96\n",
            "Epoch: 97\n",
            "Epoch: 98\n",
            "Epoch: 99\n",
            "Epoch: 100\n",
            "Epoch 100, Loss: 2.831378321125083\n"
          ]
        }
      ]
    },
    {
      "cell_type": "markdown",
      "source": [
        "### LSTM"
      ],
      "metadata": {
        "id": "By2oc0qlmUeq"
      }
    },
    {
      "cell_type": "code",
      "source": [
        "lstm_sh_finetune_losses = finetune_lstm(sh_data, sh_data_size, './model_sh_finetune_lstm.pth', './model_wi_lstm.pth')"
      ],
      "metadata": {
        "id": "m5tlC-O6nJdv",
        "execution": {
          "iopub.status.busy": "2023-12-03T05:04:57.479299Z",
          "iopub.execute_input": "2023-12-03T05:04:57.479688Z",
          "iopub.status.idle": "2023-12-03T05:11:38.751371Z",
          "shell.execute_reply.started": "2023-12-03T05:04:57.479654Z",
          "shell.execute_reply": "2023-12-03T05:11:38.750204Z"
        },
        "trusted": true,
        "colab": {
          "base_uri": "https://localhost:8080/"
        },
        "outputId": "7dab4f65-7a27-46ab-adf0-f21cefe55b3f"
      },
      "execution_count": null,
      "outputs": [
        {
          "output_type": "stream",
          "name": "stdout",
          "text": [
            "Epoch: 1\n",
            "New best loss: 2.9529666018812626\n",
            "Epoch: 2\n",
            "New best loss: 2.5557982709309828\n",
            "Epoch: 3\n",
            "New best loss: 2.183101026162709\n",
            "Epoch: 4\n",
            "New best loss: 1.9933610052278596\n",
            "Epoch: 5\n",
            "New best loss: 1.8417481820877284\n",
            "Epoch: 6\n",
            "New best loss: 1.715362014019326\n",
            "Epoch: 7\n",
            "New best loss: 1.5983064044011783\n",
            "Epoch: 8\n",
            "New best loss: 1.4867717868661228\n",
            "Epoch: 9\n",
            "New best loss: 1.3888598308987814\n",
            "Epoch: 10\n",
            "New best loss: 1.2913216372875318\n",
            "Epoch: 11\n",
            "New best loss: 1.180022173548398\n",
            "Epoch: 12\n",
            "New best loss: 1.060013661645863\n",
            "Epoch: 13\n",
            "New best loss: 0.9357607303416893\n",
            "Epoch: 14\n",
            "New best loss: 0.8208682614646546\n",
            "Epoch: 15\n",
            "New best loss: 0.7066293442494249\n",
            "Epoch: 16\n",
            "New best loss: 0.5998398281940042\n",
            "Epoch: 17\n",
            "New best loss: 0.508492406508694\n",
            "Epoch: 18\n",
            "New best loss: 0.4213296109682893\n",
            "Epoch: 19\n",
            "New best loss: 0.3444414114298886\n",
            "Epoch: 20\n",
            "Epoch 20, Loss: 0.2823282831335721\n",
            "New best loss: 0.2823282831335721\n",
            "Epoch: 21\n",
            "New best loss: 0.24694480236670743\n",
            "Epoch: 22\n",
            "New best loss: 0.21024026262433562\n",
            "Epoch: 23\n",
            "New best loss: 0.18008835720893454\n",
            "Epoch: 24\n",
            "New best loss: 0.15527881493103013\n",
            "Epoch: 25\n",
            "New best loss: 0.1323084995558817\n",
            "Epoch: 26\n",
            "New best loss: 0.11790320170048164\n",
            "Epoch: 27\n",
            "New best loss: 0.09508763970679616\n",
            "Epoch: 28\n",
            "New best loss: 0.07982423677019877\n",
            "Epoch: 29\n",
            "New best loss: 0.07111369514812345\n",
            "Epoch: 30\n",
            "New best loss: 0.06118725593622825\n",
            "Epoch: 31\n",
            "New best loss: 0.054360529242006884\n",
            "Epoch: 32\n",
            "New best loss: 0.04544166563563559\n",
            "Epoch: 33\n",
            "New best loss: 0.03859223644823244\n",
            "Epoch: 34\n",
            "New best loss: 0.0331339802248531\n",
            "Epoch: 35\n",
            "New best loss: 0.02878206824781756\n",
            "Epoch: 36\n",
            "New best loss: 0.024339864052806612\n",
            "Epoch: 37\n",
            "New best loss: 0.02162732037537004\n",
            "Epoch: 38\n",
            "New best loss: 0.020483755630964082\n",
            "Epoch: 39\n",
            "New best loss: 0.019289547772057457\n",
            "Epoch: 40\n",
            "Epoch 40, Loss: 0.020328484643059336\n",
            "Epoch: 41\n",
            "Epoch: 42\n",
            "Epoch: 43\n",
            "Epoch: 44\n",
            "Epoch: 45\n",
            "Epoch: 46\n",
            "Epoch: 47\n",
            "Epoch: 48\n",
            "Epoch: 49\n",
            "Epoch: 50\n",
            "Epoch: 51\n",
            "Epoch: 52\n",
            "New best loss: 0.01896755438144893\n",
            "Epoch: 53\n",
            "New best loss: 0.017302591836858183\n",
            "Epoch: 54\n",
            "New best loss: 0.016730760744045656\n",
            "Epoch: 55\n",
            "New best loss: 0.01642533637302583\n",
            "Epoch: 56\n",
            "New best loss: 0.01629471010289295\n",
            "Epoch: 57\n",
            "New best loss: 0.01613514164577506\n",
            "Epoch: 58\n",
            "New best loss: 0.016092226823013634\n",
            "Epoch: 59\n",
            "Epoch: 60\n",
            "Epoch 60, Loss: 0.016123599241238903\n",
            "Epoch: 61\n",
            "Epoch: 62\n",
            "Epoch: 63\n",
            "Epoch: 64\n",
            "Epoch: 65\n",
            "Epoch: 66\n",
            "Epoch: 67\n",
            "Epoch: 68\n",
            "Epoch: 69\n",
            "Epoch: 70\n",
            "Epoch: 71\n",
            "Epoch: 72\n",
            "Epoch: 73\n",
            "Epoch: 74\n",
            "Epoch: 75\n",
            "Epoch: 76\n",
            "Epoch: 77\n",
            "Epoch: 78\n",
            "Epoch: 79\n",
            "Epoch: 80\n",
            "Epoch 80, Loss: 0.01613265538128884\n",
            "Epoch: 81\n",
            "New best loss: 0.01606796133413286\n",
            "Epoch: 82\n",
            "New best loss: 0.015999379223340177\n",
            "Epoch: 83\n",
            "New best loss: 0.015927575614737118\n",
            "Epoch: 84\n",
            "New best loss: 0.015852906351290285\n",
            "Epoch: 85\n",
            "New best loss: 0.015775736870462624\n",
            "Epoch: 86\n",
            "New best loss: 0.01569623065803819\n",
            "Epoch: 87\n",
            "New best loss: 0.015615163726392458\n",
            "Epoch: 88\n",
            "New best loss: 0.015532322253071868\n",
            "Epoch: 89\n",
            "New best loss: 0.015449099783101501\n",
            "Epoch: 90\n",
            "New best loss: 0.015364615536296472\n",
            "Epoch: 91\n",
            "New best loss: 0.015281187833489352\n",
            "Epoch: 92\n",
            "New best loss: 0.015196054713196147\n",
            "Epoch: 93\n",
            "New best loss: 0.015109184225391252\n",
            "Epoch: 94\n",
            "New best loss: 0.015018452927892811\n",
            "Epoch: 95\n",
            "New best loss: 0.014934066850700008\n",
            "Epoch: 96\n",
            "New best loss: 0.014847549704925718\n",
            "Epoch: 97\n",
            "New best loss: 0.014760886095918727\n",
            "Epoch: 98\n",
            "New best loss: 0.014675583451394667\n",
            "Epoch: 99\n",
            "New best loss: 0.014589995409426605\n",
            "Epoch: 100\n",
            "Epoch 100, Loss: 0.014508897704766004\n",
            "New best loss: 0.014508897704766004\n"
          ]
        }
      ]
    },
    {
      "cell_type": "markdown",
      "source": [
        "## Plotting Losses"
      ],
      "metadata": {
        "id": "gPr9aM-COlGM"
      }
    },
    {
      "cell_type": "code",
      "source": [
        "def plot_losses_together(losses1, losses2):\n",
        "    xpoints = np.array(range(len(losses1)))\n",
        "    ypoints1 = np.array(losses1)\n",
        "    ypoints2 = np.array(losses2)\n",
        "\n",
        "    plt.plot(xpoints, ypoints1, color='blue',label='base_losses' )\n",
        "    plt.plot(xpoints, ypoints2, color='red',label='finetune_losses' )\n",
        "    plt.xlabel(\"epoch\")\n",
        "    plt.ylabel(\"loss\")\n",
        "    plt.legend()\n",
        "    plt.show()"
      ],
      "metadata": {
        "id": "seWKCPaCnQ2N",
        "execution": {
          "iopub.status.busy": "2023-12-03T04:41:08.459763Z",
          "iopub.execute_input": "2023-12-03T04:41:08.460199Z",
          "iopub.status.idle": "2023-12-03T04:41:08.467123Z",
          "shell.execute_reply.started": "2023-12-03T04:41:08.460165Z",
          "shell.execute_reply": "2023-12-03T04:41:08.465938Z"
        },
        "trusted": true
      },
      "execution_count": null,
      "outputs": []
    },
    {
      "cell_type": "markdown",
      "source": [
        "### RNN"
      ],
      "metadata": {
        "id": "pl3ao3hXnne2"
      }
    },
    {
      "cell_type": "code",
      "source": [
        "plot_losses_together(rnn_sh_losses, rnn_sh_finetune_losses)"
      ],
      "metadata": {
        "id": "oCiLrTAahpTr",
        "execution": {
          "iopub.status.busy": "2023-12-03T04:41:09.792065Z",
          "iopub.execute_input": "2023-12-03T04:41:09.792727Z",
          "iopub.status.idle": "2023-12-03T04:41:09.996447Z",
          "shell.execute_reply.started": "2023-12-03T04:41:09.792690Z",
          "shell.execute_reply": "2023-12-03T04:41:09.995528Z"
        },
        "trusted": true,
        "colab": {
          "base_uri": "https://localhost:8080/",
          "height": 449
        },
        "outputId": "1f606898-88be-4d94-d9cb-e469659f207f"
      },
      "execution_count": null,
      "outputs": [
        {
          "output_type": "display_data",
          "data": {
            "text/plain": [
              "<Figure size 640x480 with 1 Axes>"
            ],
            "image/png": "[encoded data removed]"
          },
          "metadata": {}
        }
      ]
    },
    {
      "cell_type": "markdown",
      "source": [
        "### LSTM"
      ],
      "metadata": {
        "id": "kGI_uZZhnpdF"
      }
    },
    {
      "cell_type": "code",
      "source": [
        "plot_losses_together(lstm_sh_losses, lstm_sh_finetune_losses)"
      ],
      "metadata": {
        "id": "liBF6jxUnPpO",
        "execution": {
          "iopub.status.busy": "2023-12-03T05:25:52.662649Z",
          "iopub.execute_input": "2023-12-03T05:25:52.663819Z",
          "iopub.status.idle": "2023-12-03T05:25:52.935780Z",
          "shell.execute_reply.started": "2023-12-03T05:25:52.663733Z",
          "shell.execute_reply": "2023-12-03T05:25:52.934727Z"
        },
        "trusted": true,
        "colab": {
          "base_uri": "https://localhost:8080/",
          "height": 449
        },
        "outputId": "2d96f1d0-0beb-46dd-ce80-dcee0a4d2f19"
      },
      "execution_count": null,
      "outputs": [
        {
          "output_type": "display_data",
          "data": {
            "text/plain": [
              "<Figure size 640x480 with 1 Axes>"
            ],
            "image/png": "[encoded data removed]"
          },
          "metadata": {}
        }
      ]
    },
    {
      "cell_type": "markdown",
      "source": [
        "## Report"
      ],
      "metadata": {
        "id": "_3bCGDXxOvGv"
      }
    },
    {
      "cell_type": "markdown",
      "source": [
        "As you can see, fine-tuning has an effect in improving the training of the main model.\n",
        "\n",
        "By analyzing the obtained results, state the advantage of finetuning after pre-training the model by public dataset, and compare its performance in different models"
      ],
      "metadata": {
        "id": "SOiRxwHGnnag"
      }
    },
    {
      "cell_type": "markdown",
      "source": [
        "<font color='#73FF73'><b>Your answer : </b></font>The process of fine-tuning capitalizes on the insights acquired by a model that has been pre-trained on a substantial dataset, and applies this knowledge to a new, potentially smaller dataset. This strategy proves especially beneficial when the new task has scarce labeled data, as the pre-trained model contributes broad knowledge gleaned from a distinct yet associated task. It’s clear that fine-tuning has enhanced the model’s performance."
      ],
      "metadata": {
        "id": "NAEoxdCInnW-"
      }
    },
    {
      "cell_type": "markdown",
      "source": [
        "----\n",
        "----"
      ],
      "metadata": {
        "id": "6mVIAlPZLjaw"
      }
    },
    {
      "cell_type": "markdown",
      "source": [
        "#3. Experiment on different datasets"
      ],
      "metadata": {
        "id": "L3RR1kMxnnUf"
      }
    },
    {
      "cell_type": "markdown",
      "source": [
        "In the previous section, you saw the performance results of the text generation model using the Shakespeare plays dataset. In the following, you will check the results of the LSTM model on the dialogues of the `Friends series`"
      ],
      "metadata": {
        "id": "P7BcgGRrqBqz"
      }
    },
    {
      "cell_type": "markdown",
      "source": [
        "## Load dataset"
      ],
      "metadata": {
        "id": "Wa54a7knq4N6"
      }
    },
    {
      "cell_type": "code",
      "source": [
        "!wget https://raw.githubusercontent.com/rfordatascience/tidytuesday/master/data/2020/2020-09-08/friends.csv -O ./data/Friends.csv"
      ],
      "metadata": {
        "id": "u2XhR0uprKNF",
        "execution": {
          "iopub.status.busy": "2023-12-03T04:18:27.848308Z",
          "iopub.execute_input": "2023-12-03T04:18:27.849031Z",
          "iopub.status.idle": "2023-12-03T04:18:29.199604Z",
          "shell.execute_reply.started": "2023-12-03T04:18:27.848995Z",
          "shell.execute_reply": "2023-12-03T04:18:29.198607Z"
        },
        "trusted": true,
        "colab": {
          "base_uri": "https://localhost:8080/"
        },
        "outputId": "440a10e9-c0c5-4f5b-95da-d0f52d1eee48"
      },
      "execution_count": null,
      "outputs": [
        {
          "output_type": "stream",
          "name": "stdout",
          "text": [
            "--2023-12-08 13:41:54--  https://raw.githubusercontent.com/rfordatascience/tidytuesday/master/data/2020/2020-09-08/friends.csv\n",
            "Resolving raw.githubusercontent.com (raw.githubusercontent.com)... 185.199.108.133, 185.199.110.133, 185.199.111.133, ...\n",
            "Connecting to raw.githubusercontent.com (raw.githubusercontent.com)|185.199.108.133|:443... connected.\n",
            "HTTP request sent, awaiting response... 200 OK\n",
            "Length: 5383844 (5.1M) [text/plain]\n",
            "Saving to: ‘./data/Friends.csv’\n",
            "\n",
            "./data/Friends.csv  100%[===================>]   5.13M  --.-KB/s    in 0.06s   \n",
            "\n",
            "2023-12-08 13:41:54 (92.2 MB/s) - ‘./data/Friends.csv’ saved [5383844/5383844]\n",
            "\n"
          ]
        }
      ]
    },
    {
      "cell_type": "markdown",
      "source": [
        "## preprocessing"
      ],
      "metadata": {
        "id": "0X_z5mS3q7EN"
      }
    },
    {
      "cell_type": "code",
      "source": [
        "friends = pd.read_csv('./data/Friends.csv')\n",
        "friends = friends.dropna()\n",
        "friends = friends[friends['speaker'].str.contains('SCENE')==False]\n",
        "friends['speaker'] = friends['speaker'].apply(lambda sp: sp.lower().capitalize().split(' ')[0])\n",
        "friends_texts = friends.drop(['episode','season','scene','utterance'], axis='columns')\n",
        "friends_texts.head()"
      ],
      "metadata": {
        "id": "7IbK2Ean-l1w",
        "execution": {
          "iopub.status.busy": "2023-12-03T04:18:29.201595Z",
          "iopub.execute_input": "2023-12-03T04:18:29.201940Z",
          "iopub.status.idle": "2023-12-03T04:18:29.466364Z",
          "shell.execute_reply.started": "2023-12-03T04:18:29.201910Z",
          "shell.execute_reply": "2023-12-03T04:18:29.465297Z"
        },
        "trusted": true,
        "colab": {
          "base_uri": "https://localhost:8080/",
          "height": 206
        },
        "outputId": "335a3565-e0ad-4e58-aa53-4a8be830afd8"
      },
      "execution_count": null,
      "outputs": [
        {
          "output_type": "execute_result",
          "data": {
            "text/plain": [
              "                                                text   speaker\n",
              "0  There's nothing to tell! He's just some guy I ...    Monica\n",
              "1  C'mon, you're going out with the guy! There's ...      Joey\n",
              "2  All right Joey, be nice. So does he have a hum...  Chandler\n",
              "3                           Wait, does he eat chalk?    Phoebe\n",
              "4                         (They all stare, bemused.)     Scene"
            ],
            "text/html": [
              "\n",
              "  <div id=\"df-bff91503-e0b6-471c-8458-1aea22429350\" class=\"colab-df-container\">\n",
              "    <div>\n",
              "<style scoped>\n",
              "    .dataframe tbody tr th:only-of-type {\n",
              "        vertical-align: middle;\n",
              "    }\n",
              "\n",
              "    .dataframe tbody tr th {\n",
              "        vertical-align: top;\n",
              "    }\n",
              "\n",
              "    .dataframe thead th {\n",
              "        text-align: right;\n",
              "    }\n",
              "</style>\n",
              "<table border=\"1\" class=\"dataframe\">\n",
              "  <thead>\n",
              "    <tr style=\"text-align: right;\">\n",
              "      <th></th>\n",
              "      <th>text</th>\n",
              "      <th>speaker</th>\n",
              "    </tr>\n",
              "  </thead>\n",
              "  <tbody>\n",
              "    <tr>\n",
              "      <th>0</th>\n",
              "      <td>There's nothing to tell! He's just some guy I ...</td>\n",
              "      <td>Monica</td>\n",
              "    </tr>\n",
              "    <tr>\n",
              "      <th>1</th>\n",
              "      <td>C'mon, you're going out with the guy! There's ...</td>\n",
              "      <td>Joey</td>\n",
              "    </tr>\n",
              "    <tr>\n",
              "      <th>2</th>\n",
              "      <td>All right Joey, be nice. So does he have a hum...</td>\n",
              "      <td>Chandler</td>\n",
              "    </tr>\n",
              "    <tr>\n",
              "      <th>3</th>\n",
              "      <td>Wait, does he eat chalk?</td>\n",
              "      <td>Phoebe</td>\n",
              "    </tr>\n",
              "    <tr>\n",
              "      <th>4</th>\n",
              "      <td>(They all stare, bemused.)</td>\n",
              "      <td>Scene</td>\n",
              "    </tr>\n",
              "  </tbody>\n",
              "</table>\n",
              "</div>\n",
              "    <div class=\"colab-df-buttons\">\n",
              "\n",
              "  <div class=\"colab-df-container\">\n",
              "    <button class=\"colab-df-convert\" onclick=\"convertToInteractive('df-bff91503-e0b6-471c-8458-1aea22429350')\"\n",
              "            title=\"Convert this dataframe to an interactive table.\"\n",
              "            style=\"display:none;\">\n",
              "\n",
              "  <svg xmlns=\"http://www.w3.org/2000/svg\" height=\"24px\" viewBox=\"0 -960 960 960\">\n",
              "    <path d=\"M120-120v-720h720v720H120Zm60-500h600v-160H180v160Zm220 220h160v-160H400v160Zm0 220h160v-160H400v160ZM180-400h160v-160H180v160Zm440 0h160v-160H620v160ZM180-180h160v-160H180v160Zm440 0h160v-160H620v160Z\"/>\n",
              "  </svg>\n",
              "    </button>\n",
              "\n",
              "  <style>\n",
              "    .colab-df-container {\n",
              "      display:flex;\n",
              "      gap: 12px;\n",
              "    }\n",
              "\n",
              "    .colab-df-convert {\n",
              "      background-color: #E8F0FE;\n",
              "      border: none;\n",
              "      border-radius: 50%;\n",
              "      cursor: pointer;\n",
              "      display: none;\n",
              "      fill: #1967D2;\n",
              "      height: 32px;\n",
              "      padding: 0 0 0 0;\n",
              "      width: 32px;\n",
              "    }\n",
              "\n",
              "    .colab-df-convert:hover {\n",
              "      background-color: #E2EBFA;\n",
              "      box-shadow: 0px 1px 2px rgba(60, 64, 67, 0.3), 0px 1px 3px 1px rgba(60, 64, 67, 0.15);\n",
              "      fill: #174EA6;\n",
              "    }\n",
              "\n",
              "    .colab-df-buttons div {\n",
              "      margin-bottom: 4px;\n",
              "    }\n",
              "\n",
              "    [theme=dark] .colab-df-convert {\n",
              "      background-color: #3B4455;\n",
              "      fill: #D2E3FC;\n",
              "    }\n",
              "\n",
              "    [theme=dark] .colab-df-convert:hover {\n",
              "      background-color: #434B5C;\n",
              "      box-shadow: 0px 1px 3px 1px rgba(0, 0, 0, 0.15);\n",
              "      filter: drop-shadow(0px 1px 2px rgba(0, 0, 0, 0.3));\n",
              "      fill: #FFFFFF;\n",
              "    }\n",
              "  </style>\n",
              "\n",
              "    <script>\n",
              "      const buttonEl =\n",
              "        document.querySelector('#df-bff91503-e0b6-471c-8458-1aea22429350 button.colab-df-convert');\n",
              "      buttonEl.style.display =\n",
              "        google.colab.kernel.accessAllowed ? 'block' : 'none';\n",
              "\n",
              "      async function convertToInteractive(key) {\n",
              "        const element = document.querySelector('#df-bff91503-e0b6-471c-8458-1aea22429350');\n",
              "        const dataTable =\n",
              "          await google.colab.kernel.invokeFunction('convertToInteractive',\n",
              "                                                    [key], {});\n",
              "        if (!dataTable) return;\n",
              "\n",
              "        const docLinkHtml = 'Like what you see? Visit the ' +\n",
              "          '<a target=\"_blank\" href=https://colab.research.google.com/notebooks/data_table.ipynb>data table notebook</a>'\n",
              "          + ' to learn more about interactive tables.';\n",
              "        element.innerHTML = '';\n",
              "        dataTable['output_type'] = 'display_data';\n",
              "        await google.colab.output.renderOutput(dataTable, element);\n",
              "        const docLink = document.createElement('div');\n",
              "        docLink.innerHTML = docLinkHtml;\n",
              "        element.appendChild(docLink);\n",
              "      }\n",
              "    </script>\n",
              "  </div>\n",
              "\n",
              "\n",
              "<div id=\"df-9b637c2a-891e-42fa-ac3e-079d9a6b09e9\">\n",
              "  <button class=\"colab-df-quickchart\" onclick=\"quickchart('df-9b637c2a-891e-42fa-ac3e-079d9a6b09e9')\"\n",
              "            title=\"Suggest charts\"\n",
              "            style=\"display:none;\">\n",
              "\n",
              "<svg xmlns=\"http://www.w3.org/2000/svg\" height=\"24px\"viewBox=\"0 0 24 24\"\n",
              "     width=\"24px\">\n",
              "    <g>\n",
              "        <path d=\"M19 3H5c-1.1 0-2 .9-2 2v14c0 1.1.9 2 2 2h14c1.1 0 2-.9 2-2V5c0-1.1-.9-2-2-2zM9 17H7v-7h2v7zm4 0h-2V7h2v10zm4 0h-2v-4h2v4z\"/>\n",
              "    </g>\n",
              "</svg>\n",
              "  </button>\n",
              "\n",
              "<style>\n",
              "  .colab-df-quickchart {\n",
              "      --bg-color: #E8F0FE;\n",
              "      --fill-color: #1967D2;\n",
              "      --hover-bg-color: #E2EBFA;\n",
              "      --hover-fill-color: #174EA6;\n",
              "      --disabled-fill-color: #AAA;\n",
              "      --disabled-bg-color: #DDD;\n",
              "  }\n",
              "\n",
              "  [theme=dark] .colab-df-quickchart {\n",
              "      --bg-color: #3B4455;\n",
              "      --fill-color: #D2E3FC;\n",
              "      --hover-bg-color: #434B5C;\n",
              "      --hover-fill-color: #FFFFFF;\n",
              "      --disabled-bg-color: #3B4455;\n",
              "      --disabled-fill-color: #666;\n",
              "  }\n",
              "\n",
              "  .colab-df-quickchart {\n",
              "    background-color: var(--bg-color);\n",
              "    border: none;\n",
              "    border-radius: 50%;\n",
              "    cursor: pointer;\n",
              "    display: none;\n",
              "    fill: var(--fill-color);\n",
              "    height: 32px;\n",
              "    padding: 0;\n",
              "    width: 32px;\n",
              "  }\n",
              "\n",
              "  .colab-df-quickchart:hover {\n",
              "    background-color: var(--hover-bg-color);\n",
              "    box-shadow: 0 1px 2px rgba(60, 64, 67, 0.3), 0 1px 3px 1px rgba(60, 64, 67, 0.15);\n",
              "    fill: var(--button-hover-fill-color);\n",
              "  }\n",
              "\n",
              "  .colab-df-quickchart-complete:disabled,\n",
              "  .colab-df-quickchart-complete:disabled:hover {\n",
              "    background-color: var(--disabled-bg-color);\n",
              "    fill: var(--disabled-fill-color);\n",
              "    box-shadow: none;\n",
              "  }\n",
              "\n",
              "  .colab-df-spinner {\n",
              "    border: 2px solid var(--fill-color);\n",
              "    border-color: transparent;\n",
              "    border-bottom-color: var(--fill-color);\n",
              "    animation:\n",
              "      spin 1s steps(1) infinite;\n",
              "  }\n",
              "\n",
              "  @keyframes spin {\n",
              "    0% {\n",
              "      border-color: transparent;\n",
              "      border-bottom-color: var(--fill-color);\n",
              "      border-left-color: var(--fill-color);\n",
              "    }\n",
              "    20% {\n",
              "      border-color: transparent;\n",
              "      border-left-color: var(--fill-color);\n",
              "      border-top-color: var(--fill-color);\n",
              "    }\n",
              "    30% {\n",
              "      border-color: transparent;\n",
              "      border-left-color: var(--fill-color);\n",
              "      border-top-color: var(--fill-color);\n",
              "      border-right-color: var(--fill-color);\n",
              "    }\n",
              "    40% {\n",
              "      border-color: transparent;\n",
              "      border-right-color: var(--fill-color);\n",
              "      border-top-color: var(--fill-color);\n",
              "    }\n",
              "    60% {\n",
              "      border-color: transparent;\n",
              "      border-right-color: var(--fill-color);\n",
              "    }\n",
              "    80% {\n",
              "      border-color: transparent;\n",
              "      border-right-color: var(--fill-color);\n",
              "      border-bottom-color: var(--fill-color);\n",
              "    }\n",
              "    90% {\n",
              "      border-color: transparent;\n",
              "      border-bottom-color: var(--fill-color);\n",
              "    }\n",
              "  }\n",
              "</style>\n",
              "\n",
              "  <script>\n",
              "    async function quickchart(key) {\n",
              "      const quickchartButtonEl =\n",
              "        document.querySelector('#' + key + ' button');\n",
              "      quickchartButtonEl.disabled = true;  // To prevent multiple clicks.\n",
              "      quickchartButtonEl.classList.add('colab-df-spinner');\n",
              "      try {\n",
              "        const charts = await google.colab.kernel.invokeFunction(\n",
              "            'suggestCharts', [key], {});\n",
              "      } catch (error) {\n",
              "        console.error('Error during call to suggestCharts:', error);\n",
              "      }\n",
              "      quickchartButtonEl.classList.remove('colab-df-spinner');\n",
              "      quickchartButtonEl.classList.add('colab-df-quickchart-complete');\n",
              "    }\n",
              "    (() => {\n",
              "      let quickchartButtonEl =\n",
              "        document.querySelector('#df-9b637c2a-891e-42fa-ac3e-079d9a6b09e9 button');\n",
              "      quickchartButtonEl.style.display =\n",
              "        google.colab.kernel.accessAllowed ? 'block' : 'none';\n",
              "    })();\n",
              "  </script>\n",
              "</div>\n",
              "    </div>\n",
              "  </div>\n"
            ]
          },
          "metadata": {},
          "execution_count": 62
        }
      ]
    },
    {
      "cell_type": "code",
      "source": [
        "f = open(\"./data/fiends.txt\", \"w\")\n",
        "for i,row in friends_texts.iterrows():\n",
        "    f.write(row['speaker'] + ':\\n' + row['text'] + '\\n\\n')\n",
        "\n",
        "f.close()"
      ],
      "metadata": {
        "id": "mEaZR1jS-q_W",
        "execution": {
          "iopub.status.busy": "2023-12-03T04:18:32.689915Z",
          "iopub.execute_input": "2023-12-03T04:18:32.690308Z",
          "iopub.status.idle": "2023-12-03T04:18:37.043976Z",
          "shell.execute_reply.started": "2023-12-03T04:18:32.690267Z",
          "shell.execute_reply": "2023-12-03T04:18:37.043089Z"
        },
        "trusted": true
      },
      "execution_count": null,
      "outputs": []
    },
    {
      "cell_type": "code",
      "source": [
        "fr_data_file = \"./data/fiends.txt\"\n",
        "fr_data = open(fr_data_file, 'r').read(30000)\n",
        "fr_data = remove_extraneous_characters(fr_data.lower(), chars)\n",
        "fr_data_size = len(fr_data)\n",
        "\n",
        "fr_data = list(fr_data)\n",
        "for i, ch in enumerate(fr_data):\n",
        "    fr_data[i] = char_to_ix[ch]\n",
        "\n",
        "fr_data = torch.tensor(fr_data).to(device)\n",
        "fr_data = torch.unsqueeze(fr_data, dim=1)"
      ],
      "metadata": {
        "id": "1SPBHV5u-62e",
        "execution": {
          "iopub.status.busy": "2023-12-03T04:18:37.045397Z",
          "iopub.execute_input": "2023-12-03T04:18:37.045685Z",
          "iopub.status.idle": "2023-12-03T04:18:37.071388Z",
          "shell.execute_reply.started": "2023-12-03T04:18:37.045659Z",
          "shell.execute_reply": "2023-12-03T04:18:37.070281Z"
        },
        "trusted": true
      },
      "execution_count": null,
      "outputs": []
    },
    {
      "cell_type": "code",
      "source": [
        "revised_input = torch.zeros(fr_data.shape[0],30)\n",
        "for i in range(fr_data.shape[0]):\n",
        "    revised_input[i][fr_data[i][0]] = 1\n",
        "revised_input.shape"
      ],
      "metadata": {
        "execution": {
          "iopub.status.busy": "2023-12-03T05:27:26.825810Z",
          "iopub.execute_input": "2023-12-03T05:27:26.826205Z",
          "iopub.status.idle": "2023-12-03T05:27:27.624565Z",
          "shell.execute_reply.started": "2023-12-03T05:27:26.826176Z",
          "shell.execute_reply": "2023-12-03T05:27:27.623477Z"
        },
        "trusted": true,
        "colab": {
          "base_uri": "https://localhost:8080/"
        },
        "id": "6gdTWi5iNkA8",
        "outputId": "75080341-c5ec-4fbf-f874-b723c28ebd84"
      },
      "execution_count": null,
      "outputs": [
        {
          "output_type": "execute_result",
          "data": {
            "text/plain": [
              "torch.Size([28651, 30])"
            ]
          },
          "metadata": {},
          "execution_count": 65
        }
      ]
    },
    {
      "cell_type": "markdown",
      "source": [
        "## Train finetuned LSTM by friends dataset"
      ],
      "metadata": {
        "id": "6drMR6Gtq_jj"
      }
    },
    {
      "cell_type": "code",
      "source": [
        "lstm_fr_finetune_losses = finetune_lstm(revised_input, fr_data_size, './model_fr_lstm.pth', './model_wi_lstm.pth')"
      ],
      "metadata": {
        "id": "J7ruLz2r_O3r",
        "execution": {
          "iopub.status.busy": "2023-12-03T05:28:02.089764Z",
          "iopub.execute_input": "2023-12-03T05:28:02.090734Z",
          "iopub.status.idle": "2023-12-03T05:34:35.199336Z",
          "shell.execute_reply.started": "2023-12-03T05:28:02.090689Z",
          "shell.execute_reply": "2023-12-03T05:34:35.198366Z"
        },
        "trusted": true,
        "colab": {
          "base_uri": "https://localhost:8080/"
        },
        "outputId": "8332ce80-dbfd-45b1-ce44-38c6fe682dfc"
      },
      "execution_count": null,
      "outputs": [
        {
          "output_type": "stream",
          "name": "stdout",
          "text": [
            "Epoch: 1\n",
            "New best loss: 3.000496514969402\n",
            "Epoch: 2\n",
            "New best loss: 2.4460866186353893\n",
            "Epoch: 3\n",
            "New best loss: 2.0499328126509986\n",
            "Epoch: 4\n",
            "New best loss: 1.8477880987856123\n",
            "Epoch: 5\n",
            "New best loss: 1.689639561706119\n",
            "Epoch: 6\n",
            "New best loss: 1.5736354274882212\n",
            "Epoch: 7\n",
            "New best loss: 1.476461221774419\n",
            "Epoch: 8\n",
            "New best loss: 1.3755326407651107\n",
            "Epoch: 9\n",
            "New best loss: 1.2860090902282133\n",
            "Epoch: 10\n",
            "New best loss: 1.1948291982213657\n",
            "Epoch: 11\n",
            "New best loss: 1.0966790434386995\n",
            "Epoch: 12\n",
            "New best loss: 0.9947223688165346\n",
            "Epoch: 13\n",
            "New best loss: 0.8898273710575368\n",
            "Epoch: 14\n",
            "New best loss: 0.7860309096674124\n",
            "Epoch: 15\n",
            "New best loss: 0.6925450513760248\n",
            "Epoch: 16\n",
            "New best loss: 0.5987975812620587\n",
            "Epoch: 17\n",
            "New best loss: 0.5252489830470748\n",
            "Epoch: 18\n",
            "New best loss: 0.45796477649774814\n",
            "Epoch: 19\n",
            "New best loss: 0.3925653455985917\n",
            "Epoch: 20\n",
            "Epoch 20, Loss: 0.32538007644729483\n",
            "New best loss: 0.32538007644729483\n",
            "Epoch: 21\n",
            "New best loss: 0.27412295972721445\n",
            "Epoch: 22\n",
            "New best loss: 0.23109300724334186\n",
            "Epoch: 23\n",
            "New best loss: 0.1957456421934896\n",
            "Epoch: 24\n",
            "New best loss: 0.1690773533967634\n",
            "Epoch: 25\n",
            "New best loss: 0.1494540154106087\n",
            "Epoch: 26\n",
            "New best loss: 0.13938998208484715\n",
            "Epoch: 27\n",
            "New best loss: 0.11936985235661268\n",
            "Epoch: 28\n",
            "New best loss: 0.10910942312330008\n",
            "Epoch: 29\n",
            "New best loss: 0.09399941757631798\n",
            "Epoch: 30\n",
            "New best loss: 0.08077564535455571\n",
            "Epoch: 31\n",
            "New best loss: 0.06791551885867698\n",
            "Epoch: 32\n",
            "New best loss: 0.053393943054187626\n",
            "Epoch: 33\n",
            "New best loss: 0.04832847431922952\n",
            "Epoch: 34\n",
            "New best loss: 0.042791343630395\n",
            "Epoch: 35\n",
            "New best loss: 0.03664687640654544\n",
            "Epoch: 36\n",
            "New best loss: 0.03185035858122218\n",
            "Epoch: 37\n",
            "New best loss: 0.02908950410912641\n",
            "Epoch: 38\n",
            "New best loss: 0.025457938492763788\n",
            "Epoch: 39\n",
            "New best loss: 0.02307074390571668\n",
            "Epoch: 40\n",
            "Epoch 40, Loss: 0.023878633368035987\n",
            "Epoch: 41\n",
            "New best loss: 0.022185767160004213\n",
            "Epoch: 42\n",
            "Epoch: 43\n",
            "Epoch: 44\n",
            "Epoch: 45\n",
            "Epoch: 46\n",
            "Epoch: 47\n",
            "Epoch: 48\n",
            "Epoch: 49\n",
            "Epoch: 50\n",
            "Epoch: 51\n",
            "Epoch: 52\n",
            "New best loss: 0.021106320871492952\n",
            "Epoch: 53\n",
            "New best loss: 0.019062949050243735\n",
            "Epoch: 54\n",
            "New best loss: 0.017757287329004612\n",
            "Epoch: 55\n",
            "New best loss: 0.01681367809214862\n",
            "Epoch: 56\n",
            "New best loss: 0.016399977092482407\n",
            "Epoch: 57\n",
            "New best loss: 0.01627770199330472\n",
            "Epoch: 58\n",
            "Epoch: 59\n",
            "New best loss: 0.016034659144578554\n",
            "Epoch: 60\n",
            "Epoch 60, Loss: 0.01606543924653023\n",
            "Epoch: 61\n",
            "Epoch: 62\n",
            "Epoch: 63\n",
            "New best loss: 0.016032403231899178\n",
            "Epoch: 64\n",
            "Epoch: 65\n",
            "Epoch: 66\n",
            "Epoch: 67\n",
            "Epoch: 68\n",
            "Epoch: 69\n",
            "Epoch: 70\n",
            "Epoch: 71\n",
            "New best loss: 0.015902661599991715\n",
            "Epoch: 72\n",
            "Epoch: 73\n",
            "New best loss: 0.015841000520190898\n",
            "Epoch: 74\n",
            "Epoch: 75\n",
            "New best loss: 0.01574886038421634\n",
            "Epoch: 76\n",
            "Epoch: 77\n",
            "New best loss: 0.01563685389980189\n",
            "Epoch: 78\n",
            "Epoch: 79\n",
            "New best loss: 0.015579517617677792\n",
            "Epoch: 80\n",
            "Epoch 80, Loss: 0.01583462904778167\n",
            "Epoch: 81\n",
            "Epoch: 82\n",
            "Epoch: 83\n",
            "Epoch: 84\n",
            "Epoch: 85\n",
            "Epoch: 86\n",
            "Epoch: 87\n",
            "Epoch: 88\n",
            "Epoch: 89\n",
            "Epoch: 90\n",
            "New best loss: 0.015237655574714558\n",
            "Epoch: 91\n",
            "New best loss: 0.014638316787669383\n",
            "Epoch: 92\n",
            "New best loss: 0.014538827037742723\n",
            "Epoch: 93\n",
            "New best loss: 0.014320922679164343\n",
            "Epoch: 94\n",
            "New best loss: 0.014285305607093809\n",
            "Epoch: 95\n",
            "New best loss: 0.014145390463656642\n",
            "Epoch: 96\n",
            "Epoch: 97\n",
            "New best loss: 0.014140986328129657\n",
            "Epoch: 98\n",
            "Epoch: 99\n",
            "Epoch: 100\n",
            "Epoch 100, Loss: 0.014328779177352166\n"
          ]
        }
      ]
    },
    {
      "cell_type": "markdown",
      "source": [
        "## Generating texts"
      ],
      "metadata": {
        "id": "62xwUDiPrEDq"
      }
    },
    {
      "cell_type": "code",
      "source": [
        "best_model_lstm =  LSTM(vocab_size, vocab_size, 512, 3).to(dev)\n",
        "best_model_lstm.load_model('./model_fr_lstm.pth')\n",
        "print(\"best loss\", min(lstm_fr_finetune_losses))\n",
        "generate_text_additional(best_model_lstm, revised_input, fr_data_size)"
      ],
      "metadata": {
        "id": "26S9Um9Jnm9T",
        "execution": {
          "iopub.status.busy": "2023-12-03T05:46:38.222029Z",
          "iopub.execute_input": "2023-12-03T05:46:38.222421Z",
          "iopub.status.idle": "2023-12-03T05:46:42.694117Z",
          "shell.execute_reply.started": "2023-12-03T05:46:38.222388Z",
          "shell.execute_reply": "2023-12-03T05:46:42.693162Z"
        },
        "trusted": true,
        "colab": {
          "base_uri": "https://localhost:8080/"
        },
        "outputId": "0fdd5dbb-f99e-48ac-c063-eacbac6f83a2"
      },
      "execution_count": null,
      "outputs": [
        {
          "output_type": "stream",
          "name": "stdout",
          "text": [
            "best loss 0.014140986328129657\n",
            "Eaxmple of generated text --------------------------------------------------------------------------\n",
            " kisis:\n",
            "\n",
            "os:\n",
            "\n",
            "\n",
            "\n",
            "ysscalis r:\n",
            "\n",
            "r:\n",
            "\n",
            "\n",
            "yorer:\n",
            "ys:\n",
            "\n",
            "\n",
            "\n",
            "m......\n",
            "m... t ki\n",
            "o\n",
            "m. t a hidalidasit tsirerem.\n",
            "\n",
            "o\n",
            "\n",
            "o\n",
            "\n",
            "raus:\n",
            "\n",
            "o\n",
            "o\n",
            "rerem.. amo m... to\n",
            "cass\n",
            "\n",
            "\n",
            "\n",
            "yo\n",
            "re teth m...... bedamontonnnt nt ca rennt h wed nnt nte tos rem.. m........ t reyoscatemo\n",
            "ys:\n",
            "o s th het rete t be mo t camossca ts:\n",
            "o\n",
            "ossu thant s:\n",
            "onnnnnnthidau t t annntelat te ted r:\n",
            "yo\n",
            "\n",
            "\n",
            "o rs:\n",
            "os has tt remo\n",
            "\n",
            "\n",
            "\n",
            "\n",
            "\n",
            "\n",
            "os:\n",
            "\n",
            "mo\n",
            "m..\n",
            "ont att ttt tt t cauyo\n",
            "os:\n",
            "\n",
            "\n",
            "\n",
            "\n",
            "\n",
            "osi d kis be annnnteremos:\n",
            "\n",
            "\n",
            "mos:\n",
            "\n",
            "yo\n",
            "m.\n",
            "\n",
            "o m.. t toft te to\n",
            "m.... tteys h remoscantthem... ascamo asscas:\n",
            "o ber:\n",
            "mosis:\n",
            "r:\n",
            "oft casid m.... i\n",
            "\n",
            "o\n",
            "o tontts\n",
            "o\n",
            "\n",
            "\n",
            "reyscat bem... m. cannnnntoscasi\n",
            "montosis nnttt r:\n",
            "monthirem...... tt mouyo towidannnt tsca nnwed halasscas h t scauscatssnnt nt s ttoft am.....\n",
            "reyoft t annt r:\n",
            "o t re tetts:\n",
            "mosis:\n",
            "rscannt ttenntennnnnnt t t annnnto ters:\n",
            "yo t tent mo a tto kir:\n",
            "yo\n",
            "mo\n",
            "\n",
            "o\n",
            "onnnt red cascalis m... retet annnnnnnnnne m... am.... an\n",
            "o m.... tttem.. ssscamonnthis isit to\n",
            "mo\n",
            "mofthemosss amo casis\n",
            "m.. tt nt innnnnnt mofttteyo\n",
            "m....... mo\n",
            "yo annntterett \n",
            "----------------------------------------------------------------------------------------------------\n"
          ]
        }
      ]
    },
    {
      "cell_type": "markdown",
      "source": [
        "- As you can see, the LSTM network has been able to learn the features of different datasets in terms of sentence length and writing style and use it in text generation."
      ],
      "metadata": {
        "id": "Z7s2pjFjR-l4"
      }
    },
    {
      "cell_type": "markdown",
      "source": [
        "## The output of finetuned models on different datasets on the input sample"
      ],
      "metadata": {
        "id": "7BGd20eltW3C"
      }
    },
    {
      "cell_type": "markdown",
      "source": [
        "- In this section, you can see the result of the text generated by models with a sample input text."
      ],
      "metadata": {
        "id": "Rp_UEVqAQuvy"
      }
    },
    {
      "cell_type": "code",
      "source": [
        "input_sample_text = \"Hello, have a nice day.\\n\""
      ],
      "metadata": {
        "id": "NS_NqaJruKQe",
        "execution": {
          "iopub.status.busy": "2023-12-03T05:46:56.532433Z",
          "iopub.execute_input": "2023-12-03T05:46:56.533167Z",
          "iopub.status.idle": "2023-12-03T05:46:56.537541Z",
          "shell.execute_reply.started": "2023-12-03T05:46:56.533131Z",
          "shell.execute_reply": "2023-12-03T05:46:56.536475Z"
        },
        "trusted": true
      },
      "execution_count": null,
      "outputs": []
    },
    {
      "cell_type": "code",
      "source": [
        "best_model_lstm =  LSTM(vocab_size, vocab_size, 512, 3).to(device)\n",
        "best_model_lstm.load_model('./model_fr_lstm.pth')\n",
        "generate_text(best_model_lstm, revised_input, fr_data_size, create_input_sample_dataset(input_sample_text),100)"
      ],
      "metadata": {
        "id": "mWgLQM0G2r7D",
        "execution": {
          "iopub.status.busy": "2023-12-03T05:48:19.121108Z",
          "iopub.execute_input": "2023-12-03T05:48:19.121483Z",
          "iopub.status.idle": "2023-12-03T05:48:19.301762Z",
          "shell.execute_reply.started": "2023-12-03T05:48:19.121452Z",
          "shell.execute_reply": "2023-12-03T05:48:19.300718Z"
        },
        "trusted": true,
        "colab": {
          "base_uri": "https://localhost:8080/"
        },
        "outputId": "8f7094f9-7404-4700-f972-c97fe3ff2412"
      },
      "execution_count": null,
      "outputs": [
        {
          "output_type": "stream",
          "name": "stdout",
          "text": [
            "Eaxmple of generated text --------------------------------------------------------------------------\n",
            " ca ki\n",
            "o camontt tsit h tettt mo t alyontersscannnnntsssscatem..\n",
            "\n",
            "os t rem...... monto\n",
            "o\n",
            "m.. t t t to\n",
            "----------------------------------------------------------------------------------------------------\n"
          ]
        }
      ]
    },
    {
      "cell_type": "code",
      "source": [
        "best_model_lstm =  LSTM(vocab_size, vocab_size, 512, 3).to(device)\n",
        "best_model_lstm.load_model('./model_sh_finetune_lstm.pth')\n",
        "generate_text(best_model_lstm, sh_data, sh_data_size, create_input_sample_dataset(input_sample_text),100)"
      ],
      "metadata": {
        "id": "gmFUUJCUtLKm",
        "execution": {
          "iopub.status.busy": "2023-12-03T05:48:23.739646Z",
          "iopub.execute_input": "2023-12-03T05:48:23.740891Z",
          "iopub.status.idle": "2023-12-03T05:48:23.914856Z",
          "shell.execute_reply.started": "2023-12-03T05:48:23.740756Z",
          "shell.execute_reply": "2023-12-03T05:48:23.913974Z"
        },
        "trusted": true,
        "colab": {
          "base_uri": "https://localhost:8080/"
        },
        "outputId": "ba8d0f7a-ae82-4958-f808-16a969e5269b"
      },
      "execution_count": null,
      "outputs": [
        {
          "output_type": "stream",
          "name": "stdout",
          "text": [
            "Eaxmple of generated text --------------------------------------------------------------------------\n",
            " shi pa souse mi sho i whto pare\n",
            "maghtho o o paghifabu ou pi lusi i mifourod d ke o ke burenkerbus ou\n",
            "----------------------------------------------------------------------------------------------------\n"
          ]
        }
      ]
    },
    {
      "cell_type": "markdown",
      "source": [
        "## Report"
      ],
      "metadata": {
        "id": "kT-dTrk_RQyE"
      }
    },
    {
      "cell_type": "markdown",
      "source": [
        "According to the sample input and output produced by the fine-tuned model with the Shakespeare dataset and the Friends dataset, which output is more meaningful and what is the reason for this difference?"
      ],
      "metadata": {
        "id": "vNJdGJN1RLpz"
      }
    },
    {
      "cell_type": "markdown",
      "source": [
        "<font color='#73FF73'><b>Your answer : </b></font>In my opinion, the dataset from Shakespeare is of greater significance. This is due to the fact that the dataset from “Friends” primarily consists of dialogues that tend to be more repetitive and brief. Therefore, it’s logical that the Shakespeare dataset would yield superior performance."
      ],
      "metadata": {
        "id": "k4nBCaS2RWN_"
      }
    },
    {
      "cell_type": "markdown",
      "source": [
        "----\n",
        "----"
      ],
      "metadata": {
        "id": "Tq_1cBKGRX8i"
      }
    },
    {
      "cell_type": "code",
      "source": [],
      "metadata": {
        "id": "9UdsuHQQmi7i"
      },
      "execution_count": null,
      "outputs": []
    }
  ]
}
{
  "cells": [
    {
      "cell_type": "markdown",
      "metadata": {
        "id": "cWs3vxqeU5_d"
      },
      "source": [
        "<h1>HW4 - Attention and Transformers- Practical Q1</h1>\n",
        "<h3><font color=yellow>Total Points: 100</font></h3>\n",
        "\n"
      ]
    },
    {
      "cell_type": "markdown",
      "metadata": {
        "id": "0aJYoCAUqOgi"
      },
      "source": [
        "\n",
        "\n",
        "---\n",
        "\n",
        "\n",
        "<h3>Masked language modeling is a technique used in natural language processing to train language models.</h3>\n",
        "<h3>It originated as a way to teach models contextual understanding and the ability to fill in missing pieces of information within a sentence. </h3>\n",
        "<h3>The concept involves masking certain words in a sentence and tasking the model with predicting what those masked words should be, based on the context provided by the surrounding words.</h3>\n",
        "\n",
        "\n",
        "---\n",
        "\n"
      ]
    },
    {
      "cell_type": "markdown",
      "metadata": {
        "id": "OWNC3IkVqO-E"
      },
      "source": [
        "<h2>In this assignment you are going to implement and train a Masked Language Model in two settings:</h2>\n",
        "\n",
        "1.   In the first part you will implement the mlm in PyTorch from scratch\n",
        "2.   In the second part you will use HuggingFace library to train a RoBERTa MLM using a trainer.\n",
        "\n",
        "\n",
        "---\n",
        "\n"
      ]
    },
    {
      "cell_type": "markdown",
      "metadata": {
        "id": "TJ8GNCiPqRS4"
      },
      "source": [
        "\n",
        "<h3><font color=yellow>Notes:</font></h3>\n",
        "\n",
        "\n",
        "*   The model architecture includes only **Transformer Encoder** layers (from [Attention Is All You Need](https://arxiv.org/abs/1706.03762) paper).\n",
        "*   It is like a BERT model, the only difference is that we won't have the \"Next Sentence Prediction\" part, in other words the model will be trained only to predict the masked tokens.\n",
        "*   Remember to save the RoBERTa model in the second part of assignment (trained with HuggingFace lib.), you'll be needing it for the next practical assignment (POS Tagging).\n",
        "*   Write the code only in the specified parts.\n",
        "*   If you have any questions, ask your question in Quera.\n",
        "\n",
        "<font color=greeen>Good Luck!</font>\n",
        "\n",
        "\n",
        "---\n",
        "\n",
        "\n"
      ]
    },
    {
      "cell_type": "markdown",
      "metadata": {
        "id": "detIdW4eVJsV"
      },
      "source": [
        "# Imports and Installations"
      ]
    },
    {
      "cell_type": "code",
      "execution_count": null,
      "metadata": {
        "colab": {
          "base_uri": "https://localhost:8080/"
        },
        "id": "3kkHHmzLjitC",
        "outputId": "2ce6901f-57c3-4adb-fdeb-d70e195db5a2"
      },
      "outputs": [
        {
          "output_type": "stream",
          "name": "stdout",
          "text": [
            "Mounted at /content/drive\n"
          ]
        }
      ],
      "source": [
        "from google.colab import drive\n",
        "drive.mount('/content/drive')"
      ]
    },
    {
      "cell_type": "code",
      "execution_count": null,
      "metadata": {
        "id": "1r5GGsvwjCS0"
      },
      "outputs": [],
      "source": [
        "%%capture\n",
        "\n",
        "!pip install transformers\n",
        "!pip install accelerate -U\n",
        "!pip install datasets\n",
        "!pip install huggingface_hub\n",
        "!pip install tokenizers"
      ]
    },
    {
      "cell_type": "code",
      "execution_count": null,
      "metadata": {
        "id": "JSLEjNV5b1Vj"
      },
      "outputs": [],
      "source": [
        "import os\n",
        "from pathlib import Path\n",
        "import torch\n",
        "import re\n",
        "import random\n",
        "import transformers, datasets\n",
        "from tokenizers import BertWordPieceTokenizer\n",
        "from transformers import BertTokenizer\n",
        "from tqdm import tqdm\n",
        "from torch.utils.data import Dataset, DataLoader\n",
        "import itertools\n",
        "import math\n",
        "import torch.nn.functional as F\n",
        "import numpy as np\n",
        "import pandas as pd\n",
        "from torch.optim import Adam\n",
        "from sklearn.model_selection import train_test_split\n",
        "import tokenizers\n",
        "from huggingface_hub import notebook_login\n",
        "\n",
        "import matplotlib.pyplot as plt\n",
        "import seaborn as sns\n",
        "import pickle"
      ]
    },
    {
      "cell_type": "markdown",
      "metadata": {
        "id": "_6C7a70U5E5x"
      },
      "source": [
        "# 1-MLM Implementation with PyTorch From Scratch: <font color=yellow>Total Points:70</font>"
      ]
    },
    {
      "cell_type": "markdown",
      "metadata": {
        "id": "FoiUphZzvzX-"
      },
      "source": [
        "## 1-1-Data Preprocessing"
      ]
    },
    {
      "cell_type": "code",
      "execution_count": null,
      "metadata": {
        "id": "uoJq4EW966EP"
      },
      "outputs": [],
      "source": [
        "#load dataset file and clean it\n",
        "with open('/content/Parsi_Mianeh_Corpus.txt', 'r') as f:\n",
        "  corpus = f.read()\n",
        "corpus = re.sub('٭', '', corpus)\n",
        "corpus = re.sub('\\xa0', '', corpus)\n",
        "corpus = re.sub('#', '', corpus)"
      ]
    },
    {
      "cell_type": "code",
      "execution_count": null,
      "metadata": {
        "id": "waWsUyT-52Ii"
      },
      "outputs": [],
      "source": [
        "#train tokenizer from scratch with byte pair level\n",
        "spl_tokens = ['[PAD]', '[CLS]', '[SEP]', '[MASK]', '[UNK]']\n",
        "temp_post_processor = tokenizers.processors.TemplateProcessing(\n",
        "    single=\"[CLS] $A [SEP]\",\n",
        "    pair=\"[CLS] $A [SEP] $B:1 [SEP]:1\",\n",
        "    special_tokens=[\n",
        "        (\"[CLS]\", spl_tokens.index(\"[CLS]\")),\n",
        "        (\"[SEP]\", spl_tokens.index(\"[SEP]\")),\n",
        "    ],\n",
        ")\n",
        "\n",
        "tokenizer = tokenizers.Tokenizer(tokenizers.models.BPE(unk_token = spl_tokens[0], mask_token=spl_tokens[2]))\n",
        "tokenizer_trainer = tokenizers.trainers.BpeTrainer(special_tokens = spl_tokens)\n",
        "tokenizer.pre_tokenizer = tokenizers.pre_tokenizers.Whitespace()\n",
        "tokenizer.post_processor=temp_post_processor\n",
        "\n",
        "paths = [\"Parsi_Mianeh_Corpus.txt\"]\n",
        "tokenizer.train(paths, tokenizer_trainer)\n",
        "tokenizer.save('tokenizer.json')"
      ]
    },
    {
      "cell_type": "code",
      "execution_count": null,
      "metadata": {
        "colab": {
          "base_uri": "https://localhost:8080/"
        },
        "id": "YNfb6uHhlQsC",
        "outputId": "82fb3e91-71a0-4f4e-c8f5-38ddc7f1f098"
      },
      "outputs": [
        {
          "output_type": "stream",
          "name": "stdout",
          "text": [
            "6881\n"
          ]
        }
      ],
      "source": [
        "#get vocab size\n",
        "vocab_size = tokenizer.get_vocab_size()\n",
        "print(vocab_size)"
      ]
    },
    {
      "cell_type": "markdown",
      "metadata": {
        "id": "VapucAYj6nd5"
      },
      "source": [
        "<h4>You  need a token with <font color=greeen>WRITE</font> permission</h4>"
      ]
    },
    {
      "cell_type": "code",
      "execution_count": null,
      "metadata": {
        "colab": {
          "base_uri": "https://localhost:8080/",
          "height": 145,
          "referenced_widgets": [
            "001917899c434d28b97b0f66f8178e46",
            "a778b600ff6648cfaa2ddc254f885fd2",
            "d48ae44503644891890d4d74f4e9b579",
            "0c827b19a56d42de86cdd4b10cfeb7ea",
            "50a6a551084444c494d12dbfba0172cf",
            "08f45f182ae34fd4af32144b5168b85e",
            "0d0db86f9a43432389a33b6e2f88bff6",
            "0198e7adda9948789758f5b9fdb2a301",
            "73e3ea33279d450e9374fe80face015f",
            "8ffd38c9284c41beb22013259ca8e3b9",
            "5ccff2af07be47c280653eb2d0f05d0d",
            "9f229a4c12584ec688b1db4a175f0401",
            "d9ee770e0b854841a0cb2020d7d5ac9d",
            "e1621dac6198435c8a71b2136cfdf3c1",
            "612dfcfa413c4bbcb69691de35d13674",
            "0d536a839da34a17b12f66b989689915",
            "1d89d9c67dc5471991c1c5e2de327057",
            "e14556012b794e73a146ef1b72bdf4f6",
            "bf238869736a48d2b14ffee17ddfbf55",
            "8baf351f8dc342bb90d3d9e0ed0ae2d3",
            "93eb22993d00468badf67766b6a703f8",
            "1461843f62cd4defb5440c81c4aff8d5",
            "863fdb7bb1ab4b168370b858d60fc629",
            "058fb7c36fcf41bfaa97683919de809b",
            "e433e424655449a5a07523b31ae13c1f",
            "e54d2564ebcc4adf8d3a7ce8635aa117",
            "16291601be1b4a1fa2059775e02b2f09",
            "8a595b228e2c48508d634f139d759221",
            "575e7c5ac4bc487ab87962808cccee04",
            "3272f7ee232949109d85e62710defa46",
            "30099a723a0d42afa8ca70d230481eda",
            "a5670daf4c474d899f067fbbc0fe9439"
          ]
        },
        "id": "nZ0e8_-bxLGv",
        "outputId": "cff20ac3-9c81-4dc0-8bfb-510df3da39d8"
      },
      "outputs": [
        {
          "output_type": "display_data",
          "data": {
            "text/plain": [
              "VBox(children=(HTML(value='<center> <img\\nsrc=https://huggingface.co/front/assets/huggingface_logo-noborder.sv…"
            ],
            "application/vnd.jupyter.widget-view+json": {
              "version_major": 2,
              "version_minor": 0,
              "model_id": "001917899c434d28b97b0f66f8178e46"
            }
          },
          "metadata": {}
        }
      ],
      "source": [
        "#logging in to hugging face\n",
        "notebook_login()"
      ]
    },
    {
      "cell_type": "code",
      "execution_count": null,
      "metadata": {
        "colab": {
          "base_uri": "https://localhost:8080/"
        },
        "id": "phSkAHN1lS85",
        "outputId": "a3acd470-57a4-4a44-e158-4a3f5d23261b"
      },
      "outputs": [
        {
          "output_type": "stream",
          "name": "stderr",
          "text": [
            "The tokenizer class you load from this checkpoint is not the same type as the class this function is called from. It may result in unexpected tokenization. \n",
            "The tokenizer class you load from this checkpoint is 'PreTrainedTokenizerFast'. \n",
            "The class this function is called from is 'RobertaTokenizerFast'.\n"
          ]
        },
        {
          "output_type": "execute_result",
          "data": {
            "text/plain": [
              "('tokenizer/tokenizer_config.json',\n",
              " 'tokenizer/special_tokens_map.json',\n",
              " 'tokenizer/vocab.json',\n",
              " 'tokenizer/merges.txt',\n",
              " 'tokenizer/added_tokens.json',\n",
              " 'tokenizer/tokenizer.json')"
            ]
          },
          "metadata": {},
          "execution_count": 10
        }
      ],
      "source": [
        "#saved fast tokenizer to file and convert it to roberta tokenizer\n",
        "fast_tokenizer = transformers.PreTrainedTokenizerFast(tokenizer_file='tokenizer.json')\n",
        "fast_tokenizer.save_pretrained('fast_tokenizer')\n",
        "\n",
        "tokenizer = transformers.RobertaTokenizerFast.from_pretrained('fast_tokenizer')\n",
        "tokenizer.pad_token_id = 0\n",
        "tokenizer.cls_token_id = 1\n",
        "tokenizer.sep_token_id = 2\n",
        "tokenizer.mask_token_id = 3\n",
        "tokenizer.unk_token_id = 4\n",
        "\n",
        "your_hugging_face_id=\"z-rahimi-r\"\n",
        "tokenizer.save_pretrained(f'{your_hugging_face_id}/parsig_tokenizer', push_to_hub=True)\n",
        "tokenizer.save_pretrained('tokenizer')"
      ]
    },
    {
      "cell_type": "code",
      "execution_count": null,
      "metadata": {
        "id": "O7RO26qK_WbR"
      },
      "outputs": [],
      "source": [
        "class Custom_Dataset(Dataset):\n",
        "    def __init__(self, tokenizer, data, max_length):\n",
        "        self.tokenizer = tokenizer\n",
        "        self.corpus = data\n",
        "        self.corpus_lines = len(data)\n",
        "        self.max_length = max_length\n",
        "        self.preprocessed_data=None\n",
        "\n",
        "    def __len__(self):\n",
        "        return self.corpus_lines\n",
        "\n",
        "    def __getitem__(self, index):\n",
        "        return self.preprocessed_data[index]\n",
        "\n",
        "\n",
        "    def random_word(self, token_ids):\n",
        "\n",
        "        # remove cls and sep token\n",
        "        token_ids=token_ids[1:-1]\n",
        "        output_label = []\n",
        "        output = []\n",
        "\n",
        "        # 15% of the tokens would be replaced\n",
        "        for i, token_id in enumerate(token_ids):\n",
        "            prob = random.random()\n",
        "\n",
        "            if prob < 0.15:\n",
        "              prob /= 0.15\n",
        "              # 80% chance change token to mask token\n",
        "              if prob < 0.8:\n",
        "                  output.append(self.tokenizer.vocab['[MASK]'])\n",
        "\n",
        "              # 10% chance change token to random token\n",
        "              elif prob < 0.9:\n",
        "                  output.append(random.randrange(self.tokenizer.vocab_size))\n",
        "\n",
        "              # 10% chance change token to current token\n",
        "              else:\n",
        "                  output.append(token_id)\n",
        "              output_label.append(token_id)\n",
        "            else:\n",
        "              output.append(token_id)\n",
        "              output_label.append(-100)\n",
        "\n",
        "\n",
        "        # flattening\n",
        "        output = list(itertools.chain(*[[x] if not isinstance(x, list) else x for x in output]))\n",
        "        output_label = list(itertools.chain(*[[x] if not isinstance(x, list) else x for x in output_label]))\n",
        "        assert len(output) == len(output_label)\n",
        "        return output, output_label\n",
        "\n",
        "    def get_corpus_line(self, index):\n",
        "        return self.corpus[index]\n",
        "\n",
        "\n",
        "    def preprocess_function(self):\n",
        "        preprocessed_data=[]\n",
        "\n",
        "        for i in tqdm(range(self.corpus_lines)):\n",
        "            # get sample at index\n",
        "          data = self.get_corpus_line(i)\n",
        "\n",
        "          # Step 2: replace 15% of tokens randomly\n",
        "          text_token_ids, text_labels = self.random_word(data['input_ids'])\n",
        "\n",
        "          # Step 3: Adding CLS and SEP tokens to the start and end of sentences\n",
        "          input_ids = [self.tokenizer.vocab['[CLS]']] + text_token_ids + [self.tokenizer.vocab['[SEP]']]\n",
        "          labels = [-100] + text_labels + [-100]\n",
        "\n",
        "          # Step 4: Truncate at max_length\n",
        "          input_ids = (input_ids)[:self.max_length]\n",
        "          segment_ids = ([1 for _ in range(len(input_ids))])[:self.max_length]\n",
        "          labels = (labels)[:self.max_length]\n",
        "\n",
        "          # Step 5: pad ids and labels\n",
        "          padding = [self.tokenizer.vocab['[PAD]'] for _ in range(self.max_length - len(input_ids))]\n",
        "          label_padding = [-100 for _ in range(self.max_length - len(input_ids))]\n",
        "          input_ids.extend(padding), segment_ids.extend(padding), labels.extend(label_padding)\n",
        "\n",
        "          output = {\"input_ids\": input_ids,\n",
        "                    \"labels\": labels,\n",
        "                    \"segment_ids\": segment_ids}\n",
        "\n",
        "          output={key: torch.tensor(value) for key, value in output.items()}\n",
        "          preprocessed_data.append(output)\n",
        "\n",
        "        self.preprocessed_data=preprocessed_data\n",
        "        return preprocessed_data"
      ]
    },
    {
      "cell_type": "markdown",
      "metadata": {
        "id": "9KFiR4mqd1_4"
      },
      "source": [
        "Loading Dataset"
      ]
    },
    {
      "cell_type": "code",
      "execution_count": null,
      "metadata": {
        "colab": {
          "base_uri": "https://localhost:8080/",
          "height": 423
        },
        "id": "x3mnNPPceKGv",
        "outputId": "2a0a5e42-b18c-4953-e1fd-43e0a029c64e"
      },
      "outputs": [
        {
          "output_type": "execute_result",
          "data": {
            "text/plain": [
              "                                                   text\n",
              "0                       ud baγōbaxt ān ī did-iz baxšēnd\n",
              "1                               ud ka mīrēnd ahlaw hēnd\n",
              "2     ud ōy ī pēm-xwarišn mardōm tan-drusttar ud zōr...\n",
              "3     kū pādixšāyān rāy tis-ē ham-pursagīh ī abāg dā...\n",
              "4     pad ǰōrdā ham-dādestān būd hēnd kū ān and gyāg...\n",
              "...                                                 ...\n",
              "3404         ud pad wīst-sālag hāxtēd kawīg ī kundā pus\n",
              "3405                                      čē guft ēstēd\n",
              "3406  čē ōy ī bēš-burdār rāmišn ī gētīg ud mēnōg wan...\n",
              "3407  ud šašom kē pad čašm ī yazadān ud uzwān ī wehā...\n",
              "3408  bistag ī gurgānīg ka pad sōr-ābag brēzēnd ud n...\n",
              "\n",
              "[3409 rows x 1 columns]"
            ],
            "text/html": [
              "\n",
              "  <div id=\"df-5d2b5d1b-317f-40a2-9aaf-fe88d8dc4e2c\" class=\"colab-df-container\">\n",
              "    <div>\n",
              "<style scoped>\n",
              "    .dataframe tbody tr th:only-of-type {\n",
              "        vertical-align: middle;\n",
              "    }\n",
              "\n",
              "    .dataframe tbody tr th {\n",
              "        vertical-align: top;\n",
              "    }\n",
              "\n",
              "    .dataframe thead th {\n",
              "        text-align: right;\n",
              "    }\n",
              "</style>\n",
              "<table border=\"1\" class=\"dataframe\">\n",
              "  <thead>\n",
              "    <tr style=\"text-align: right;\">\n",
              "      <th></th>\n",
              "      <th>text</th>\n",
              "    </tr>\n",
              "  </thead>\n",
              "  <tbody>\n",
              "    <tr>\n",
              "      <th>0</th>\n",
              "      <td>ud baγōbaxt ān ī did-iz baxšēnd</td>\n",
              "    </tr>\n",
              "    <tr>\n",
              "      <th>1</th>\n",
              "      <td>ud ka mīrēnd ahlaw hēnd</td>\n",
              "    </tr>\n",
              "    <tr>\n",
              "      <th>2</th>\n",
              "      <td>ud ōy ī pēm-xwarišn mardōm tan-drusttar ud zōr...</td>\n",
              "    </tr>\n",
              "    <tr>\n",
              "      <th>3</th>\n",
              "      <td>kū pādixšāyān rāy tis-ē ham-pursagīh ī abāg dā...</td>\n",
              "    </tr>\n",
              "    <tr>\n",
              "      <th>4</th>\n",
              "      <td>pad ǰōrdā ham-dādestān būd hēnd kū ān and gyāg...</td>\n",
              "    </tr>\n",
              "    <tr>\n",
              "      <th>...</th>\n",
              "      <td>...</td>\n",
              "    </tr>\n",
              "    <tr>\n",
              "      <th>3404</th>\n",
              "      <td>ud pad wīst-sālag hāxtēd kawīg ī kundā pus</td>\n",
              "    </tr>\n",
              "    <tr>\n",
              "      <th>3405</th>\n",
              "      <td>čē guft ēstēd</td>\n",
              "    </tr>\n",
              "    <tr>\n",
              "      <th>3406</th>\n",
              "      <td>čē ōy ī bēš-burdār rāmišn ī gētīg ud mēnōg wan...</td>\n",
              "    </tr>\n",
              "    <tr>\n",
              "      <th>3407</th>\n",
              "      <td>ud šašom kē pad čašm ī yazadān ud uzwān ī wehā...</td>\n",
              "    </tr>\n",
              "    <tr>\n",
              "      <th>3408</th>\n",
              "      <td>bistag ī gurgānīg ka pad sōr-ābag brēzēnd ud n...</td>\n",
              "    </tr>\n",
              "  </tbody>\n",
              "</table>\n",
              "<p>3409 rows × 1 columns</p>\n",
              "</div>\n",
              "    <div class=\"colab-df-buttons\">\n",
              "\n",
              "  <div class=\"colab-df-container\">\n",
              "    <button class=\"colab-df-convert\" onclick=\"convertToInteractive('df-5d2b5d1b-317f-40a2-9aaf-fe88d8dc4e2c')\"\n",
              "            title=\"Convert this dataframe to an interactive table.\"\n",
              "            style=\"display:none;\">\n",
              "\n",
              "  <svg xmlns=\"http://www.w3.org/2000/svg\" height=\"24px\" viewBox=\"0 -960 960 960\">\n",
              "    <path d=\"M120-120v-720h720v720H120Zm60-500h600v-160H180v160Zm220 220h160v-160H400v160Zm0 220h160v-160H400v160ZM180-400h160v-160H180v160Zm440 0h160v-160H620v160ZM180-180h160v-160H180v160Zm440 0h160v-160H620v160Z\"/>\n",
              "  </svg>\n",
              "    </button>\n",
              "\n",
              "  <style>\n",
              "    .colab-df-container {\n",
              "      display:flex;\n",
              "      gap: 12px;\n",
              "    }\n",
              "\n",
              "    .colab-df-convert {\n",
              "      background-color: #E8F0FE;\n",
              "      border: none;\n",
              "      border-radius: 50%;\n",
              "      cursor: pointer;\n",
              "      display: none;\n",
              "      fill: #1967D2;\n",
              "      height: 32px;\n",
              "      padding: 0 0 0 0;\n",
              "      width: 32px;\n",
              "    }\n",
              "\n",
              "    .colab-df-convert:hover {\n",
              "      background-color: #E2EBFA;\n",
              "      box-shadow: 0px 1px 2px rgba(60, 64, 67, 0.3), 0px 1px 3px 1px rgba(60, 64, 67, 0.15);\n",
              "      fill: #174EA6;\n",
              "    }\n",
              "\n",
              "    .colab-df-buttons div {\n",
              "      margin-bottom: 4px;\n",
              "    }\n",
              "\n",
              "    [theme=dark] .colab-df-convert {\n",
              "      background-color: #3B4455;\n",
              "      fill: #D2E3FC;\n",
              "    }\n",
              "\n",
              "    [theme=dark] .colab-df-convert:hover {\n",
              "      background-color: #434B5C;\n",
              "      box-shadow: 0px 1px 3px 1px rgba(0, 0, 0, 0.15);\n",
              "      filter: drop-shadow(0px 1px 2px rgba(0, 0, 0, 0.3));\n",
              "      fill: #FFFFFF;\n",
              "    }\n",
              "  </style>\n",
              "\n",
              "    <script>\n",
              "      const buttonEl =\n",
              "        document.querySelector('#df-5d2b5d1b-317f-40a2-9aaf-fe88d8dc4e2c button.colab-df-convert');\n",
              "      buttonEl.style.display =\n",
              "        google.colab.kernel.accessAllowed ? 'block' : 'none';\n",
              "\n",
              "      async function convertToInteractive(key) {\n",
              "        const element = document.querySelector('#df-5d2b5d1b-317f-40a2-9aaf-fe88d8dc4e2c');\n",
              "        const dataTable =\n",
              "          await google.colab.kernel.invokeFunction('convertToInteractive',\n",
              "                                                    [key], {});\n",
              "        if (!dataTable) return;\n",
              "\n",
              "        const docLinkHtml = 'Like what you see? Visit the ' +\n",
              "          '<a target=\"_blank\" href=https://colab.research.google.com/notebooks/data_table.ipynb>data table notebook</a>'\n",
              "          + ' to learn more about interactive tables.';\n",
              "        element.innerHTML = '';\n",
              "        dataTable['output_type'] = 'display_data';\n",
              "        await google.colab.output.renderOutput(dataTable, element);\n",
              "        const docLink = document.createElement('div');\n",
              "        docLink.innerHTML = docLinkHtml;\n",
              "        element.appendChild(docLink);\n",
              "      }\n",
              "    </script>\n",
              "  </div>\n",
              "\n",
              "\n",
              "<div id=\"df-e105da53-52b1-4648-a8fe-66c1e84fd071\">\n",
              "  <button class=\"colab-df-quickchart\" onclick=\"quickchart('df-e105da53-52b1-4648-a8fe-66c1e84fd071')\"\n",
              "            title=\"Suggest charts\"\n",
              "            style=\"display:none;\">\n",
              "\n",
              "<svg xmlns=\"http://www.w3.org/2000/svg\" height=\"24px\"viewBox=\"0 0 24 24\"\n",
              "     width=\"24px\">\n",
              "    <g>\n",
              "        <path d=\"M19 3H5c-1.1 0-2 .9-2 2v14c0 1.1.9 2 2 2h14c1.1 0 2-.9 2-2V5c0-1.1-.9-2-2-2zM9 17H7v-7h2v7zm4 0h-2V7h2v10zm4 0h-2v-4h2v4z\"/>\n",
              "    </g>\n",
              "</svg>\n",
              "  </button>\n",
              "\n",
              "<style>\n",
              "  .colab-df-quickchart {\n",
              "      --bg-color: #E8F0FE;\n",
              "      --fill-color: #1967D2;\n",
              "      --hover-bg-color: #E2EBFA;\n",
              "      --hover-fill-color: #174EA6;\n",
              "      --disabled-fill-color: #AAA;\n",
              "      --disabled-bg-color: #DDD;\n",
              "  }\n",
              "\n",
              "  [theme=dark] .colab-df-quickchart {\n",
              "      --bg-color: #3B4455;\n",
              "      --fill-color: #D2E3FC;\n",
              "      --hover-bg-color: #434B5C;\n",
              "      --hover-fill-color: #FFFFFF;\n",
              "      --disabled-bg-color: #3B4455;\n",
              "      --disabled-fill-color: #666;\n",
              "  }\n",
              "\n",
              "  .colab-df-quickchart {\n",
              "    background-color: var(--bg-color);\n",
              "    border: none;\n",
              "    border-radius: 50%;\n",
              "    cursor: pointer;\n",
              "    display: none;\n",
              "    fill: var(--fill-color);\n",
              "    height: 32px;\n",
              "    padding: 0;\n",
              "    width: 32px;\n",
              "  }\n",
              "\n",
              "  .colab-df-quickchart:hover {\n",
              "    background-color: var(--hover-bg-color);\n",
              "    box-shadow: 0 1px 2px rgba(60, 64, 67, 0.3), 0 1px 3px 1px rgba(60, 64, 67, 0.15);\n",
              "    fill: var(--button-hover-fill-color);\n",
              "  }\n",
              "\n",
              "  .colab-df-quickchart-complete:disabled,\n",
              "  .colab-df-quickchart-complete:disabled:hover {\n",
              "    background-color: var(--disabled-bg-color);\n",
              "    fill: var(--disabled-fill-color);\n",
              "    box-shadow: none;\n",
              "  }\n",
              "\n",
              "  .colab-df-spinner {\n",
              "    border: 2px solid var(--fill-color);\n",
              "    border-color: transparent;\n",
              "    border-bottom-color: var(--fill-color);\n",
              "    animation:\n",
              "      spin 1s steps(1) infinite;\n",
              "  }\n",
              "\n",
              "  @keyframes spin {\n",
              "    0% {\n",
              "      border-color: transparent;\n",
              "      border-bottom-color: var(--fill-color);\n",
              "      border-left-color: var(--fill-color);\n",
              "    }\n",
              "    20% {\n",
              "      border-color: transparent;\n",
              "      border-left-color: var(--fill-color);\n",
              "      border-top-color: var(--fill-color);\n",
              "    }\n",
              "    30% {\n",
              "      border-color: transparent;\n",
              "      border-left-color: var(--fill-color);\n",
              "      border-top-color: var(--fill-color);\n",
              "      border-right-color: var(--fill-color);\n",
              "    }\n",
              "    40% {\n",
              "      border-color: transparent;\n",
              "      border-right-color: var(--fill-color);\n",
              "      border-top-color: var(--fill-color);\n",
              "    }\n",
              "    60% {\n",
              "      border-color: transparent;\n",
              "      border-right-color: var(--fill-color);\n",
              "    }\n",
              "    80% {\n",
              "      border-color: transparent;\n",
              "      border-right-color: var(--fill-color);\n",
              "      border-bottom-color: var(--fill-color);\n",
              "    }\n",
              "    90% {\n",
              "      border-color: transparent;\n",
              "      border-bottom-color: var(--fill-color);\n",
              "    }\n",
              "  }\n",
              "</style>\n",
              "\n",
              "  <script>\n",
              "    async function quickchart(key) {\n",
              "      const quickchartButtonEl =\n",
              "        document.querySelector('#' + key + ' button');\n",
              "      quickchartButtonEl.disabled = true;  // To prevent multiple clicks.\n",
              "      quickchartButtonEl.classList.add('colab-df-spinner');\n",
              "      try {\n",
              "        const charts = await google.colab.kernel.invokeFunction(\n",
              "            'suggestCharts', [key], {});\n",
              "      } catch (error) {\n",
              "        console.error('Error during call to suggestCharts:', error);\n",
              "      }\n",
              "      quickchartButtonEl.classList.remove('colab-df-spinner');\n",
              "      quickchartButtonEl.classList.add('colab-df-quickchart-complete');\n",
              "    }\n",
              "    (() => {\n",
              "      let quickchartButtonEl =\n",
              "        document.querySelector('#df-e105da53-52b1-4648-a8fe-66c1e84fd071 button');\n",
              "      quickchartButtonEl.style.display =\n",
              "        google.colab.kernel.accessAllowed ? 'block' : 'none';\n",
              "    })();\n",
              "  </script>\n",
              "</div>\n",
              "    </div>\n",
              "  </div>\n"
            ]
          },
          "metadata": {},
          "execution_count": 12
        }
      ],
      "source": [
        "with open('Parsi_Mianeh_Corpus.txt', 'r') as f:\n",
        "  text = f.read()\n",
        "sentences = text.split('\\n')[:-1]\n",
        "corpus_df=pd.DataFrame(data=sentences, columns=[\"text\"])\n",
        "corpus_df"
      ]
    },
    {
      "cell_type": "code",
      "execution_count": null,
      "metadata": {
        "colab": {
          "base_uri": "https://localhost:8080/"
        },
        "id": "YioyZlLJ8Dsp",
        "outputId": "bf43cdfe-a328-4552-b15e-7bb67eadde60"
      },
      "outputs": [
        {
          "output_type": "execute_result",
          "data": {
            "text/plain": [
              "DatasetDict({\n",
              "    train: Dataset({\n",
              "        features: ['text'],\n",
              "        num_rows: 3409\n",
              "    })\n",
              "})"
            ]
          },
          "metadata": {},
          "execution_count": 13
        }
      ],
      "source": [
        "from datasets import DatasetDict, Dataset\n",
        "\n",
        "dataset = DatasetDict({'train': Dataset.from_pandas(corpus_df)})\n",
        "dataset"
      ]
    },
    {
      "cell_type": "code",
      "execution_count": null,
      "metadata": {
        "colab": {
          "base_uri": "https://localhost:8080/",
          "height": 153,
          "referenced_widgets": [
            "2e4021cd68144f56b76e838d761f8de3",
            "4985f21894a645a0bfcc1d9a0cecfd79",
            "a6667f4ee94442329009c659566126c9",
            "4249fbb4afe044009b01817ffb11e2a3",
            "2de418f7a66c43bfad66d042dfec21a7",
            "ceccc97dd86440d4a36f6c9a16852626",
            "cc4beaccdab54e159b2591c606567db6",
            "49c218899c8c4141b88c0303923c661e",
            "5167f2ff3f7947da80a681ae6fc0c4c6",
            "d0dc28ef813d4cc39ef3d76fbc4bc554",
            "22e405e1f0494769a069cc523cc37110"
          ]
        },
        "id": "6wCfK91R8BOR",
        "outputId": "ed48bc99-4e86-42d9-b7a7-ea675674c8fa"
      },
      "outputs": [
        {
          "output_type": "display_data",
          "data": {
            "text/plain": [
              "Map:   0%|          | 0/3409 [00:00<?, ? examples/s]"
            ],
            "application/vnd.jupyter.widget-view+json": {
              "version_major": 2,
              "version_minor": 0,
              "model_id": "2e4021cd68144f56b76e838d761f8de3"
            }
          },
          "metadata": {}
        },
        {
          "output_type": "execute_result",
          "data": {
            "text/plain": [
              "DatasetDict({\n",
              "    train: Dataset({\n",
              "        features: ['text', 'input_ids', 'attention_mask'],\n",
              "        num_rows: 3409\n",
              "    })\n",
              "})"
            ]
          },
          "metadata": {},
          "execution_count": 14
        }
      ],
      "source": [
        "max_input_length = 512\n",
        "max_target_length = 64\n",
        "\n",
        "def tokenize_preprocess_function(examples):\n",
        "    model_inputs = tokenizer(examples[\"text\"], max_length=max_input_length, truncation=True)\n",
        "    return model_inputs\n",
        "\n",
        "tokenized_datasets = dataset.map(tokenize_preprocess_function, batched=False)\n",
        "tokenized_datasets"
      ]
    },
    {
      "cell_type": "markdown",
      "metadata": {
        "id": "FR7ae7qDBq7Q"
      },
      "source": [
        "Preprocess your dataset once and Save it"
      ]
    },
    {
      "cell_type": "code",
      "execution_count": null,
      "metadata": {
        "id": "cqLlvKziNQ_t",
        "colab": {
          "base_uri": "https://localhost:8080/"
        },
        "outputId": "dfa6e663-748c-4f71-ae7a-cd45fbcfbc34"
      },
      "outputs": [
        {
          "output_type": "stream",
          "name": "stderr",
          "text": [
            "100%|██████████| 3409/3409 [16:46<00:00,  3.39it/s]\n"
          ]
        }
      ],
      "source": [
        "MAX_LEN=100\n",
        "\n",
        "train_dataset = Custom_Dataset(tokenizer, tokenized_datasets['train'], max_length=MAX_LEN)\n",
        "preprocessed_data=train_dataset.preprocess_function()"
      ]
    },
    {
      "cell_type": "code",
      "execution_count": null,
      "metadata": {
        "id": "GV-RTomB8zX2"
      },
      "outputs": [],
      "source": [
        "with open('/content/drive/MyDrive/preprocessed_data.pkl', 'wb') as file:\n",
        "  pickle.dump(preprocessed_data, file)"
      ]
    },
    {
      "cell_type": "markdown",
      "metadata": {
        "id": "cAGqONxv-Jfj"
      },
      "source": [
        "<font color=yellow>shared link of preprocessed Data</font> </br>\n",
        "<font color=greeen>add the shortcut to your drive first</font></br>\n",
        "https://drive.google.com/file/d/1ktCRq0J6QDzrW4T-Obx8m7u6GLU7JTq1/view"
      ]
    },
    {
      "cell_type": "code",
      "execution_count": null,
      "metadata": {
        "colab": {
          "base_uri": "https://localhost:8080/"
        },
        "id": "fWnU8dTp-Ek4",
        "outputId": "f6783de1-c5f8-4a5e-b3dd-04f9048147a4"
      },
      "outputs": [
        {
          "output_type": "stream",
          "name": "stdout",
          "text": [
            "3409\n"
          ]
        }
      ],
      "source": [
        "MAX_LEN=100\n",
        "path=\"/content/drive/MyDrive/preprocessed_data.pkl\"\n",
        "with open(path, 'rb') as file:\n",
        "    preprocessed_data = pickle.load(file)\n",
        "\n",
        "print(len(preprocessed_data))"
      ]
    },
    {
      "cell_type": "code",
      "execution_count": null,
      "metadata": {
        "colab": {
          "base_uri": "https://localhost:8080/"
        },
        "id": "Ky11prQr759h",
        "outputId": "03d44397-bda2-44f5-d2b7-7f07e5f1ecce"
      },
      "outputs": [
        {
          "output_type": "execute_result",
          "data": {
            "text/plain": [
              "{'input_ids': tensor([[   1, 6720,   65,  ...,    0,    0,    0],\n",
              "         [   1,    3,   40,  ...,    0,    0,    0],\n",
              "         [   1, 2129, 1765,  ...,    0,    0,    0],\n",
              "         ...,\n",
              "         [   1,  122,  299,  ...,    0,    0,    0],\n",
              "         [   1, 1066,  646,  ...,    0,    0,    0],\n",
              "         [   1,  839,   65,  ...,    0,    0,    0]]),\n",
              " 'labels': tensor([[-100,   54, -100,  ..., -100, -100, -100],\n",
              "         [-100,  214, -100,  ..., -100, -100, -100],\n",
              "         [-100, -100,   40,  ..., -100, -100, -100],\n",
              "         ...,\n",
              "         [-100, -100, -100,  ..., -100, -100, -100],\n",
              "         [-100, -100, -100,  ..., -100, -100, -100],\n",
              "         [-100, -100, -100,  ..., -100, -100, -100]]),\n",
              " 'segment_ids': tensor([[1, 1, 1,  ..., 0, 0, 0],\n",
              "         [1, 1, 1,  ..., 0, 0, 0],\n",
              "         [1, 1, 1,  ..., 0, 0, 0],\n",
              "         ...,\n",
              "         [1, 1, 1,  ..., 0, 0, 0],\n",
              "         [1, 1, 1,  ..., 0, 0, 0],\n",
              "         [1, 1, 1,  ..., 0, 0, 0]])}"
            ]
          },
          "metadata": {},
          "execution_count": 21
        }
      ],
      "source": [
        "BATCH_SIZE=128\n",
        "\n",
        "train_loader = DataLoader(preprocessed_data, batch_size=BATCH_SIZE, shuffle=True, pin_memory=True)\n",
        "sample_data = next(iter(train_loader))\n",
        "sample_data\n",
        "# print(train_data[random.randrange(len(train_dataset))])"
      ]
    },
    {
      "cell_type": "markdown",
      "metadata": {
        "id": "VpVv_m6lv8vB"
      },
      "source": [
        "## 1-2-Embeddings"
      ]
    },
    {
      "cell_type": "markdown",
      "metadata": {
        "id": "vDICblxKdAR_"
      },
      "source": [
        "Positional Embedding"
      ]
    },
    {
      "cell_type": "code",
      "execution_count": null,
      "metadata": {
        "id": "K0Vtsv8r4dym"
      },
      "outputs": [],
      "source": [
        "\n",
        "import torch\n",
        "import torch.nn as nn\n",
        "import torch.nn.functional as F\n",
        "class PositionalEmbedding(torch.nn.Module):\n",
        "    \"Implement the PE function.\"\n",
        "\n",
        "    def __init__(self, d_model, max_len, device=\"cpu\"):\n",
        "        super(PositionalEmbedding, self).__init__()\n",
        "        #################################################################################\n",
        "        #                          COMPLETE THE FOLLOWING SECTION                       #\n",
        "        #################################################################################\n",
        "        self.device = device\n",
        "\n",
        "        pos = torch.zeros(max_len, d_model).to(self.device)\n",
        "        position = torch.arange(0, max_len).unsqueeze(1).float()\n",
        "        div_term = torch.exp(torch.arange(0, d_model, 2).float() * -(torch.log(torch.tensor(10000.0)) / d_model))\n",
        "        pos[:, 0::2] = torch.sin(position * div_term)\n",
        "        pos[:, 1::2] = torch.cos(position * div_term)\n",
        "        pos = pos.unsqueeze(0)\n",
        "\n",
        "        self.register_buffer('pe', pos)\n",
        "\n",
        "\n",
        "        #################################################################################\n",
        "\n",
        "        #################################################################################\n",
        "\n",
        "    def forward(self, x):\n",
        "        \"\"\"\n",
        "        :params x: (batch_size, max_len)\n",
        "        :output shape: (batch_size, max_len, d_model)\n",
        "        \"\"\"\n",
        "        return self.pe[:, :x.size(1)].detach()"
      ]
    },
    {
      "cell_type": "markdown",
      "metadata": {
        "id": "2EcbtKPfdA-P"
      },
      "source": [
        "Token Embedding"
      ]
    },
    {
      "cell_type": "code",
      "execution_count": null,
      "metadata": {
        "id": "cFdZHrAu7mcA"
      },
      "outputs": [],
      "source": [
        "class Embedding(torch.nn.Module):\n",
        "    \"\"\"\n",
        "    Embedding which is consisted with under features\n",
        "        1. TokenEmbedding : normal embedding matrix\n",
        "        2. PositionalEmbedding : adding positional information using sin, cos\n",
        "        2. SegmentEmbedding : adding sentence segment info, (sent_A:1, sent_B:2)\n",
        "        sum of all these features are output of Embedding\n",
        "    \"\"\"\n",
        "\n",
        "    def __init__(self, vocab_size, embed_size, seq_len, dropout=0.1, device=\"cpu\"):\n",
        "        super().__init__()\n",
        "        #################################################################################\n",
        "        #                          COMPLETE THE FOLLOWING SECTION                       #\n",
        "        #################################################################################\n",
        "          # Your Code Here\n",
        "        self.TokenEmbedding = nn.Embedding(vocab_size, embed_size)\n",
        "        self.PositionalEmbedding = PositionalEmbedding(embed_size, seq_len)\n",
        "        self.SegmentEmbedding = nn.Embedding(3, embed_size, padding_idx=0)\n",
        "        self.dropout = nn.Dropout(dropout)\n",
        "\n",
        "        #################################################################################\n",
        "\n",
        "        #################################################################################\n",
        "\n",
        "    def forward(self, sequence, segment_id):\n",
        "        \"\"\"\n",
        "        :params sequence: (batch_size, max_len)\n",
        "        :param segment_id: (batch_size, max_len)\n",
        "        :output shape: (batch_size, max_len, d_model)\n",
        "        \"\"\"\n",
        "        #################################################################################\n",
        "        #                          COMPLETE THE FOLLOWING SECTION                       #\n",
        "        #################################################################################\n",
        "\n",
        "        tkn = self.TokenEmbedding(sequence)\n",
        "        p = self.PositionalEmbedding(sequence)\n",
        "        seguence = self.SegmentEmbedding(segment_id)\n",
        "        x = tkn + p + seguence\n",
        "\n",
        "\n",
        "\n",
        "        #################################################################################\n",
        "\n",
        "        #################################################################################\n",
        "        return self.dropout(x)"
      ]
    },
    {
      "cell_type": "markdown",
      "metadata": {
        "id": "G73cmtcE1c9A"
      },
      "source": [
        "## 1-3-Attention Module"
      ]
    },
    {
      "cell_type": "markdown",
      "metadata": {
        "id": "52h9ZGB27tTw"
      },
      "source": [
        "Multi Head Attention"
      ]
    },
    {
      "cell_type": "code",
      "execution_count": null,
      "metadata": {
        "id": "Z05fhi-TexWw"
      },
      "outputs": [],
      "source": [
        "class ScaledDotProductAttention(torch.nn.Module):\n",
        "    def __init__(self):\n",
        "        super(ScaledDotProductAttention, self).__init__()\n",
        "\n",
        "    def forward(self, Q, K, V, attn_mask, k_dim):\n",
        "        scores = torch.matmul(Q, K.transpose(-1, -2)) / np.sqrt(k_dim)\n",
        "        scores = scores.masked_fill(attn_mask == True, -1e9) # Fill padding elements with extremely low score\n",
        "        attn = torch.nn.Softmax(dim=-1)(scores)\n",
        "        context = torch.matmul(attn, V)\n",
        "        return context, attn"
      ]
    },
    {
      "cell_type": "code",
      "execution_count": null,
      "metadata": {
        "id": "t_1RlEOfgsm4"
      },
      "outputs": [],
      "source": [
        "class MultiHeadedAttention(torch.nn.Module):\n",
        "\n",
        "    def __init__(self, heads, d_model, dropout=0.1):\n",
        "        super(MultiHeadedAttention, self).__init__()\n",
        "        assert d_model % heads == 0\n",
        "        #################################################################################\n",
        "        #                          COMPLETE THE FOLLOWING SECTION                       #\n",
        "        #################################################################################\n",
        "          # Your Code Here\n",
        "        self.d_model = d_model\n",
        "        self.d_k = d_model // heads\n",
        "        self.heads = heads\n",
        "        self.dropout = dropout\n",
        "        self.Q_w = nn.Linear(d_model, d_model)\n",
        "        self.K_w = nn.Linear(d_model, d_model)\n",
        "        self.V_w = nn.Linear(d_model, d_model)\n",
        "        self.O_w = nn.Linear(d_model, d_model)\n",
        "\n",
        "\n",
        "    def forward(self, query, key, value, mask):\n",
        "        \"\"\"\n",
        "        :params query, key, value of shape: (batch_size, max_len, d_model)\n",
        "        :param mask: pad and non-pad token masks shape: (batch_size, 1, 1, max_words)\n",
        "        :output shape: (batch_size, max_len, d_model)\n",
        "        \"\"\"\n",
        "        #################################################################################\n",
        "        #                          COMPLETE THE FOLLOWING SECTION                       #\n",
        "        #################################################################################\n",
        "\n",
        "        Q = self.Q_w(query) # (batch_size, seq, d_model)\n",
        "        V = self.V_w(value) # (batch_size, seq, d_model)\n",
        "        K = self.K_w(key) # (batch_size, seq, d_model)\n",
        "\n",
        "        # Now dividing the heads\n",
        "        Q = Q.view(Q.shape[0],self.heads ,Q.shape[1], self.d_k) # (batch_size, seq, d_model) -> (batch_size, h, seq, d_k)\n",
        "        V = V.view(V.shape[0],self.heads ,V.shape[1], self.d_k) # (batch_size, seq, d_model) -> (batch_size, h, seq, d_k)\n",
        "        K = K.view(K.shape[0],self.heads ,K.shape[1], self.d_k) # (batch_size, seq, d_model) -> (batch_size, h, seq, d_k)\n",
        "\n",
        "        att = ScaledDotProductAttention()\n",
        "        x, self.attention_score = att(Q, K, V, mask, self.d_k)\n",
        "\n",
        "        # (batch_size, h, seq, d_k) -> (batch_size, seq, d_model)\n",
        "        # It must be checked wheter it works or not\n",
        "        x = x.view(x.shape[0], x.shape[-2], self.d_model)\n",
        "        x = self.O_w(x)\n",
        "        return x"
      ]
    },
    {
      "cell_type": "markdown",
      "metadata": {
        "id": "r22vwGSW1qxZ"
      },
      "source": [
        "## 1-4-Encoder Module"
      ]
    },
    {
      "cell_type": "code",
      "execution_count": null,
      "metadata": {
        "id": "F-WoxQU2gu7M"
      },
      "outputs": [],
      "source": [
        "class PositionwiseFeedForward(torch.nn.Module):\n",
        "    \"Implements FFN equation.\"\n",
        "    def __init__(self, d_model, middle_dim, dropout=0.1):\n",
        "        super(PositionwiseFeedForward, self).__init__()\n",
        "        #################################################################################\n",
        "        #                          COMPLETE THE FOLLOWING SECTION                       #\n",
        "        #################################################################################\n",
        "          # Your Code Here\n",
        "        self.inp = nn.Linear(d_model, middle_dim)\n",
        "        self.out = nn.Linear(middle_dim, d_model)\n",
        "        self.dropout = nn.Dropout(dropout)\n",
        "        self.relu = nn.ReLU()\n",
        "\n",
        "    def forward(self, x):\n",
        "        \"\"\"\n",
        "        :param x: (batch_size, max_len, d_model)\n",
        "        :output shape: (batch_size, max_len, d_model)\n",
        "        \"\"\"\n",
        "        #################################################################################\n",
        "        #                          COMPLETE THE FOLLOWING SECTION                       #\n",
        "        #################################################################################\n",
        "          # Your Code Here\n",
        "        out = self.inp(x)\n",
        "        out = self.relu(out)\n",
        "        out = self.dropout(out)\n",
        "        out = self.out(out)\n",
        "        return out + x"
      ]
    },
    {
      "cell_type": "code",
      "execution_count": null,
      "metadata": {
        "id": "ppWNkeCu7mZW"
      },
      "outputs": [],
      "source": [
        "class EncoderLayer(torch.nn.Module):\n",
        "    def __init__(self, d_model=768, heads=12, feed_forward_hidden=768 * 4, dropout=0.1):\n",
        "        super(EncoderLayer, self).__init__()\n",
        "        #################################################################################\n",
        "        #                          COMPLETE THE FOLLOWING SECTION                       #\n",
        "        #################################################################################\n",
        "\n",
        "\n",
        "        self.attention = MultiHeadedAttention(heads, d_model, dropout)\n",
        "        self.norm = nn.LayerNorm(d_model)\n",
        "        self.feedforward = PositionwiseFeedForward(d_model, feed_forward_hidden, dropout)\n",
        "        self.dropout = nn.Dropout(dropout)\n",
        "\n",
        "    def forward(self, embeddings, mask):\n",
        "        \"\"\":param embeddings: input embeddings (batch_size, max_len, d_model)\n",
        "           :param mask: pad and non-pad token masks (batch_size, 1, 1, max_len)\n",
        "           :output shape: (batch_size, max_len, d_model)\n",
        "        \"\"\"\n",
        "        #################################################################################\n",
        "        #                          COMPLETE THE FOLLOWING SECTION                       #\n",
        "        #################################################################################\n",
        "        attention_output = self.attention(embeddings, embeddings, embeddings, mask)\n",
        "        attention_output = self.norm(embeddings + self.dropout(attention_output))\n",
        "        feedforward_output = self.feedforward(attention_output)\n",
        "        output = self.norm(attention_output + self.dropout(feedforward_output))\n",
        "        return output"
      ]
    },
    {
      "cell_type": "markdown",
      "metadata": {
        "id": "3FMHUw0874c8"
      },
      "source": [
        "## 1-5-Final model"
      ]
    },
    {
      "cell_type": "code",
      "execution_count": null,
      "metadata": {
        "id": "7kOdc5pDfEa4"
      },
      "outputs": [],
      "source": [
        "def get_attn_pad_mask(seq_a, seq_b):\n",
        "    batch_size, len_a = seq_a.size()\n",
        "    batch_size, len_b = seq_b.size()\n",
        "    pad_attn_mask = seq_b.data.eq(0).unsqueeze(1) # one is for masking pad tokens True\n",
        "    return pad_attn_mask.expand(batch_size, len_a, len_b).unsqueeze(1)  # batch_size x 1 x len_a x len_b"
      ]
    },
    {
      "cell_type": "code",
      "execution_count": null,
      "metadata": {
        "id": "FsblQwrJ7mWd"
      },
      "outputs": [],
      "source": [
        "class Masked_Language_Model(torch.nn.Module):\n",
        "    def __init__(self, vocab_size, seq_len, d_model=768, n_layers=12, heads=12, dropout=0.1, device=\"cpu\"):\n",
        "        \"\"\"\n",
        "        :param vocab_size: vocab_size of total words\n",
        "        :param seq_len: maximum sequence length\n",
        "        :param d_model: model hidden size\n",
        "        :param n_layers: numbers of Encoder Transformer blocks(layers)\n",
        "        :param heads: number of attention heads\n",
        "        :param dropout: dropout rate\n",
        "        \"\"\"\n",
        "        super().__init__()\n",
        "        #################################################################################\n",
        "        #                          COMPLETE THE FOLLOWING SECTION                       #\n",
        "        #################################################################################\n",
        "          # Your Code Here\n",
        "        self.d_model = d_model\n",
        "        self.n_layers = n_layers\n",
        "        self.heads = heads\n",
        "        self.dropout = nn.Dropout(dropout)\n",
        "        self.embedding = Embedding(vocab_size, d_model, seq_len, dropout, device)\n",
        "        self.encoder_layers = nn.ModuleList([\n",
        "            EncoderLayer() for i in range(n_layers)\n",
        "        ])\n",
        "        self.fc = nn.Linear(d_model, vocab_size)\n",
        "        #################################################################################\n",
        "\n",
        "        #################################################################################\n",
        "\n",
        "\n",
        "    def forward(self, x, segment_info):\n",
        "        \"\"\":param x: (batch_size, max_len)\n",
        "           :param segment_info: (batch_size, max_len)\n",
        "           :output shape: (batch_size, max_len, vocab_size)\n",
        "        \"\"\"\n",
        "        mask = get_attn_pad_mask(x, x)\n",
        "\n",
        "        # Obtain embeddings using the Embedding layer\n",
        "        embeddings = self.embedding(x, segment_info)\n",
        "\n",
        "        # Forward pass through the encoder layers\n",
        "        for layer in self.encoder_layers:\n",
        "            embeddings = layer(embeddings, mask)\n",
        "\n",
        "        # Apply the final linear layer to get the output logits\n",
        "        out = self.fc(embeddings)\n",
        "\n",
        "        return out"
      ]
    },
    {
      "cell_type": "markdown",
      "metadata": {
        "id": "NxTNofhRNi84"
      },
      "source": [
        "## 1-6-Trainer and LR_scheduler"
      ]
    },
    {
      "cell_type": "code",
      "execution_count": null,
      "metadata": {
        "id": "mXDDVm1bAkPV"
      },
      "outputs": [],
      "source": [
        "class Learning_Rate_Scheduler():\n",
        "    '''A simple wrapper class for learning rate scheduling'''\n",
        "    def __init__(self, optimizer, d_model, n_warmup_steps):\n",
        "        self._optimizer = optimizer\n",
        "        self.n_warmup_steps = n_warmup_steps\n",
        "        self.n_current_steps = 0\n",
        "        self.init_lr = np.power(d_model, -0.5)\n",
        "\n",
        "    def step_and_update_lr(self):\n",
        "        \"Step with the inner optimizer\"\n",
        "        self._update_learning_rate()\n",
        "        self._optimizer.step()\n",
        "\n",
        "    def zero_grad(self):\n",
        "        \"Zero out the gradients by the inner optimizer\"\n",
        "        self._optimizer.zero_grad()\n",
        "\n",
        "    def _get_lr_scale(self):\n",
        "        return np.min([\n",
        "            np.power(self.n_current_steps, -0.5),\n",
        "            np.power(self.n_warmup_steps, -1.5) * self.n_current_steps])\n",
        "\n",
        "    def _update_learning_rate(self):\n",
        "        ''' Learning rate scheduling per step '''\n",
        "\n",
        "        self.n_current_steps += 1\n",
        "        lr = self.init_lr * self._get_lr_scale()\n",
        "\n",
        "        for param_group in self._optimizer.param_groups:\n",
        "            param_group['lr'] = lr"
      ]
    },
    {
      "cell_type": "code",
      "execution_count": null,
      "metadata": {
        "id": "4YZZGpJS8c0Y"
      },
      "outputs": [],
      "source": [
        "import torch.nn.functional as F\n",
        "\n",
        "class Trainer:\n",
        "    def __init__(\n",
        "        self,\n",
        "        model,\n",
        "        train_dataloader,\n",
        "        num_epochs,\n",
        "        test_dataloader=None,\n",
        "        lr= 1e-4,\n",
        "        weight_decay=0.08,\n",
        "        betas=(0.9, 0.999),\n",
        "        warmup_steps=10000,\n",
        "        device='cuda'\n",
        "        ):\n",
        "\n",
        "        self.device = device\n",
        "        self.model = model\n",
        "        self.train_data = train_dataloader\n",
        "        self.test_data = test_dataloader\n",
        "\n",
        "\n",
        "        \"\"\" Defining optimizer and Learning Rate scheduler \"\"\"\n",
        "        self.optimizer = Adam(self.model.parameters(), lr=lr, betas=betas, weight_decay=weight_decay)\n",
        "        self.lr_scheduler = Learning_Rate_Scheduler(\n",
        "            self.optimizer, self.model.d_model, n_warmup_steps=warmup_steps\n",
        "            )\n",
        "\n",
        "        \"\"\" Using CrossEntropy Loss function for predicting the masked_token \"\"\"\n",
        "        self.criterion = torch.nn.CrossEntropyLoss(ignore_index=-100)\n",
        "\n",
        "        print(\"Total Parameters:\", sum([p.nelement() for p in self.model.parameters()]))\n",
        "\n",
        "\n",
        "\n",
        "    def Fit(self, train_loader, num_epochs, path_to_save):\n",
        "\n",
        "      self.train_losses = []\n",
        "      lrs=[]\n",
        "\n",
        "      for epoch in range(num_epochs):\n",
        "        train_per_epoch_loss=0\n",
        "        train_data_total = 0\n",
        "\n",
        "        with tqdm(train_loader, unit=\"batch\") as batches:\n",
        "          for data in batches:\n",
        "            batches.set_description(f\"Epoch {epoch + 1}\")\n",
        "\n",
        "            # 0. batch_data will be sent into the device(GPU or cpu)\n",
        "            data = {key: value.to(self.device) for key, value in data.items()}\n",
        "\n",
        "#                 print(data.get(\"segment_info\"))\n",
        "#                 print(data.get(\"segment_ids\"))\n",
        "#                 segment_info = data.get(\"segment_info\", None)  # Replace \"segment_info\" with the actual key in your data\n",
        "\n",
        "                #################################################################################\n",
        "                #                          COMPLETE THE FOLLOWING SECTION                       #\n",
        "                #################################################################################\n",
        "                # 1. forward phase\n",
        "            logits = self.model(data[\"input_ids\"], data['segment_ids'])\n",
        "\n",
        "                # 2. calculate Loss only for MASKed tokens\n",
        "\n",
        "            loss = self.criterion(logits.view(-1, logits.size(-1)), data[\"labels\"].view(-1))\n",
        "            #################################################################################\n",
        "\n",
        "            #################################################################################\n",
        "            # 3. backward and optimization\n",
        "            self.lr_scheduler.zero_grad()\n",
        "            loss.backward()\n",
        "            self.lr_scheduler.step_and_update_lr()\n",
        "\n",
        "            lrs.append(self.optimizer.param_groups[0][\"lr\"])\n",
        "            train_data_total += len(data[\"labels\"])\n",
        "            train_per_epoch_loss += loss.item()\n",
        "            batches.set_postfix(train_loss = (train_per_epoch_loss/len(train_loader))) # update loss per batch of data\n",
        "\n",
        "        self.train_losses.append(train_per_epoch_loss/len(train_loader))\n",
        "\n",
        "        if epoch%10==0:\n",
        "          PATH=f\"{path_to_save}mlm_{num_epochs}Eps_{epoch}\"\n",
        "\n",
        "          torch.save({\n",
        "                      'epoch': epoch,\n",
        "                      'model_state_dict': self.model.state_dict(),\n",
        "                      'optimizer_state_dict': self.optimizer.state_dict(),\n",
        "                      'loss': self.train_losses[-1],\n",
        "                      }, PATH)\n",
        "\n",
        "      self.history={\n",
        "        'train_losses':self.train_losses,\n",
        "        'optimizer':self.optimizer,\n",
        "        'learning_rates':lrs\n",
        "      }\n",
        "      return self.history"
      ]
    },
    {
      "cell_type": "markdown",
      "metadata": {
        "id": "u2gjb2p1Ux7g"
      },
      "source": [
        "## 1-7-Training the model"
      ]
    },
    {
      "cell_type": "code",
      "execution_count": null,
      "metadata": {
        "id": "Lj_D9a9_8dlQ",
        "colab": {
          "base_uri": "https://localhost:8080/"
        },
        "outputId": "d95f75c4-e003-4fff-ccdf-1a4144a450ee"
      },
      "outputs": [
        {
          "output_type": "stream",
          "name": "stdout",
          "text": [
            "Total Parameters: 53096417\n"
          ]
        },
        {
          "output_type": "stream",
          "name": "stderr",
          "text": [
            "Epoch 1: 100%|██████████| 27/27 [00:26<00:00,  1.03batch/s, train_loss=9]\n",
            "Epoch 2: 100%|██████████| 27/27 [00:26<00:00,  1.00batch/s, train_loss=8.94]\n",
            "Epoch 3: 100%|██████████| 27/27 [00:27<00:00,  1.02s/batch, train_loss=8.82]\n",
            "Epoch 4: 100%|██████████| 27/27 [00:27<00:00,  1.02s/batch, train_loss=8.64]\n",
            "Epoch 5: 100%|██████████| 27/27 [00:27<00:00,  1.01s/batch, train_loss=8.41]\n",
            "Epoch 6: 100%|██████████| 27/27 [00:27<00:00,  1.01s/batch, train_loss=8.15]\n",
            "Epoch 7: 100%|██████████| 27/27 [00:27<00:00,  1.01s/batch, train_loss=7.89]\n",
            "Epoch 8: 100%|██████████| 27/27 [00:27<00:00,  1.01s/batch, train_loss=7.67]\n",
            "Epoch 9: 100%|██████████| 27/27 [00:27<00:00,  1.01s/batch, train_loss=7.5]\n",
            "Epoch 10: 100%|██████████| 27/27 [00:27<00:00,  1.01s/batch, train_loss=7.38]\n",
            "Epoch 11: 100%|██████████| 27/27 [00:27<00:00,  1.01s/batch, train_loss=7.28]\n",
            "Epoch 12: 100%|██████████| 27/27 [00:27<00:00,  1.02s/batch, train_loss=7.18]\n",
            "Epoch 13: 100%|██████████| 27/27 [00:27<00:00,  1.02s/batch, train_loss=7.08]\n",
            "Epoch 14: 100%|██████████| 27/27 [00:27<00:00,  1.01s/batch, train_loss=6.99]\n",
            "Epoch 15: 100%|██████████| 27/27 [00:27<00:00,  1.01s/batch, train_loss=6.91]\n",
            "Epoch 16: 100%|██████████| 27/27 [00:27<00:00,  1.01s/batch, train_loss=6.82]\n",
            "Epoch 17: 100%|██████████| 27/27 [00:27<00:00,  1.01s/batch, train_loss=6.75]\n",
            "Epoch 18: 100%|██████████| 27/27 [00:27<00:00,  1.01s/batch, train_loss=6.68]\n",
            "Epoch 19: 100%|██████████| 27/27 [00:27<00:00,  1.01s/batch, train_loss=6.61]\n",
            "Epoch 20: 100%|██████████| 27/27 [00:27<00:00,  1.01s/batch, train_loss=6.55]\n",
            "Epoch 21: 100%|██████████| 27/27 [00:27<00:00,  1.01s/batch, train_loss=6.51]\n",
            "Epoch 22: 100%|██████████| 27/27 [00:27<00:00,  1.01s/batch, train_loss=6.45]\n",
            "Epoch 23: 100%|██████████| 27/27 [00:27<00:00,  1.01s/batch, train_loss=6.42]\n",
            "Epoch 24: 100%|██████████| 27/27 [00:27<00:00,  1.01s/batch, train_loss=6.37]\n",
            "Epoch 25: 100%|██████████| 27/27 [00:27<00:00,  1.01s/batch, train_loss=6.34]\n",
            "Epoch 26: 100%|██████████| 27/27 [00:27<00:00,  1.01s/batch, train_loss=6.31]\n",
            "Epoch 27: 100%|██████████| 27/27 [00:27<00:00,  1.01s/batch, train_loss=6.28]\n",
            "Epoch 28: 100%|██████████| 27/27 [00:27<00:00,  1.01s/batch, train_loss=6.26]\n",
            "Epoch 29: 100%|██████████| 27/27 [00:27<00:00,  1.01s/batch, train_loss=6.24]\n",
            "Epoch 30: 100%|██████████| 27/27 [00:27<00:00,  1.01s/batch, train_loss=6.22]\n",
            "Epoch 31: 100%|██████████| 27/27 [00:27<00:00,  1.01s/batch, train_loss=6.2]\n",
            "Epoch 32: 100%|██████████| 27/27 [00:27<00:00,  1.01s/batch, train_loss=6.19]\n",
            "Epoch 33: 100%|██████████| 27/27 [00:27<00:00,  1.02s/batch, train_loss=6.17]\n",
            "Epoch 34: 100%|██████████| 27/27 [00:27<00:00,  1.01s/batch, train_loss=6.17]\n",
            "Epoch 35: 100%|██████████| 27/27 [00:27<00:00,  1.01s/batch, train_loss=6.15]\n",
            "Epoch 36: 100%|██████████| 27/27 [00:27<00:00,  1.01s/batch, train_loss=6.15]\n",
            "Epoch 37: 100%|██████████| 27/27 [00:27<00:00,  1.01s/batch, train_loss=6.14]\n",
            "Epoch 38: 100%|██████████| 27/27 [00:27<00:00,  1.01s/batch, train_loss=6.12]\n",
            "Epoch 39: 100%|██████████| 27/27 [00:27<00:00,  1.01s/batch, train_loss=6.12]\n",
            "Epoch 40: 100%|██████████| 27/27 [00:27<00:00,  1.01s/batch, train_loss=6.11]\n",
            "Epoch 41: 100%|██████████| 27/27 [00:27<00:00,  1.01s/batch, train_loss=6.1]\n",
            "Epoch 42: 100%|██████████| 27/27 [00:27<00:00,  1.01s/batch, train_loss=6.1]\n",
            "Epoch 43: 100%|██████████| 27/27 [00:27<00:00,  1.01s/batch, train_loss=6.09]\n",
            "Epoch 44: 100%|██████████| 27/27 [00:27<00:00,  1.01s/batch, train_loss=6.08]\n",
            "Epoch 45: 100%|██████████| 27/27 [00:27<00:00,  1.01s/batch, train_loss=6.08]\n",
            "Epoch 46: 100%|██████████| 27/27 [00:27<00:00,  1.01s/batch, train_loss=6.08]\n",
            "Epoch 47: 100%|██████████| 27/27 [00:27<00:00,  1.01s/batch, train_loss=6.07]\n",
            "Epoch 48: 100%|██████████| 27/27 [00:27<00:00,  1.01s/batch, train_loss=6.07]\n",
            "Epoch 49: 100%|██████████| 27/27 [00:27<00:00,  1.01s/batch, train_loss=6.06]\n",
            "Epoch 50: 100%|██████████| 27/27 [00:27<00:00,  1.01s/batch, train_loss=6.05]\n",
            "Epoch 51: 100%|██████████| 27/27 [00:27<00:00,  1.01s/batch, train_loss=6.05]\n",
            "Epoch 52: 100%|██████████| 27/27 [00:27<00:00,  1.01s/batch, train_loss=6.05]\n",
            "Epoch 53: 100%|██████████| 27/27 [00:27<00:00,  1.01s/batch, train_loss=6.05]\n",
            "Epoch 54: 100%|██████████| 27/27 [00:27<00:00,  1.01s/batch, train_loss=6.05]\n",
            "Epoch 55: 100%|██████████| 27/27 [00:27<00:00,  1.01s/batch, train_loss=6.04]\n",
            "Epoch 56: 100%|██████████| 27/27 [00:27<00:00,  1.01s/batch, train_loss=6.04]\n",
            "Epoch 57: 100%|██████████| 27/27 [00:27<00:00,  1.01s/batch, train_loss=6.03]\n",
            "Epoch 58: 100%|██████████| 27/27 [00:27<00:00,  1.01s/batch, train_loss=6.02]\n",
            "Epoch 59: 100%|██████████| 27/27 [00:27<00:00,  1.01s/batch, train_loss=6.02]\n",
            "Epoch 60: 100%|██████████| 27/27 [00:27<00:00,  1.01s/batch, train_loss=6.02]\n"
          ]
        }
      ],
      "source": [
        "device = torch.device(\"cuda:0\" if torch.cuda.is_available() else \"cpu\")\n",
        "path_to_save_checkpoints=\"/content/\"\n",
        "\n",
        "num_epochs = 60\n",
        "BATCH_SIZE=128\n",
        "train_loader = DataLoader(preprocessed_data, batch_size=BATCH_SIZE, shuffle=True, pin_memory=True)\n",
        "\n",
        "\n",
        "model = Masked_Language_Model(\n",
        "  vocab_size=tokenizer.vocab_size,\n",
        "  seq_len=MAX_LEN,\n",
        "  d_model=768,\n",
        "  n_layers=6,\n",
        "  heads=12,\n",
        "  dropout=0.1,\n",
        "  device=device\n",
        ")\n",
        "model=model.to(device)\n",
        "\n",
        "trainer = Trainer(model, train_loader, num_epochs, lr= 1e-3, weight_decay=0.08, betas=(0.9, 0.999), device=device)\n",
        "history = trainer.Fit(train_loader, num_epochs, path_to_save_checkpoints)"
      ]
    },
    {
      "cell_type": "markdown",
      "metadata": {
        "id": "bs3x2Jwb9HA3"
      },
      "source": [
        "Plot Training Loss"
      ]
    },
    {
      "cell_type": "code",
      "execution_count": null,
      "metadata": {
        "id": "W7-y6Wt69E8S",
        "colab": {
          "base_uri": "https://localhost:8080/",
          "height": 487
        },
        "outputId": "221c5aaa-75cf-4e3e-ef92-ac03bcada0fa"
      },
      "outputs": [
        {
          "output_type": "display_data",
          "data": {
            "text/plain": [
              "<Figure size 700x500 with 1 Axes>"
            ],
            "image/png": "[encoded data removed]"
          },
          "metadata": {}
        }
      ],
      "source": [
        "plt.subplots(figsize=(7, 5))\n",
        "sns.set_style(\"dark\")\n",
        "sns.lineplot(data=np.asarray(history['train_losses']),label=\"Train Loss\").set(title=\"loss change during training\", xlabel=\"epoch\", ylabel=\"loss\")\n",
        "plt.legend()\n",
        "plt.show()"
      ]
    },
    {
      "cell_type": "markdown",
      "metadata": {
        "id": "ewYp_Z474-Lh"
      },
      "source": [
        "# 2-Implement MLM with Hugging_Face: <font color=yellow>Total Points:30</font>"
      ]
    },
    {
      "cell_type": "markdown",
      "metadata": {
        "id": "pPYggFvgMhJ7"
      },
      "source": [
        "<h3><font color=lightblue>In this part you will train a RoBERTa MLM using Hugging Face library</font></h3>"
      ]
    },
    {
      "cell_type": "markdown",
      "metadata": {
        "id": "_hZXSIbK64Sm"
      },
      "source": [
        "<h4>you will need a token with <font color=greeen>WRITE</font> permission</h4>"
      ]
    },
    {
      "cell_type": "code",
      "execution_count": null,
      "metadata": {
        "colab": {
          "base_uri": "https://localhost:8080/",
          "height": 145,
          "referenced_widgets": [
            "876f3fc853b84179b8cf75b2f184e4d0",
            "af92f6a2e29b4903a7fd54d0bc66c957",
            "7998e85495a4443fbc2b1b113dcf85eb",
            "9fb7928a380a43ac8a0e898359424578",
            "fc52e8ad556447aa8bddec3b7c605f42",
            "7df006c0a5c84c1d8b7ced2b7e42324d",
            "eb64b0a598504e4f9a632a8dc41fbce7",
            "0397343b22c9431a906cd979568436b4",
            "e3373cd2661442db9dffcfc3b331087a",
            "b978c7231a734c97805d0a1087fb7494",
            "5c980e6c784c43d685957f19b49556c9",
            "a8d625e3b19946d695db8673f63befd7",
            "0a95902e374c48718c6e31faba0d6eb1",
            "761d358d8312447282ab19a3b52671b0",
            "3ff36c14724e414483e6830317b1132f",
            "c34dc0f33f2d46d6b35858c4119e70e7",
            "dbe6ca1aedf24f4390359b71bc561988",
            "bf4331db26d34894a0014614ac8bc201",
            "f3b8f1e1c04c4685b299ba1540a18bf6",
            "ffb9713f1535451e99bc3c20ec45d08d",
            "9c0942e850f6460cae31449b33d35b43",
            "450168cdac2143b59ea7aa573849f6fb",
            "b8da4265bb464c85b302e107e9116386",
            "91495b2776544e8bad31f6e554c6bb81",
            "614d6c52334e4abc833e2876b90a578f",
            "63178075baca4ed88d82bbd52921696d",
            "926fd7e882484b83bef2fb3b216f6b14",
            "ed851f0560b24099ba240b0de2870613",
            "a6bf7644f2594f32a38e767c7c747291",
            "ce9657d06fb140948ae9ea809997965b",
            "224200e3d79d4bd0b91de4614bad1a78",
            "fb337a7718084b60ab0f7bd8eceaf4d7"
          ]
        },
        "id": "AKv_43yzcMDz",
        "outputId": "396468da-d13f-4c08-9927-7b5158a9782c"
      },
      "outputs": [
        {
          "output_type": "display_data",
          "data": {
            "text/plain": [
              "VBox(children=(HTML(value='<center> <img\\nsrc=https://huggingface.co/front/assets/huggingface_logo-noborder.sv…"
            ],
            "application/vnd.jupyter.widget-view+json": {
              "version_major": 2,
              "version_minor": 0,
              "model_id": "876f3fc853b84179b8cf75b2f184e4d0"
            }
          },
          "metadata": {}
        }
      ],
      "source": [
        "#logging in to hugging face\n",
        "notebook_login()"
      ]
    },
    {
      "cell_type": "markdown",
      "metadata": {
        "id": "0DkOJRfkG4NN"
      },
      "source": [
        "## 2-1-Load, Train and Save the Tokenizer on Dataset texts"
      ]
    },
    {
      "cell_type": "code",
      "execution_count": null,
      "metadata": {
        "id": "9jDvD1pbSTE4"
      },
      "outputs": [],
      "source": [
        "#load dataset file and clean it\n",
        "with open('/content/Parsi_Mianeh_Corpus.txt', 'r') as f:\n",
        "  corpus = f.read()\n",
        "corpus = re.sub('٭', '', corpus)\n",
        "corpus = re.sub('\\xa0', '', corpus)\n",
        "corpus = re.sub('#', '', corpus)"
      ]
    },
    {
      "cell_type": "code",
      "execution_count": null,
      "metadata": {
        "id": "IBo_1z8gXP7t"
      },
      "outputs": [],
      "source": [
        "#train tokenizer from scratch with byte pair level\n",
        "spl_tokens = [\"[UNK]\", \"[SEP]\", \"[MASK]\", \"[CLS]\", \"[PAD]\"]\n",
        "temp_post_processor = tokenizers.processors.TemplateProcessing(\n",
        "    single=\"[CLS] $A [SEP]\",\n",
        "    pair=\"[CLS] $A [SEP] $B:1 [SEP]:1\",\n",
        "    special_tokens=[\n",
        "        (\"[CLS]\", spl_tokens.index(\"[CLS]\")),\n",
        "        (\"[SEP]\", spl_tokens.index(\"[SEP]\")),\n",
        "    ],\n",
        ")\n",
        "\n",
        "tokenizer = tokenizers.Tokenizer(tokenizers.models.BPE(unk_token = spl_tokens[0], mask_token=spl_tokens[2]))\n",
        "tokenizer_trainer = tokenizers.trainers.BpeTrainer(special_tokens = spl_tokens)\n",
        "tokenizer.pre_tokenizer = tokenizers.pre_tokenizers.Whitespace()\n",
        "tokenizer.post_processor=temp_post_processor\n",
        "\n",
        "paths = [\"Parsi_Mianeh_Corpus.txt\"]\n",
        "tokenizer.train(paths, tokenizer_trainer)\n",
        "tokenizer.save('tokenizer.json')"
      ]
    },
    {
      "cell_type": "code",
      "execution_count": null,
      "metadata": {
        "colab": {
          "base_uri": "https://localhost:8080/"
        },
        "id": "1hk7Nv_fv1wk",
        "outputId": "a2457fa8-2698-4167-9275-0ad30c551111"
      },
      "outputs": [
        {
          "output_type": "stream",
          "name": "stdout",
          "text": [
            "6881\n"
          ]
        }
      ],
      "source": [
        "#get vocab size\n",
        "vocab_size = tokenizer.get_vocab_size()\n",
        "print(vocab_size)"
      ]
    },
    {
      "cell_type": "code",
      "execution_count": null,
      "metadata": {
        "colab": {
          "base_uri": "https://localhost:8080/"
        },
        "id": "pxfX3cf7s1ps",
        "outputId": "45ef66ba-4ede-48ef-ab06-ce1cffeb15dd"
      },
      "outputs": [
        {
          "output_type": "stream",
          "name": "stderr",
          "text": [
            "The tokenizer class you load from this checkpoint is not the same type as the class this function is called from. It may result in unexpected tokenization. \n",
            "The tokenizer class you load from this checkpoint is 'PreTrainedTokenizerFast'. \n",
            "The class this function is called from is 'RobertaTokenizerFast'.\n"
          ]
        },
        {
          "output_type": "execute_result",
          "data": {
            "text/plain": [
              "('tokenizer/tokenizer_config.json',\n",
              " 'tokenizer/special_tokens_map.json',\n",
              " 'tokenizer/vocab.json',\n",
              " 'tokenizer/merges.txt',\n",
              " 'tokenizer/added_tokens.json',\n",
              " 'tokenizer/tokenizer.json')"
            ]
          },
          "metadata": {},
          "execution_count": 77
        }
      ],
      "source": [
        "#saved fast tokenizer to file and convert it to roberta tokenizer\n",
        "fast_tokenizer = transformers.PreTrainedTokenizerFast(tokenizer_file='tokenizer.json')\n",
        "fast_tokenizer.save_pretrained('fast_tokenizer')\n",
        "\n",
        "tok = transformers.RobertaTokenizerFast.from_pretrained('fast_tokenizer')\n",
        "tok.unk_token_id = 0\n",
        "tok.sep_token_id = 1\n",
        "tok.mask_token_id = 2\n",
        "tok.cls_token_id = 3\n",
        "tok.pad_token_id = 4\n",
        "\n",
        "your_hugging_face_id=\"z-rahimi-r\"\n",
        "tok.save_pretrained(f'{your_hugging_face_id}/parsig_pos', push_to_hub=True)\n",
        "tok.save_pretrained(f'{your_hugging_face_id}/parsig_tokenizer', push_to_hub=True)\n",
        "tok.save_pretrained('tokenizer')"
      ]
    },
    {
      "cell_type": "markdown",
      "metadata": {
        "id": "ZTXSKuHPHCHU"
      },
      "source": [
        "## 2-2-Data preparation"
      ]
    },
    {
      "cell_type": "code",
      "execution_count": null,
      "metadata": {
        "id": "lYxsLPWxgpZ-"
      },
      "outputs": [],
      "source": [
        "#define Custom Dataset class for our model\n",
        "class CustomDataset(torch.utils.data.Dataset):\n",
        "    def __init__(self, df, tokenizer):\n",
        "        # or use the RobertaTokenizer from `transformers` directly.\n",
        "        self.examples = []\n",
        "        # For every value in the dataframe\n",
        "        for example in df.values:\n",
        "            x=tokenizer.encode_plus(example, max_length = 100, truncation=True, padding=True)\n",
        "            self.examples += [{\"input_ids\":x.input_ids, \"attention_mask\": x.attention_mask}]\n",
        "\n",
        "    def __len__(self):\n",
        "        return len(self.examples)\n",
        "\n",
        "    def __getitem__(self, i):\n",
        "        # We’ll pad at the batch level.\n",
        "        return {key: torch.tensor(value) for key, value in self.examples[i].items()}"
      ]
    },
    {
      "cell_type": "code",
      "execution_count": null,
      "metadata": {
        "colab": {
          "base_uri": "https://localhost:8080/"
        },
        "id": "Hnr33GyoGrFN",
        "outputId": "7ad6b99d-a043-4160-96c2-677568d2db5f"
      },
      "outputs": [
        {
          "output_type": "stream",
          "name": "stderr",
          "text": [
            "Special tokens have been added in the vocabulary, make sure the associated word embeddings are fine-tuned or trained.\n"
          ]
        }
      ],
      "source": [
        "#load tokenizer from trained model\n",
        "tokenizer = transformers.AutoTokenizer.from_pretrained('tokenizer', padding_side='right', max_length=100)\n",
        "\n",
        "#read files again for train model\n",
        "with open('Parsi_Mianeh_Corpus.txt', 'r') as f:\n",
        "  fin_snt = f.read()\n",
        "fin_snt = fin_snt.split('\\n')[:-1]\n",
        "\n",
        "\n",
        "# Create the train and evaluation dataset\n",
        "train_data, eval_data = train_test_split(fin_snt, train_size=0.85)\n",
        "train_df = pd.DataFrame({'text': train_data})\n",
        "eval_df = pd.DataFrame({'text': eval_data})\n",
        "\n",
        "train_dataset = CustomDataset(train_df['text'], tokenizer)\n",
        "eval_dataset = CustomDataset(eval_df['text'], tokenizer)"
      ]
    },
    {
      "cell_type": "markdown",
      "metadata": {
        "id": "hqT3fZAEIArI"
      },
      "source": [
        "## 2-3-Define model and its Config"
      ]
    },
    {
      "cell_type": "code",
      "execution_count": null,
      "metadata": {
        "id": "VYxQQUaker61"
      },
      "outputs": [],
      "source": [
        "#generate config for train Roberta masked language model\n",
        "from transformers import RobertaForMaskedLM\n",
        "from transformers import RobertaConfig\n",
        "\n",
        "#################################################################################\n",
        "#                     COMPLETE THE FOLLOWING SECTION                            #\n",
        "#################################################################################\n",
        "\"\"\" Define appropriate config and instantiate the model  \"\"\"\n",
        "\n",
        "config = RobertaConfig()\n",
        "\n",
        "# Instantiate the model\n",
        "model = RobertaForMaskedLM(config=config)\n",
        "#################################################################################\n",
        "\n",
        "#################################################################################"
      ]
    },
    {
      "cell_type": "code",
      "execution_count": null,
      "metadata": {
        "id": "nTQ6YP5SGsj0"
      },
      "outputs": [],
      "source": [
        "from transformers import DataCollatorForLanguageModeling\n",
        "#################################################################################\n",
        "#                     COMPLETE THE FOLLOWING SECTION                            #\n",
        "#################################################################################\n",
        "data_collator = DataCollatorForLanguageModeling(\n",
        "    tokenizer=tokenizer,\n",
        "    mlm=True,  # Set to True for masked language modeling\n",
        "    mlm_probability=0.15,  # Probability of masking a token\n",
        ")\n",
        "#################################################################################\n",
        "\n",
        "#################################################################################"
      ]
    },
    {
      "cell_type": "markdown",
      "metadata": {
        "id": "4LSOT5pGIJft"
      },
      "source": [
        "## 2-4-Set training arguments and define a Trainer"
      ]
    },
    {
      "cell_type": "code",
      "execution_count": null,
      "metadata": {
        "id": "YSutZcOVMgo0"
      },
      "outputs": [],
      "source": [
        "from transformers import Trainer, TrainingArguments, EarlyStoppingCallback\n",
        "\n",
        "NUM_EPOCHS = 200\n",
        "BATCH_SIZE = 64\n",
        "learning_rate = 1e-4\n",
        "checkpoints_output_dir = \"/content/mlm\"\n",
        "\n",
        "# Define EarlyStopping callback\n",
        "early_stopping_callback = EarlyStoppingCallback(\n",
        "    early_stopping_patience=5,  # Patience for early stopping (number of evaluations with no improvement)\n",
        "    early_stopping_threshold=0.002,  # Minimum improvement to qualify as an improvement\n",
        ")\n",
        "\n",
        "# Define training arguments\n",
        "training_args = TrainingArguments(\n",
        "    output_dir=checkpoints_output_dir,\n",
        "    overwrite_output_dir=True,\n",
        "    num_train_epochs=NUM_EPOCHS,\n",
        "    per_device_train_batch_size=BATCH_SIZE,\n",
        "    learning_rate=learning_rate,\n",
        "    save_total_limit=2,  # Save only the last 2 checkpoints\n",
        "    save_steps=500,  # Save checkpoints every 500 steps\n",
        "    logging_dir=\"./logs\",\n",
        "    logging_steps=100,  # Log training metrics every 100 steps\n",
        "    evaluation_strategy=\"steps\",  # Evaluate every `eval_steps`\n",
        "    eval_steps=500,  # Evaluate every 500 steps\n",
        "    load_best_model_at_end=True,  # Load the best model at the end of training\n",
        "    metric_for_best_model=\"eval_loss\",  # Use eval_loss for tracking the best model\n",
        ")\n",
        "trainer = Trainer(\n",
        "    model=model,  # Your RoBERTaForMaskedLM model\n",
        "    args=training_args,\n",
        "    data_collator=data_collator,  # Your DataCollatorForLanguageModeling instance\n",
        "    train_dataset=train_dataset,  # Your training dataset\n",
        "    eval_dataset = eval_dataset,\n",
        "    callbacks=[early_stopping_callback],  # Use EarlyStopping callback\n",
        ")"
      ]
    },
    {
      "cell_type": "markdown",
      "metadata": {
        "id": "GsV1xR1OOvgb"
      },
      "source": [
        "## 2-5-Training the model"
      ]
    },
    {
      "cell_type": "markdown",
      "metadata": {
        "id": "BkwZbgpUUEdT"
      },
      "source": [
        "<h4><font color=hotpink>Perplexity before Training</font></h4>"
      ]
    },
    {
      "cell_type": "markdown",
      "metadata": {
        "id": "vz7wAw1N5F23"
      },
      "source": [
        "\n",
        "*   <font color=lightblue>In information theory, perplexity is a measurement of how well a probability distribution or probability model predicts a sample. </font>\n",
        "*   <font color=lightblue>A low perplexity indicates the probability distribution is good at predicting the sample.</font>\n",
        "*   <font color=lightblue>The perplexity of a language model measures the degree of uncertainty of a LM when it generates a new token, averaged over very long sequences</font>\n",
        "\n",
        "<font color=lightpink>We will calculate perplexity before and after training, in order to see how well the model is doing:</font>"
      ]
    },
    {
      "cell_type": "code",
      "execution_count": null,
      "metadata": {
        "id": "7wHH6egbN4Oq",
        "colab": {
          "base_uri": "https://localhost:8080/",
          "height": 92
        },
        "outputId": "c0e33f16-e64d-4183-c477-39ee480efec7"
      },
      "outputs": [
        {
          "output_type": "stream",
          "name": "stderr",
          "text": [
            "You're using a RobertaTokenizerFast tokenizer. Please note that with a fast tokenizer, using the `__call__` method is faster than using a method to encode the text followed by a call to the `pad` method to get a padded encoding.\n"
          ]
        },
        {
          "output_type": "display_data",
          "data": {
            "text/plain": [
              "<IPython.core.display.HTML object>"
            ],
            "text/html": [
              "\n",
              "    <div>\n",
              "      \n",
              "      <progress value='64' max='64' style='width:300px; height:20px; vertical-align: middle;'></progress>\n",
              "      [64/64 00:02]\n",
              "    </div>\n",
              "    "
            ]
          },
          "metadata": {}
        },
        {
          "output_type": "stream",
          "name": "stdout",
          "text": [
            ">>> Perplexity: 63861.52\n"
          ]
        }
      ],
      "source": [
        "import math\n",
        "\n",
        "eval_results = trainer.evaluate()\n",
        "print(f\">>> Perplexity: {math.exp(eval_results['eval_loss']):.2f}\")"
      ]
    },
    {
      "cell_type": "markdown",
      "metadata": {
        "id": "dO2PUiyNKc_T"
      },
      "source": [
        "**Train the model and Save it**"
      ]
    },
    {
      "cell_type": "code",
      "execution_count": null,
      "metadata": {
        "id": "kTcDnOd4Kbky",
        "colab": {
          "base_uri": "https://localhost:8080/",
          "height": 367
        },
        "outputId": "bd3e2619-7c77-46e2-ac97-1efe026c4b73"
      },
      "outputs": [
        {
          "output_type": "display_data",
          "data": {
            "text/plain": [
              "<IPython.core.display.HTML object>"
            ],
            "text/html": [
              "\n",
              "    <div>\n",
              "      \n",
              "      <progress value='3500' max='9200' style='width:300px; height:20px; vertical-align: middle;'></progress>\n",
              "      [3500/9200 1:11:21 < 1:56:16, 0.82 it/s, Epoch 76/200]\n",
              "    </div>\n",
              "    <table border=\"1\" class=\"dataframe\">\n",
              "  <thead>\n",
              " <tr style=\"text-align: left;\">\n",
              "      <th>Step</th>\n",
              "      <th>Training Loss</th>\n",
              "      <th>Validation Loss</th>\n",
              "    </tr>\n",
              "  </thead>\n",
              "  <tbody>\n",
              "    <tr>\n",
              "      <td>500</td>\n",
              "      <td>6.071900</td>\n",
              "      <td>6.282365</td>\n",
              "    </tr>\n",
              "    <tr>\n",
              "      <td>1000</td>\n",
              "      <td>6.017100</td>\n",
              "      <td>6.223959</td>\n",
              "    </tr>\n",
              "    <tr>\n",
              "      <td>1500</td>\n",
              "      <td>6.000100</td>\n",
              "      <td>6.345283</td>\n",
              "    </tr>\n",
              "    <tr>\n",
              "      <td>2000</td>\n",
              "      <td>5.998100</td>\n",
              "      <td>6.415134</td>\n",
              "    </tr>\n",
              "    <tr>\n",
              "      <td>2500</td>\n",
              "      <td>5.972600</td>\n",
              "      <td>6.409234</td>\n",
              "    </tr>\n",
              "    <tr>\n",
              "      <td>3000</td>\n",
              "      <td>5.989600</td>\n",
              "      <td>6.281439</td>\n",
              "    </tr>\n",
              "    <tr>\n",
              "      <td>3500</td>\n",
              "      <td>5.977200</td>\n",
              "      <td>6.225956</td>\n",
              "    </tr>\n",
              "  </tbody>\n",
              "</table><p>"
            ]
          },
          "metadata": {}
        },
        {
          "output_type": "display_data",
          "data": {
            "text/plain": [
              "<IPython.core.display.HTML object>"
            ],
            "text/html": [
              "\n",
              "    <div>\n",
              "      \n",
              "      <progress value='128' max='64' style='width:300px; height:20px; vertical-align: middle;'></progress>\n",
              "      [64/64 10:09]\n",
              "    </div>\n",
              "    "
            ]
          },
          "metadata": {}
        },
        {
          "output_type": "stream",
          "name": "stderr",
          "text": [
            "There were missing keys in the checkpoint model loaded: ['lm_head.decoder.weight', 'lm_head.decoder.bias'].\n"
          ]
        },
        {
          "output_type": "execute_result",
          "data": {
            "text/plain": [
              "TrainOutput(global_step=3500, training_loss=6.0563736921037945, metrics={'train_runtime': 4282.6882, 'train_samples_per_second': 135.289, 'train_steps_per_second': 2.148, 'total_flos': 9513982951997436.0, 'train_loss': 6.0563736921037945, 'epoch': 76.09})"
            ]
          },
          "metadata": {},
          "execution_count": 93
        }
      ],
      "source": [
        "# Train the model\n",
        "trainer.train()"
      ]
    },
    {
      "cell_type": "code",
      "execution_count": null,
      "metadata": {
        "id": "Q4u_mUlr5XO1"
      },
      "outputs": [],
      "source": [
        "path_to_save_model=\"/content/drive/MyDrive\"\n",
        "trainer.save_model(f\"{path_to_save_model}/model.pk\")"
      ]
    },
    {
      "cell_type": "code",
      "execution_count": null,
      "metadata": {
        "id": "Tt8LiD6M0khP",
        "colab": {
          "base_uri": "https://localhost:8080/"
        },
        "outputId": "13722562-568f-48e9-9fcf-078ebb7c4bb0"
      },
      "outputs": [
        {
          "output_type": "execute_result",
          "data": {
            "text/plain": [
              "('/content/drive/MyDrive/tokenizer.pk/tokenizer_config.json',\n",
              " '/content/drive/MyDrive/tokenizer.pk/special_tokens_map.json',\n",
              " '/content/drive/MyDrive/tokenizer.pk/vocab.json',\n",
              " '/content/drive/MyDrive/tokenizer.pk/merges.txt',\n",
              " '/content/drive/MyDrive/tokenizer.pk/added_tokens.json',\n",
              " '/content/drive/MyDrive/tokenizer.pk/tokenizer.json')"
            ]
          },
          "metadata": {},
          "execution_count": 95
        }
      ],
      "source": [
        "tokenizer.save_pretrained(f'{path_to_save_model}/tokenizer.pk')"
      ]
    },
    {
      "cell_type": "code",
      "execution_count": null,
      "metadata": {
        "id": "ysSlQ27Q5axO",
        "colab": {
          "base_uri": "https://localhost:8080/",
          "height": 132,
          "referenced_widgets": [
            "2321f8190a294f9093c7a8c3195f7d11",
            "06c49d678c27454bb8dcc4441c761cba",
            "292d4cd832864a089000e8cbd9a22b80",
            "ba6df7bd887847018e6fadca42c61034",
            "3e0c7b7d8b1248ec8780e992173ec7ed",
            "9e00b542d4674adab8145a2d6edff03f",
            "1e511f48807246fd811cf4f32079d8bc",
            "b785c671ab4d4dd1b4c7b0fb1bec2865",
            "974f5294ae604fc2ad43d43d22ab9554",
            "1394a9450e794635afa3962c6ba16f27",
            "2eec229057064e149e2a574a6866e7ad",
            "86e1f9b98c7647b795d505ffccb1644e",
            "ae487fe4e0b746e5bea1b330ddae38ed",
            "b275654d7d9a4e34b43d8ccdb2a418ad",
            "48ef462ac3604272b3472cab03dddcdb",
            "fb380ea1e8354684836d848e8d73f4e1",
            "4394bd2b602a43eca91999f0c3b2c8ba",
            "e329513c0d9246f89d26653a1bcdf86d",
            "3c1a62bcb4ce48f0a0d1af4a639585f5",
            "3e4497b8a1b24101a10f62a7ed51b426",
            "59e23b4e63c04e52a71c4ec2cc4e2d47",
            "626c5fdbae5c40ff92ad14bf234f4c36",
            "2a7d2b3ce719490a8fdff1077c0ce1a6",
            "454f5505aa28474292490acc4b244ad8",
            "ce3e9939d3c640e69579e652b4cf6efb",
            "0829fd1fe50f47e8ad7b6d0f9cf86782",
            "349cd1985156455a8e338fb70b048aff",
            "751b13e51a654ff5aff0451ca18c49c0",
            "10892943c01c472fadf0d132c9326cc4",
            "896cf72591774d31b625330ead3273eb",
            "caf95be3d94244e88aa367f56e94e510",
            "53255cc9b14e46129a65884c9248f85d",
            "2affe9e73ab34febab013909d86d6ba8"
          ]
        },
        "outputId": "f86303c6-af41-40ff-a95d-1a957bd06eb0"
      },
      "outputs": [
        {
          "output_type": "display_data",
          "data": {
            "text/plain": [
              "model.safetensors:   0%|          | 0.00/499M [00:00<?, ?B/s]"
            ],
            "application/vnd.jupyter.widget-view+json": {
              "version_major": 2,
              "version_minor": 0,
              "model_id": "2321f8190a294f9093c7a8c3195f7d11"
            }
          },
          "metadata": {}
        },
        {
          "output_type": "display_data",
          "data": {
            "text/plain": [
              "Upload 2 LFS files:   0%|          | 0/2 [00:00<?, ?it/s]"
            ],
            "application/vnd.jupyter.widget-view+json": {
              "version_major": 2,
              "version_minor": 0,
              "model_id": "86e1f9b98c7647b795d505ffccb1644e"
            }
          },
          "metadata": {}
        },
        {
          "output_type": "display_data",
          "data": {
            "text/plain": [
              "training_args.bin:   0%|          | 0.00/4.54k [00:00<?, ?B/s]"
            ],
            "application/vnd.jupyter.widget-view+json": {
              "version_major": 2,
              "version_minor": 0,
              "model_id": "2a7d2b3ce719490a8fdff1077c0ce1a6"
            }
          },
          "metadata": {}
        },
        {
          "output_type": "execute_result",
          "data": {
            "text/plain": [
              "'https://huggingface.co/fazly1380/mlm/tree/main/'"
            ],
            "application/vnd.google.colaboratory.intrinsic+json": {
              "type": "string"
            }
          },
          "metadata": {},
          "execution_count": 96
        }
      ],
      "source": [
        "trainer.push_to_hub()"
      ]
    },
    {
      "cell_type": "code",
      "execution_count": null,
      "metadata": {
        "id": "18iY2gzC0k2h",
        "colab": {
          "base_uri": "https://localhost:8080/"
        },
        "outputId": "3f1cc3c4-0c24-4a6b-d594-034df08fbf0d"
      },
      "outputs": [
        {
          "output_type": "execute_result",
          "data": {
            "text/plain": [
              "('z-rahimi-r/mlm_tokenizer/tokenizer_config.json',\n",
              " 'z-rahimi-r/mlm_tokenizer/special_tokens_map.json',\n",
              " 'z-rahimi-r/mlm_tokenizer/vocab.json',\n",
              " 'z-rahimi-r/mlm_tokenizer/merges.txt',\n",
              " 'z-rahimi-r/mlm_tokenizer/added_tokens.json',\n",
              " 'z-rahimi-r/mlm_tokenizer/tokenizer.json')"
            ]
          },
          "metadata": {},
          "execution_count": 97
        }
      ],
      "source": [
        "tokenizer.save_pretrained(f'{your_hugging_face_id}/mlm_tokenizer', push_to_hub=True)"
      ]
    },
    {
      "cell_type": "markdown",
      "metadata": {
        "id": "c2mBruvxURGS"
      },
      "source": [
        "<h4><font color=hotpink>Perplexity after Training</font></h4>"
      ]
    },
    {
      "cell_type": "code",
      "execution_count": null,
      "metadata": {
        "id": "iMYApW8UN7gO",
        "colab": {
          "base_uri": "https://localhost:8080/",
          "height": 54
        },
        "outputId": "0b284bcc-d79a-4d22-a095-f9b90488d18b"
      },
      "outputs": [
        {
          "output_type": "display_data",
          "data": {
            "text/plain": [
              "<IPython.core.display.HTML object>"
            ],
            "text/html": [
              "\n",
              "    <div>\n",
              "      \n",
              "      <progress value='64' max='64' style='width:300px; height:20px; vertical-align: middle;'></progress>\n",
              "      [64/64 00:02]\n",
              "    </div>\n",
              "    "
            ]
          },
          "metadata": {}
        },
        {
          "output_type": "stream",
          "name": "stdout",
          "text": [
            ">>> Perplexity: 500.75\n"
          ]
        }
      ],
      "source": [
        "eval_results = trainer.evaluate()\n",
        "print(f\">>> Perplexity: {math.exp(eval_results['eval_loss']):.2f}\")"
      ]
    },
    {
      "cell_type": "code",
      "execution_count": null,
      "metadata": {
        "colab": {
          "base_uri": "https://localhost:8080/"
        },
        "id": "ugmqLiks46Mf",
        "outputId": "ef334907-aa77-46b8-bcad-9613569fd8a5"
      },
      "outputs": [
        {
          "output_type": "stream",
          "name": "stdout",
          "text": [
            ">>> hamāg - zōhr pus ī wāspuhr ī šāhān ī ī dāmān pahlomtom andar gēhān abāyišnīgtom\n",
            ">>> hamāg - zōhr pus ī wāspuhr ī šāhān ud ī dāmān pahlomtom andar gēhān abāyišnīgtom\n",
            ">>> hamāg - zōhr pus ī wāspuhr ī šāhān - ī dāmān pahlomtom andar gēhān abāyišnīgtom\n",
            ">>> hamāg - zōhr pus ī wāspuhr ī šāhān pad ī dāmān pahlomtom andar gēhān abāyišnīgtom\n",
            ">>> hamāg - zōhr pus ī wāspuhr ī šāhān š ī dāmān pahlomtom andar gēhān abāyišnīgtom\n"
          ]
        }
      ],
      "source": [
        "from transformers import pipeline\n",
        "\n",
        "model=model.to(\"cpu\")\n",
        "mask_filler = pipeline('fill-mask', model=model, tokenizer=tokenizer)\n",
        "\n",
        "masked_query=\"hamāg-zōhr pus ī wāspuhr ī šāhān [MASK] ī dāmān pahlomtom andar gēhān abāyišnīgtom\"\n",
        "preds=mask_filler(masked_query)\n",
        "\n",
        "for pred in preds:\n",
        "    print(f\">>> {pred['sequence']}\")"
      ]
    }
  ],
  "metadata": {
    "accelerator": "GPU",
    "colab": {
      "collapsed_sections": [
        "detIdW4eVJsV",
        "_6C7a70U5E5x",
        "FoiUphZzvzX-",
        "VpVv_m6lv8vB",
        "G73cmtcE1c9A",
        "r22vwGSW1qxZ",
        "3FMHUw0874c8",
        "NxTNofhRNi84",
        "u2gjb2p1Ux7g",
        "ewYp_Z474-Lh",
        "0DkOJRfkG4NN",
        "ZTXSKuHPHCHU",
        "hqT3fZAEIArI",
        "4LSOT5pGIJft",
        "GsV1xR1OOvgb"
      ],
      "provenance": []
    },
    "kernelspec": {
      "display_name": "Python 3",
      "name": "python3"
    },
    "language_info": {
      "codemirror_mode": {
        "name": "ipython",
        "version": 3
      },
      "file_extension": ".py",
      "mimetype": "text/x-python",
      "name": "python",
      "nbconvert_exporter": "python",
      "pygments_lexer": "ipython3",
      "version": "3.10.12"
    },
    "widgets": {
      "application/vnd.jupyter.widget-state+json": {
        "001917899c434d28b97b0f66f8178e46": {
          "model_module": "@jupyter-widgets/controls",
          "model_name": "VBoxModel",
          "model_module_version": "1.5.0",
          "state": {
            "_dom_classes": [],
            "_model_module": "@jupyter-widgets/controls",
            "_model_module_version": "1.5.0",
            "_model_name": "VBoxModel",
            "_view_count": null,
            "_view_module": "@jupyter-widgets/controls",
            "_view_module_version": "1.5.0",
            "_view_name": "VBoxView",
            "box_style": "",
            "children": [
              "IPY_MODEL_93eb22993d00468badf67766b6a703f8",
              "IPY_MODEL_1461843f62cd4defb5440c81c4aff8d5",
              "IPY_MODEL_863fdb7bb1ab4b168370b858d60fc629",
              "IPY_MODEL_058fb7c36fcf41bfaa97683919de809b"
            ],
            "layout": "IPY_MODEL_0d0db86f9a43432389a33b6e2f88bff6"
          }
        },
        "a778b600ff6648cfaa2ddc254f885fd2": {
          "model_module": "@jupyter-widgets/controls",
          "model_name": "HTMLModel",
          "model_module_version": "1.5.0",
          "state": {
            "_dom_classes": [],
            "_model_module": "@jupyter-widgets/controls",
            "_model_module_version": "1.5.0",
            "_model_name": "HTMLModel",
            "_view_count": null,
            "_view_module": "@jupyter-widgets/controls",
            "_view_module_version": "1.5.0",
            "_view_name": "HTMLView",
            "description": "",
            "description_tooltip": null,
            "layout": "IPY_MODEL_0198e7adda9948789758f5b9fdb2a301",
            "placeholder": "​",
            "style": "IPY_MODEL_73e3ea33279d450e9374fe80face015f",
            "value": "<center> <img\nsrc=https://huggingface.co/front/assets/huggingface_logo-noborder.svg\nalt='Hugging Face'> <br> Copy a token from <a\nhref=\"https://huggingface.co/settings/tokens\" target=\"_blank\">your Hugging Face\ntokens page</a> and paste it below. <br> Immediately click login after copying\nyour token or it might be stored in plain text in this notebook file. </center>"
          }
        },
        "d48ae44503644891890d4d74f4e9b579": {
          "model_module": "@jupyter-widgets/controls",
          "model_name": "PasswordModel",
          "model_module_version": "1.5.0",
          "state": {
            "_dom_classes": [],
            "_model_module": "@jupyter-widgets/controls",
            "_model_module_version": "1.5.0",
            "_model_name": "PasswordModel",
            "_view_count": null,
            "_view_module": "@jupyter-widgets/controls",
            "_view_module_version": "1.5.0",
            "_view_name": "PasswordView",
            "continuous_update": true,
            "description": "Token:",
            "description_tooltip": null,
            "disabled": false,
            "layout": "IPY_MODEL_8ffd38c9284c41beb22013259ca8e3b9",
            "placeholder": "​",
            "style": "IPY_MODEL_5ccff2af07be47c280653eb2d0f05d0d",
            "value": ""
          }
        },
        "0c827b19a56d42de86cdd4b10cfeb7ea": {
          "model_module": "@jupyter-widgets/controls",
          "model_name": "CheckboxModel",
          "model_module_version": "1.5.0",
          "state": {
            "_dom_classes": [],
            "_model_module": "@jupyter-widgets/controls",
            "_model_module_version": "1.5.0",
            "_model_name": "CheckboxModel",
            "_view_count": null,
            "_view_module": "@jupyter-widgets/controls",
            "_view_module_version": "1.5.0",
            "_view_name": "CheckboxView",
            "description": "Add token as git credential?",
            "description_tooltip": null,
            "disabled": false,
            "indent": true,
            "layout": "IPY_MODEL_9f229a4c12584ec688b1db4a175f0401",
            "style": "IPY_MODEL_d9ee770e0b854841a0cb2020d7d5ac9d",
            "value": true
          }
        },
        "50a6a551084444c494d12dbfba0172cf": {
          "model_module": "@jupyter-widgets/controls",
          "model_name": "ButtonModel",
          "model_module_version": "1.5.0",
          "state": {
            "_dom_classes": [],
            "_model_module": "@jupyter-widgets/controls",
            "_model_module_version": "1.5.0",
            "_model_name": "ButtonModel",
            "_view_count": null,
            "_view_module": "@jupyter-widgets/controls",
            "_view_module_version": "1.5.0",
            "_view_name": "ButtonView",
            "button_style": "",
            "description": "Login",
            "disabled": false,
            "icon": "",
            "layout": "IPY_MODEL_e1621dac6198435c8a71b2136cfdf3c1",
            "style": "IPY_MODEL_612dfcfa413c4bbcb69691de35d13674",
            "tooltip": ""
          }
        },
        "08f45f182ae34fd4af32144b5168b85e": {
          "model_module": "@jupyter-widgets/controls",
          "model_name": "HTMLModel",
          "model_module_version": "1.5.0",
          "state": {
            "_dom_classes": [],
            "_model_module": "@jupyter-widgets/controls",
            "_model_module_version": "1.5.0",
            "_model_name": "HTMLModel",
            "_view_count": null,
            "_view_module": "@jupyter-widgets/controls",
            "_view_module_version": "1.5.0",
            "_view_name": "HTMLView",
            "description": "",
            "description_tooltip": null,
            "layout": "IPY_MODEL_0d536a839da34a17b12f66b989689915",
            "placeholder": "​",
            "style": "IPY_MODEL_1d89d9c67dc5471991c1c5e2de327057",
            "value": "\n<b>Pro Tip:</b> If you don't already have one, you can create a dedicated\n'notebooks' token with 'write' access, that you can then easily reuse for all\nnotebooks. </center>"
          }
        },
        "0d0db86f9a43432389a33b6e2f88bff6": {
          "model_module": "@jupyter-widgets/base",
          "model_name": "LayoutModel",
          "model_module_version": "1.2.0",
          "state": {
            "_model_module": "@jupyter-widgets/base",
            "_model_module_version": "1.2.0",
            "_model_name": "LayoutModel",
            "_view_count": null,
            "_view_module": "@jupyter-widgets/base",
            "_view_module_version": "1.2.0",
            "_view_name": "LayoutView",
            "align_content": null,
            "align_items": "center",
            "align_self": null,
            "border": null,
            "bottom": null,
            "display": "flex",
            "flex": null,
            "flex_flow": "column",
            "grid_area": null,
            "grid_auto_columns": null,
            "grid_auto_flow": null,
            "grid_auto_rows": null,
            "grid_column": null,
            "grid_gap": null,
            "grid_row": null,
            "grid_template_areas": null,
            "grid_template_columns": null,
            "grid_template_rows": null,
            "height": null,
            "justify_content": null,
            "justify_items": null,
            "left": null,
            "margin": null,
            "max_height": null,
            "max_width": null,
            "min_height": null,
            "min_width": null,
            "object_fit": null,
            "object_position": null,
            "order": null,
            "overflow": null,
            "overflow_x": null,
            "overflow_y": null,
            "padding": null,
            "right": null,
            "top": null,
            "visibility": null,
            "width": "50%"
          }
        },
        "0198e7adda9948789758f5b9fdb2a301": {
          "model_module": "@jupyter-widgets/base",
          "model_name": "LayoutModel",
          "model_module_version": "1.2.0",
          "state": {
            "_model_module": "@jupyter-widgets/base",
            "_model_module_version": "1.2.0",
            "_model_name": "LayoutModel",
            "_view_count": null,
            "_view_module": "@jupyter-widgets/base",
            "_view_module_version": "1.2.0",
            "_view_name": "LayoutView",
            "align_content": null,
            "align_items": null,
            "align_self": null,
            "border": null,
            "bottom": null,
            "display": null,
            "flex": null,
            "flex_flow": null,
            "grid_area": null,
            "grid_auto_columns": null,
            "grid_auto_flow": null,
            "grid_auto_rows": null,
            "grid_column": null,
            "grid_gap": null,
            "grid_row": null,
            "grid_template_areas": null,
            "grid_template_columns": null,
            "grid_template_rows": null,
            "height": null,
            "justify_content": null,
            "justify_items": null,
            "left": null,
            "margin": null,
            "max_height": null,
            "max_width": null,
            "min_height": null,
            "min_width": null,
            "object_fit": null,
            "object_position": null,
            "order": null,
            "overflow": null,
            "overflow_x": null,
            "overflow_y": null,
            "padding": null,
            "right": null,
            "top": null,
            "visibility": null,
            "width": null
          }
        },
        "73e3ea33279d450e9374fe80face015f": {
          "model_module": "@jupyter-widgets/controls",
          "model_name": "DescriptionStyleModel",
          "model_module_version": "1.5.0",
          "state": {
            "_model_module": "@jupyter-widgets/controls",
            "_model_module_version": "1.5.0",
            "_model_name": "DescriptionStyleModel",
            "_view_count": null,
            "_view_module": "@jupyter-widgets/base",
            "_view_module_version": "1.2.0",
            "_view_name": "StyleView",
            "description_width": ""
          }
        },
        "8ffd38c9284c41beb22013259ca8e3b9": {
          "model_module": "@jupyter-widgets/base",
          "model_name": "LayoutModel",
          "model_module_version": "1.2.0",
          "state": {
            "_model_module": "@jupyter-widgets/base",
            "_model_module_version": "1.2.0",
            "_model_name": "LayoutModel",
            "_view_count": null,
            "_view_module": "@jupyter-widgets/base",
            "_view_module_version": "1.2.0",
            "_view_name": "LayoutView",
            "align_content": null,
            "align_items": null,
            "align_self": null,
            "border": null,
            "bottom": null,
            "display": null,
            "flex": null,
            "flex_flow": null,
            "grid_area": null,
            "grid_auto_columns": null,
            "grid_auto_flow": null,
            "grid_auto_rows": null,
            "grid_column": null,
            "grid_gap": null,
            "grid_row": null,
            "grid_template_areas": null,
            "grid_template_columns": null,
            "grid_template_rows": null,
            "height": null,
            "justify_content": null,
            "justify_items": null,
            "left": null,
            "margin": null,
            "max_height": null,
            "max_width": null,
            "min_height": null,
            "min_width": null,
            "object_fit": null,
            "object_position": null,
            "order": null,
            "overflow": null,
            "overflow_x": null,
            "overflow_y": null,
            "padding": null,
            "right": null,
            "top": null,
            "visibility": null,
            "width": null
          }
        },
        "5ccff2af07be47c280653eb2d0f05d0d": {
          "model_module": "@jupyter-widgets/controls",
          "model_name": "DescriptionStyleModel",
          "model_module_version": "1.5.0",
          "state": {
            "_model_module": "@jupyter-widgets/controls",
            "_model_module_version": "1.5.0",
            "_model_name": "DescriptionStyleModel",
            "_view_count": null,
            "_view_module": "@jupyter-widgets/base",
            "_view_module_version": "1.2.0",
            "_view_name": "StyleView",
            "description_width": ""
          }
        },
        "9f229a4c12584ec688b1db4a175f0401": {
          "model_module": "@jupyter-widgets/base",
          "model_name": "LayoutModel",
          "model_module_version": "1.2.0",
          "state": {
            "_model_module": "@jupyter-widgets/base",
            "_model_module_version": "1.2.0",
            "_model_name": "LayoutModel",
            "_view_count": null,
            "_view_module": "@jupyter-widgets/base",
            "_view_module_version": "1.2.0",
            "_view_name": "LayoutView",
            "align_content": null,
            "align_items": null,
            "align_self": null,
            "border": null,
            "bottom": null,
            "display": null,
            "flex": null,
            "flex_flow": null,
            "grid_area": null,
            "grid_auto_columns": null,
            "grid_auto_flow": null,
            "grid_auto_rows": null,
            "grid_column": null,
            "grid_gap": null,
            "grid_row": null,
            "grid_template_areas": null,
            "grid_template_columns": null,
            "grid_template_rows": null,
            "height": null,
            "justify_content": null,
            "justify_items": null,
            "left": null,
            "margin": null,
            "max_height": null,
            "max_width": null,
            "min_height": null,
            "min_width": null,
            "object_fit": null,
            "object_position": null,
            "order": null,
            "overflow": null,
            "overflow_x": null,
            "overflow_y": null,
            "padding": null,
            "right": null,
            "top": null,
            "visibility": null,
            "width": null
          }
        },
        "d9ee770e0b854841a0cb2020d7d5ac9d": {
          "model_module": "@jupyter-widgets/controls",
          "model_name": "DescriptionStyleModel",
          "model_module_version": "1.5.0",
          "state": {
            "_model_module": "@jupyter-widgets/controls",
            "_model_module_version": "1.5.0",
            "_model_name": "DescriptionStyleModel",
            "_view_count": null,
            "_view_module": "@jupyter-widgets/base",
            "_view_module_version": "1.2.0",
            "_view_name": "StyleView",
            "description_width": ""
          }
        },
        "e1621dac6198435c8a71b2136cfdf3c1": {
          "model_module": "@jupyter-widgets/base",
          "model_name": "LayoutModel",
          "model_module_version": "1.2.0",
          "state": {
            "_model_module": "@jupyter-widgets/base",
            "_model_module_version": "1.2.0",
            "_model_name": "LayoutModel",
            "_view_count": null,
            "_view_module": "@jupyter-widgets/base",
            "_view_module_version": "1.2.0",
            "_view_name": "LayoutView",
            "align_content": null,
            "align_items": null,
            "align_self": null,
            "border": null,
            "bottom": null,
            "display": null,
            "flex": null,
            "flex_flow": null,
            "grid_area": null,
            "grid_auto_columns": null,
            "grid_auto_flow": null,
            "grid_auto_rows": null,
            "grid_column": null,
            "grid_gap": null,
            "grid_row": null,
            "grid_template_areas": null,
            "grid_template_columns": null,
            "grid_template_rows": null,
            "height": null,
            "justify_content": null,
            "justify_items": null,
            "left": null,
            "margin": null,
            "max_height": null,
            "max_width": null,
            "min_height": null,
            "min_width": null,
            "object_fit": null,
            "object_position": null,
            "order": null,
            "overflow": null,
            "overflow_x": null,
            "overflow_y": null,
            "padding": null,
            "right": null,
            "top": null,
            "visibility": null,
            "width": null
          }
        },
        "612dfcfa413c4bbcb69691de35d13674": {
          "model_module": "@jupyter-widgets/controls",
          "model_name": "ButtonStyleModel",
          "model_module_version": "1.5.0",
          "state": {
            "_model_module": "@jupyter-widgets/controls",
            "_model_module_version": "1.5.0",
            "_model_name": "ButtonStyleModel",
            "_view_count": null,
            "_view_module": "@jupyter-widgets/base",
            "_view_module_version": "1.2.0",
            "_view_name": "StyleView",
            "button_color": null,
            "font_weight": ""
          }
        },
        "0d536a839da34a17b12f66b989689915": {
          "model_module": "@jupyter-widgets/base",
          "model_name": "LayoutModel",
          "model_module_version": "1.2.0",
          "state": {
            "_model_module": "@jupyter-widgets/base",
            "_model_module_version": "1.2.0",
            "_model_name": "LayoutModel",
            "_view_count": null,
            "_view_module": "@jupyter-widgets/base",
            "_view_module_version": "1.2.0",
            "_view_name": "LayoutView",
            "align_content": null,
            "align_items": null,
            "align_self": null,
            "border": null,
            "bottom": null,
            "display": null,
            "flex": null,
            "flex_flow": null,
            "grid_area": null,
            "grid_auto_columns": null,
            "grid_auto_flow": null,
            "grid_auto_rows": null,
            "grid_column": null,
            "grid_gap": null,
            "grid_row": null,
            "grid_template_areas": null,
            "grid_template_columns": null,
            "grid_template_rows": null,
            "height": null,
            "justify_content": null,
            "justify_items": null,
            "left": null,
            "margin": null,
            "max_height": null,
            "max_width": null,
            "min_height": null,
            "min_width": null,
            "object_fit": null,
            "object_position": null,
            "order": null,
            "overflow": null,
            "overflow_x": null,
            "overflow_y": null,
            "padding": null,
            "right": null,
            "top": null,
            "visibility": null,
            "width": null
          }
        },
        "1d89d9c67dc5471991c1c5e2de327057": {
          "model_module": "@jupyter-widgets/controls",
          "model_name": "DescriptionStyleModel",
          "model_module_version": "1.5.0",
          "state": {
            "_model_module": "@jupyter-widgets/controls",
            "_model_module_version": "1.5.0",
            "_model_name": "DescriptionStyleModel",
            "_view_count": null,
            "_view_module": "@jupyter-widgets/base",
            "_view_module_version": "1.2.0",
            "_view_name": "StyleView",
            "description_width": ""
          }
        },
        "e14556012b794e73a146ef1b72bdf4f6": {
          "model_module": "@jupyter-widgets/controls",
          "model_name": "LabelModel",
          "model_module_version": "1.5.0",
          "state": {
            "_dom_classes": [],
            "_model_module": "@jupyter-widgets/controls",
            "_model_module_version": "1.5.0",
            "_model_name": "LabelModel",
            "_view_count": null,
            "_view_module": "@jupyter-widgets/controls",
            "_view_module_version": "1.5.0",
            "_view_name": "LabelView",
            "description": "",
            "description_tooltip": null,
            "layout": "IPY_MODEL_bf238869736a48d2b14ffee17ddfbf55",
            "placeholder": "​",
            "style": "IPY_MODEL_8baf351f8dc342bb90d3d9e0ed0ae2d3",
            "value": "Connecting..."
          }
        },
        "bf238869736a48d2b14ffee17ddfbf55": {
          "model_module": "@jupyter-widgets/base",
          "model_name": "LayoutModel",
          "model_module_version": "1.2.0",
          "state": {
            "_model_module": "@jupyter-widgets/base",
            "_model_module_version": "1.2.0",
            "_model_name": "LayoutModel",
            "_view_count": null,
            "_view_module": "@jupyter-widgets/base",
            "_view_module_version": "1.2.0",
            "_view_name": "LayoutView",
            "align_content": null,
            "align_items": null,
            "align_self": null,
            "border": null,
            "bottom": null,
            "display": null,
            "flex": null,
            "flex_flow": null,
            "grid_area": null,
            "grid_auto_columns": null,
            "grid_auto_flow": null,
            "grid_auto_rows": null,
            "grid_column": null,
            "grid_gap": null,
            "grid_row": null,
            "grid_template_areas": null,
            "grid_template_columns": null,
            "grid_template_rows": null,
            "height": null,
            "justify_content": null,
            "justify_items": null,
            "left": null,
            "margin": null,
            "max_height": null,
            "max_width": null,
            "min_height": null,
            "min_width": null,
            "object_fit": null,
            "object_position": null,
            "order": null,
            "overflow": null,
            "overflow_x": null,
            "overflow_y": null,
            "padding": null,
            "right": null,
            "top": null,
            "visibility": null,
            "width": null
          }
        },
        "8baf351f8dc342bb90d3d9e0ed0ae2d3": {
          "model_module": "@jupyter-widgets/controls",
          "model_name": "DescriptionStyleModel",
          "model_module_version": "1.5.0",
          "state": {
            "_model_module": "@jupyter-widgets/controls",
            "_model_module_version": "1.5.0",
            "_model_name": "DescriptionStyleModel",
            "_view_count": null,
            "_view_module": "@jupyter-widgets/base",
            "_view_module_version": "1.2.0",
            "_view_name": "StyleView",
            "description_width": ""
          }
        },
        "93eb22993d00468badf67766b6a703f8": {
          "model_module": "@jupyter-widgets/controls",
          "model_name": "LabelModel",
          "model_module_version": "1.5.0",
          "state": {
            "_dom_classes": [],
            "_model_module": "@jupyter-widgets/controls",
            "_model_module_version": "1.5.0",
            "_model_name": "LabelModel",
            "_view_count": null,
            "_view_module": "@jupyter-widgets/controls",
            "_view_module_version": "1.5.0",
            "_view_name": "LabelView",
            "description": "",
            "description_tooltip": null,
            "layout": "IPY_MODEL_e433e424655449a5a07523b31ae13c1f",
            "placeholder": "​",
            "style": "IPY_MODEL_e54d2564ebcc4adf8d3a7ce8635aa117",
            "value": "Token is valid (permission: write)."
          }
        },
        "1461843f62cd4defb5440c81c4aff8d5": {
          "model_module": "@jupyter-widgets/controls",
          "model_name": "LabelModel",
          "model_module_version": "1.5.0",
          "state": {
            "_dom_classes": [],
            "_model_module": "@jupyter-widgets/controls",
            "_model_module_version": "1.5.0",
            "_model_name": "LabelModel",
            "_view_count": null,
            "_view_module": "@jupyter-widgets/controls",
            "_view_module_version": "1.5.0",
            "_view_name": "LabelView",
            "description": "",
            "description_tooltip": null,
            "layout": "IPY_MODEL_16291601be1b4a1fa2059775e02b2f09",
            "placeholder": "​",
            "style": "IPY_MODEL_8a595b228e2c48508d634f139d759221",
            "value": "Your token has been saved in your configured git credential helpers (store)."
          }
        },
        "863fdb7bb1ab4b168370b858d60fc629": {
          "model_module": "@jupyter-widgets/controls",
          "model_name": "LabelModel",
          "model_module_version": "1.5.0",
          "state": {
            "_dom_classes": [],
            "_model_module": "@jupyter-widgets/controls",
            "_model_module_version": "1.5.0",
            "_model_name": "LabelModel",
            "_view_count": null,
            "_view_module": "@jupyter-widgets/controls",
            "_view_module_version": "1.5.0",
            "_view_name": "LabelView",
            "description": "",
            "description_tooltip": null,
            "layout": "IPY_MODEL_575e7c5ac4bc487ab87962808cccee04",
            "placeholder": "​",
            "style": "IPY_MODEL_3272f7ee232949109d85e62710defa46",
            "value": "Your token has been saved to /root/.cache/huggingface/token"
          }
        },
        "058fb7c36fcf41bfaa97683919de809b": {
          "model_module": "@jupyter-widgets/controls",
          "model_name": "LabelModel",
          "model_module_version": "1.5.0",
          "state": {
            "_dom_classes": [],
            "_model_module": "@jupyter-widgets/controls",
            "_model_module_version": "1.5.0",
            "_model_name": "LabelModel",
            "_view_count": null,
            "_view_module": "@jupyter-widgets/controls",
            "_view_module_version": "1.5.0",
            "_view_name": "LabelView",
            "description": "",
            "description_tooltip": null,
            "layout": "IPY_MODEL_30099a723a0d42afa8ca70d230481eda",
            "placeholder": "​",
            "style": "IPY_MODEL_a5670daf4c474d899f067fbbc0fe9439",
            "value": "Login successful"
          }
        },
        "e433e424655449a5a07523b31ae13c1f": {
          "model_module": "@jupyter-widgets/base",
          "model_name": "LayoutModel",
          "model_module_version": "1.2.0",
          "state": {
            "_model_module": "@jupyter-widgets/base",
            "_model_module_version": "1.2.0",
            "_model_name": "LayoutModel",
            "_view_count": null,
            "_view_module": "@jupyter-widgets/base",
            "_view_module_version": "1.2.0",
            "_view_name": "LayoutView",
            "align_content": null,
            "align_items": null,
            "align_self": null,
            "border": null,
            "bottom": null,
            "display": null,
            "flex": null,
            "flex_flow": null,
            "grid_area": null,
            "grid_auto_columns": null,
            "grid_auto_flow": null,
            "grid_auto_rows": null,
            "grid_column": null,
            "grid_gap": null,
            "grid_row": null,
            "grid_template_areas": null,
            "grid_template_columns": null,
            "grid_template_rows": null,
            "height": null,
            "justify_content": null,
            "justify_items": null,
            "left": null,
            "margin": null,
            "max_height": null,
            "max_width": null,
            "min_height": null,
            "min_width": null,
            "object_fit": null,
            "object_position": null,
            "order": null,
            "overflow": null,
            "overflow_x": null,
            "overflow_y": null,
            "padding": null,
            "right": null,
            "top": null,
            "visibility": null,
            "width": null
          }
        },
        "e54d2564ebcc4adf8d3a7ce8635aa117": {
          "model_module": "@jupyter-widgets/controls",
          "model_name": "DescriptionStyleModel",
          "model_module_version": "1.5.0",
          "state": {
            "_model_module": "@jupyter-widgets/controls",
            "_model_module_version": "1.5.0",
            "_model_name": "DescriptionStyleModel",
            "_view_count": null,
            "_view_module": "@jupyter-widgets/base",
            "_view_module_version": "1.2.0",
            "_view_name": "StyleView",
            "description_width": ""
          }
        },
        "16291601be1b4a1fa2059775e02b2f09": {
          "model_module": "@jupyter-widgets/base",
          "model_name": "LayoutModel",
          "model_module_version": "1.2.0",
          "state": {
            "_model_module": "@jupyter-widgets/base",
            "_model_module_version": "1.2.0",
            "_model_name": "LayoutModel",
            "_view_count": null,
            "_view_module": "@jupyter-widgets/base",
            "_view_module_version": "1.2.0",
            "_view_name": "LayoutView",
            "align_content": null,
            "align_items": null,
            "align_self": null,
            "border": null,
            "bottom": null,
            "display": null,
            "flex": null,
            "flex_flow": null,
            "grid_area": null,
            "grid_auto_columns": null,
            "grid_auto_flow": null,
            "grid_auto_rows": null,
            "grid_column": null,
            "grid_gap": null,
            "grid_row": null,
            "grid_template_areas": null,
            "grid_template_columns": null,
            "grid_template_rows": null,
            "height": null,
            "justify_content": null,
            "justify_items": null,
            "left": null,
            "margin": null,
            "max_height": null,
            "max_width": null,
            "min_height": null,
            "min_width": null,
            "object_fit": null,
            "object_position": null,
            "order": null,
            "overflow": null,
            "overflow_x": null,
            "overflow_y": null,
            "padding": null,
            "right": null,
            "top": null,
            "visibility": null,
            "width": null
          }
        },
        "8a595b228e2c48508d634f139d759221": {
          "model_module": "@jupyter-widgets/controls",
          "model_name": "DescriptionStyleModel",
          "model_module_version": "1.5.0",
          "state": {
            "_model_module": "@jupyter-widgets/controls",
            "_model_module_version": "1.5.0",
            "_model_name": "DescriptionStyleModel",
            "_view_count": null,
            "_view_module": "@jupyter-widgets/base",
            "_view_module_version": "1.2.0",
            "_view_name": "StyleView",
            "description_width": ""
          }
        },
        "575e7c5ac4bc487ab87962808cccee04": {
          "model_module": "@jupyter-widgets/base",
          "model_name": "LayoutModel",
          "model_module_version": "1.2.0",
          "state": {
            "_model_module": "@jupyter-widgets/base",
            "_model_module_version": "1.2.0",
            "_model_name": "LayoutModel",
            "_view_count": null,
            "_view_module": "@jupyter-widgets/base",
            "_view_module_version": "1.2.0",
            "_view_name": "LayoutView",
            "align_content": null,
            "align_items": null,
            "align_self": null,
            "border": null,
            "bottom": null,
            "display": null,
            "flex": null,
            "flex_flow": null,
            "grid_area": null,
            "grid_auto_columns": null,
            "grid_auto_flow": null,
            "grid_auto_rows": null,
            "grid_column": null,
            "grid_gap": null,
            "grid_row": null,
            "grid_template_areas": null,
            "grid_template_columns": null,
            "grid_template_rows": null,
            "height": null,
            "justify_content": null,
            "justify_items": null,
            "left": null,
            "margin": null,
            "max_height": null,
            "max_width": null,
            "min_height": null,
            "min_width": null,
            "object_fit": null,
            "object_position": null,
            "order": null,
            "overflow": null,
            "overflow_x": null,
            "overflow_y": null,
            "padding": null,
            "right": null,
            "top": null,
            "visibility": null,
            "width": null
          }
        },
        "3272f7ee232949109d85e62710defa46": {
          "model_module": "@jupyter-widgets/controls",
          "model_name": "DescriptionStyleModel",
          "model_module_version": "1.5.0",
          "state": {
            "_model_module": "@jupyter-widgets/controls",
            "_model_module_version": "1.5.0",
            "_model_name": "DescriptionStyleModel",
            "_view_count": null,
            "_view_module": "@jupyter-widgets/base",
            "_view_module_version": "1.2.0",
            "_view_name": "StyleView",
            "description_width": ""
          }
        },
        "30099a723a0d42afa8ca70d230481eda": {
          "model_module": "@jupyter-widgets/base",
          "model_name": "LayoutModel",
          "model_module_version": "1.2.0",
          "state": {
            "_model_module": "@jupyter-widgets/base",
            "_model_module_version": "1.2.0",
            "_model_name": "LayoutModel",
            "_view_count": null,
            "_view_module": "@jupyter-widgets/base",
            "_view_module_version": "1.2.0",
            "_view_name": "LayoutView",
            "align_content": null,
            "align_items": null,
            "align_self": null,
            "border": null,
            "bottom": null,
            "display": null,
            "flex": null,
            "flex_flow": null,
            "grid_area": null,
            "grid_auto_columns": null,
            "grid_auto_flow": null,
            "grid_auto_rows": null,
            "grid_column": null,
            "grid_gap": null,
            "grid_row": null,
            "grid_template_areas": null,
            "grid_template_columns": null,
            "grid_template_rows": null,
            "height": null,
            "justify_content": null,
            "justify_items": null,
            "left": null,
            "margin": null,
            "max_height": null,
            "max_width": null,
            "min_height": null,
            "min_width": null,
            "object_fit": null,
            "object_position": null,
            "order": null,
            "overflow": null,
            "overflow_x": null,
            "overflow_y": null,
            "padding": null,
            "right": null,
            "top": null,
            "visibility": null,
            "width": null
          }
        },
        "a5670daf4c474d899f067fbbc0fe9439": {
          "model_module": "@jupyter-widgets/controls",
          "model_name": "DescriptionStyleModel",
          "model_module_version": "1.5.0",
          "state": {
            "_model_module": "@jupyter-widgets/controls",
            "_model_module_version": "1.5.0",
            "_model_name": "DescriptionStyleModel",
            "_view_count": null,
            "_view_module": "@jupyter-widgets/base",
            "_view_module_version": "1.2.0",
            "_view_name": "StyleView",
            "description_width": ""
          }
        },
        "2e4021cd68144f56b76e838d761f8de3": {
          "model_module": "@jupyter-widgets/controls",
          "model_name": "HBoxModel",
          "model_module_version": "1.5.0",
          "state": {
            "_dom_classes": [],
            "_model_module": "@jupyter-widgets/controls",
            "_model_module_version": "1.5.0",
            "_model_name": "HBoxModel",
            "_view_count": null,
            "_view_module": "@jupyter-widgets/controls",
            "_view_module_version": "1.5.0",
            "_view_name": "HBoxView",
            "box_style": "",
            "children": [
              "IPY_MODEL_4985f21894a645a0bfcc1d9a0cecfd79",
              "IPY_MODEL_a6667f4ee94442329009c659566126c9",
              "IPY_MODEL_4249fbb4afe044009b01817ffb11e2a3"
            ],
            "layout": "IPY_MODEL_2de418f7a66c43bfad66d042dfec21a7"
          }
        },
        "4985f21894a645a0bfcc1d9a0cecfd79": {
          "model_module": "@jupyter-widgets/controls",
          "model_name": "HTMLModel",
          "model_module_version": "1.5.0",
          "state": {
            "_dom_classes": [],
            "_model_module": "@jupyter-widgets/controls",
            "_model_module_version": "1.5.0",
            "_model_name": "HTMLModel",
            "_view_count": null,
            "_view_module": "@jupyter-widgets/controls",
            "_view_module_version": "1.5.0",
            "_view_name": "HTMLView",
            "description": "",
            "description_tooltip": null,
            "layout": "IPY_MODEL_ceccc97dd86440d4a36f6c9a16852626",
            "placeholder": "​",
            "style": "IPY_MODEL_cc4beaccdab54e159b2591c606567db6",
            "value": "Map: 100%"
          }
        },
        "a6667f4ee94442329009c659566126c9": {
          "model_module": "@jupyter-widgets/controls",
          "model_name": "FloatProgressModel",
          "model_module_version": "1.5.0",
          "state": {
            "_dom_classes": [],
            "_model_module": "@jupyter-widgets/controls",
            "_model_module_version": "1.5.0",
            "_model_name": "FloatProgressModel",
            "_view_count": null,
            "_view_module": "@jupyter-widgets/controls",
            "_view_module_version": "1.5.0",
            "_view_name": "ProgressView",
            "bar_style": "success",
            "description": "",
            "description_tooltip": null,
            "layout": "IPY_MODEL_49c218899c8c4141b88c0303923c661e",
            "max": 3409,
            "min": 0,
            "orientation": "horizontal",
            "style": "IPY_MODEL_5167f2ff3f7947da80a681ae6fc0c4c6",
            "value": 3409
          }
        },
        "4249fbb4afe044009b01817ffb11e2a3": {
          "model_module": "@jupyter-widgets/controls",
          "model_name": "HTMLModel",
          "model_module_version": "1.5.0",
          "state": {
            "_dom_classes": [],
            "_model_module": "@jupyter-widgets/controls",
            "_model_module_version": "1.5.0",
            "_model_name": "HTMLModel",
            "_view_count": null,
            "_view_module": "@jupyter-widgets/controls",
            "_view_module_version": "1.5.0",
            "_view_name": "HTMLView",
            "description": "",
            "description_tooltip": null,
            "layout": "IPY_MODEL_d0dc28ef813d4cc39ef3d76fbc4bc554",
            "placeholder": "​",
            "style": "IPY_MODEL_22e405e1f0494769a069cc523cc37110",
            "value": " 3409/3409 [00:00&lt;00:00, 5319.12 examples/s]"
          }
        },
        "2de418f7a66c43bfad66d042dfec21a7": {
          "model_module": "@jupyter-widgets/base",
          "model_name": "LayoutModel",
          "model_module_version": "1.2.0",
          "state": {
            "_model_module": "@jupyter-widgets/base",
            "_model_module_version": "1.2.0",
            "_model_name": "LayoutModel",
            "_view_count": null,
            "_view_module": "@jupyter-widgets/base",
            "_view_module_version": "1.2.0",
            "_view_name": "LayoutView",
            "align_content": null,
            "align_items": null,
            "align_self": null,
            "border": null,
            "bottom": null,
            "display": null,
            "flex": null,
            "flex_flow": null,
            "grid_area": null,
            "grid_auto_columns": null,
            "grid_auto_flow": null,
            "grid_auto_rows": null,
            "grid_column": null,
            "grid_gap": null,
            "grid_row": null,
            "grid_template_areas": null,
            "grid_template_columns": null,
            "grid_template_rows": null,
            "height": null,
            "justify_content": null,
            "justify_items": null,
            "left": null,
            "margin": null,
            "max_height": null,
            "max_width": null,
            "min_height": null,
            "min_width": null,
            "object_fit": null,
            "object_position": null,
            "order": null,
            "overflow": null,
            "overflow_x": null,
            "overflow_y": null,
            "padding": null,
            "right": null,
            "top": null,
            "visibility": null,
            "width": null
          }
        },
        "ceccc97dd86440d4a36f6c9a16852626": {
          "model_module": "@jupyter-widgets/base",
          "model_name": "LayoutModel",
          "model_module_version": "1.2.0",
          "state": {
            "_model_module": "@jupyter-widgets/base",
            "_model_module_version": "1.2.0",
            "_model_name": "LayoutModel",
            "_view_count": null,
            "_view_module": "@jupyter-widgets/base",
            "_view_module_version": "1.2.0",
            "_view_name": "LayoutView",
            "align_content": null,
            "align_items": null,
            "align_self": null,
            "border": null,
            "bottom": null,
            "display": null,
            "flex": null,
            "flex_flow": null,
            "grid_area": null,
            "grid_auto_columns": null,
            "grid_auto_flow": null,
            "grid_auto_rows": null,
            "grid_column": null,
            "grid_gap": null,
            "grid_row": null,
            "grid_template_areas": null,
            "grid_template_columns": null,
            "grid_template_rows": null,
            "height": null,
            "justify_content": null,
            "justify_items": null,
            "left": null,
            "margin": null,
            "max_height": null,
            "max_width": null,
            "min_height": null,
            "min_width": null,
            "object_fit": null,
            "object_position": null,
            "order": null,
            "overflow": null,
            "overflow_x": null,
            "overflow_y": null,
            "padding": null,
            "right": null,
            "top": null,
            "visibility": null,
            "width": null
          }
        },
        "cc4beaccdab54e159b2591c606567db6": {
          "model_module": "@jupyter-widgets/controls",
          "model_name": "DescriptionStyleModel",
          "model_module_version": "1.5.0",
          "state": {
            "_model_module": "@jupyter-widgets/controls",
            "_model_module_version": "1.5.0",
            "_model_name": "DescriptionStyleModel",
            "_view_count": null,
            "_view_module": "@jupyter-widgets/base",
            "_view_module_version": "1.2.0",
            "_view_name": "StyleView",
            "description_width": ""
          }
        },
        "49c218899c8c4141b88c0303923c661e": {
          "model_module": "@jupyter-widgets/base",
          "model_name": "LayoutModel",
          "model_module_version": "1.2.0",
          "state": {
            "_model_module": "@jupyter-widgets/base",
            "_model_module_version": "1.2.0",
            "_model_name": "LayoutModel",
            "_view_count": null,
            "_view_module": "@jupyter-widgets/base",
            "_view_module_version": "1.2.0",
            "_view_name": "LayoutView",
            "align_content": null,
            "align_items": null,
            "align_self": null,
            "border": null,
            "bottom": null,
            "display": null,
            "flex": null,
            "flex_flow": null,
            "grid_area": null,
            "grid_auto_columns": null,
            "grid_auto_flow": null,
            "grid_auto_rows": null,
            "grid_column": null,
            "grid_gap": null,
            "grid_row": null,
            "grid_template_areas": null,
            "grid_template_columns": null,
            "grid_template_rows": null,
            "height": null,
            "justify_content": null,
            "justify_items": null,
            "left": null,
            "margin": null,
            "max_height": null,
            "max_width": null,
            "min_height": null,
            "min_width": null,
            "object_fit": null,
            "object_position": null,
            "order": null,
            "overflow": null,
            "overflow_x": null,
            "overflow_y": null,
            "padding": null,
            "right": null,
            "top": null,
            "visibility": null,
            "width": null
          }
        },
        "5167f2ff3f7947da80a681ae6fc0c4c6": {
          "model_module": "@jupyter-widgets/controls",
          "model_name": "ProgressStyleModel",
          "model_module_version": "1.5.0",
          "state": {
            "_model_module": "@jupyter-widgets/controls",
            "_model_module_version": "1.5.0",
            "_model_name": "ProgressStyleModel",
            "_view_count": null,
            "_view_module": "@jupyter-widgets/base",
            "_view_module_version": "1.2.0",
            "_view_name": "StyleView",
            "bar_color": null,
            "description_width": ""
          }
        },
        "d0dc28ef813d4cc39ef3d76fbc4bc554": {
          "model_module": "@jupyter-widgets/base",
          "model_name": "LayoutModel",
          "model_module_version": "1.2.0",
          "state": {
            "_model_module": "@jupyter-widgets/base",
            "_model_module_version": "1.2.0",
            "_model_name": "LayoutModel",
            "_view_count": null,
            "_view_module": "@jupyter-widgets/base",
            "_view_module_version": "1.2.0",
            "_view_name": "LayoutView",
            "align_content": null,
            "align_items": null,
            "align_self": null,
            "border": null,
            "bottom": null,
            "display": null,
            "flex": null,
            "flex_flow": null,
            "grid_area": null,
            "grid_auto_columns": null,
            "grid_auto_flow": null,
            "grid_auto_rows": null,
            "grid_column": null,
            "grid_gap": null,
            "grid_row": null,
            "grid_template_areas": null,
            "grid_template_columns": null,
            "grid_template_rows": null,
            "height": null,
            "justify_content": null,
            "justify_items": null,
            "left": null,
            "margin": null,
            "max_height": null,
            "max_width": null,
            "min_height": null,
            "min_width": null,
            "object_fit": null,
            "object_position": null,
            "order": null,
            "overflow": null,
            "overflow_x": null,
            "overflow_y": null,
            "padding": null,
            "right": null,
            "top": null,
            "visibility": null,
            "width": null
          }
        },
        "22e405e1f0494769a069cc523cc37110": {
          "model_module": "@jupyter-widgets/controls",
          "model_name": "DescriptionStyleModel",
          "model_module_version": "1.5.0",
          "state": {
            "_model_module": "@jupyter-widgets/controls",
            "_model_module_version": "1.5.0",
            "_model_name": "DescriptionStyleModel",
            "_view_count": null,
            "_view_module": "@jupyter-widgets/base",
            "_view_module_version": "1.2.0",
            "_view_name": "StyleView",
            "description_width": ""
          }
        },
        "876f3fc853b84179b8cf75b2f184e4d0": {
          "model_module": "@jupyter-widgets/controls",
          "model_name": "VBoxModel",
          "model_module_version": "1.5.0",
          "state": {
            "_dom_classes": [],
            "_model_module": "@jupyter-widgets/controls",
            "_model_module_version": "1.5.0",
            "_model_name": "VBoxModel",
            "_view_count": null,
            "_view_module": "@jupyter-widgets/controls",
            "_view_module_version": "1.5.0",
            "_view_name": "VBoxView",
            "box_style": "",
            "children": [
              "IPY_MODEL_9c0942e850f6460cae31449b33d35b43",
              "IPY_MODEL_450168cdac2143b59ea7aa573849f6fb",
              "IPY_MODEL_b8da4265bb464c85b302e107e9116386",
              "IPY_MODEL_91495b2776544e8bad31f6e554c6bb81"
            ],
            "layout": "IPY_MODEL_eb64b0a598504e4f9a632a8dc41fbce7"
          }
        },
        "af92f6a2e29b4903a7fd54d0bc66c957": {
          "model_module": "@jupyter-widgets/controls",
          "model_name": "HTMLModel",
          "model_module_version": "1.5.0",
          "state": {
            "_dom_classes": [],
            "_model_module": "@jupyter-widgets/controls",
            "_model_module_version": "1.5.0",
            "_model_name": "HTMLModel",
            "_view_count": null,
            "_view_module": "@jupyter-widgets/controls",
            "_view_module_version": "1.5.0",
            "_view_name": "HTMLView",
            "description": "",
            "description_tooltip": null,
            "layout": "IPY_MODEL_0397343b22c9431a906cd979568436b4",
            "placeholder": "​",
            "style": "IPY_MODEL_e3373cd2661442db9dffcfc3b331087a",
            "value": "<center> <img\nsrc=https://huggingface.co/front/assets/huggingface_logo-noborder.svg\nalt='Hugging Face'> <br> Copy a token from <a\nhref=\"https://huggingface.co/settings/tokens\" target=\"_blank\">your Hugging Face\ntokens page</a> and paste it below. <br> Immediately click login after copying\nyour token or it might be stored in plain text in this notebook file. </center>"
          }
        },
        "7998e85495a4443fbc2b1b113dcf85eb": {
          "model_module": "@jupyter-widgets/controls",
          "model_name": "PasswordModel",
          "model_module_version": "1.5.0",
          "state": {
            "_dom_classes": [],
            "_model_module": "@jupyter-widgets/controls",
            "_model_module_version": "1.5.0",
            "_model_name": "PasswordModel",
            "_view_count": null,
            "_view_module": "@jupyter-widgets/controls",
            "_view_module_version": "1.5.0",
            "_view_name": "PasswordView",
            "continuous_update": true,
            "description": "Token:",
            "description_tooltip": null,
            "disabled": false,
            "layout": "IPY_MODEL_b978c7231a734c97805d0a1087fb7494",
            "placeholder": "​",
            "style": "IPY_MODEL_5c980e6c784c43d685957f19b49556c9",
            "value": ""
          }
        },
        "9fb7928a380a43ac8a0e898359424578": {
          "model_module": "@jupyter-widgets/controls",
          "model_name": "CheckboxModel",
          "model_module_version": "1.5.0",
          "state": {
            "_dom_classes": [],
            "_model_module": "@jupyter-widgets/controls",
            "_model_module_version": "1.5.0",
            "_model_name": "CheckboxModel",
            "_view_count": null,
            "_view_module": "@jupyter-widgets/controls",
            "_view_module_version": "1.5.0",
            "_view_name": "CheckboxView",
            "description": "Add token as git credential?",
            "description_tooltip": null,
            "disabled": false,
            "indent": true,
            "layout": "IPY_MODEL_a8d625e3b19946d695db8673f63befd7",
            "style": "IPY_MODEL_0a95902e374c48718c6e31faba0d6eb1",
            "value": true
          }
        },
        "fc52e8ad556447aa8bddec3b7c605f42": {
          "model_module": "@jupyter-widgets/controls",
          "model_name": "ButtonModel",
          "model_module_version": "1.5.0",
          "state": {
            "_dom_classes": [],
            "_model_module": "@jupyter-widgets/controls",
            "_model_module_version": "1.5.0",
            "_model_name": "ButtonModel",
            "_view_count": null,
            "_view_module": "@jupyter-widgets/controls",
            "_view_module_version": "1.5.0",
            "_view_name": "ButtonView",
            "button_style": "",
            "description": "Login",
            "disabled": false,
            "icon": "",
            "layout": "IPY_MODEL_761d358d8312447282ab19a3b52671b0",
            "style": "IPY_MODEL_3ff36c14724e414483e6830317b1132f",
            "tooltip": ""
          }
        },
        "7df006c0a5c84c1d8b7ced2b7e42324d": {
          "model_module": "@jupyter-widgets/controls",
          "model_name": "HTMLModel",
          "model_module_version": "1.5.0",
          "state": {
            "_dom_classes": [],
            "_model_module": "@jupyter-widgets/controls",
            "_model_module_version": "1.5.0",
            "_model_name": "HTMLModel",
            "_view_count": null,
            "_view_module": "@jupyter-widgets/controls",
            "_view_module_version": "1.5.0",
            "_view_name": "HTMLView",
            "description": "",
            "description_tooltip": null,
            "layout": "IPY_MODEL_c34dc0f33f2d46d6b35858c4119e70e7",
            "placeholder": "​",
            "style": "IPY_MODEL_dbe6ca1aedf24f4390359b71bc561988",
            "value": "\n<b>Pro Tip:</b> If you don't already have one, you can create a dedicated\n'notebooks' token with 'write' access, that you can then easily reuse for all\nnotebooks. </center>"
          }
        },
        "eb64b0a598504e4f9a632a8dc41fbce7": {
          "model_module": "@jupyter-widgets/base",
          "model_name": "LayoutModel",
          "model_module_version": "1.2.0",
          "state": {
            "_model_module": "@jupyter-widgets/base",
            "_model_module_version": "1.2.0",
            "_model_name": "LayoutModel",
            "_view_count": null,
            "_view_module": "@jupyter-widgets/base",
            "_view_module_version": "1.2.0",
            "_view_name": "LayoutView",
            "align_content": null,
            "align_items": "center",
            "align_self": null,
            "border": null,
            "bottom": null,
            "display": "flex",
            "flex": null,
            "flex_flow": "column",
            "grid_area": null,
            "grid_auto_columns": null,
            "grid_auto_flow": null,
            "grid_auto_rows": null,
            "grid_column": null,
            "grid_gap": null,
            "grid_row": null,
            "grid_template_areas": null,
            "grid_template_columns": null,
            "grid_template_rows": null,
            "height": null,
            "justify_content": null,
            "justify_items": null,
            "left": null,
            "margin": null,
            "max_height": null,
            "max_width": null,
            "min_height": null,
            "min_width": null,
            "object_fit": null,
            "object_position": null,
            "order": null,
            "overflow": null,
            "overflow_x": null,
            "overflow_y": null,
            "padding": null,
            "right": null,
            "top": null,
            "visibility": null,
            "width": "50%"
          }
        },
        "0397343b22c9431a906cd979568436b4": {
          "model_module": "@jupyter-widgets/base",
          "model_name": "LayoutModel",
          "model_module_version": "1.2.0",
          "state": {
            "_model_module": "@jupyter-widgets/base",
            "_model_module_version": "1.2.0",
            "_model_name": "LayoutModel",
            "_view_count": null,
            "_view_module": "@jupyter-widgets/base",
            "_view_module_version": "1.2.0",
            "_view_name": "LayoutView",
            "align_content": null,
            "align_items": null,
            "align_self": null,
            "border": null,
            "bottom": null,
            "display": null,
            "flex": null,
            "flex_flow": null,
            "grid_area": null,
            "grid_auto_columns": null,
            "grid_auto_flow": null,
            "grid_auto_rows": null,
            "grid_column": null,
            "grid_gap": null,
            "grid_row": null,
            "grid_template_areas": null,
            "grid_template_columns": null,
            "grid_template_rows": null,
            "height": null,
            "justify_content": null,
            "justify_items": null,
            "left": null,
            "margin": null,
            "max_height": null,
            "max_width": null,
            "min_height": null,
            "min_width": null,
            "object_fit": null,
            "object_position": null,
            "order": null,
            "overflow": null,
            "overflow_x": null,
            "overflow_y": null,
            "padding": null,
            "right": null,
            "top": null,
            "visibility": null,
            "width": null
          }
        },
        "e3373cd2661442db9dffcfc3b331087a": {
          "model_module": "@jupyter-widgets/controls",
          "model_name": "DescriptionStyleModel",
          "model_module_version": "1.5.0",
          "state": {
            "_model_module": "@jupyter-widgets/controls",
            "_model_module_version": "1.5.0",
            "_model_name": "DescriptionStyleModel",
            "_view_count": null,
            "_view_module": "@jupyter-widgets/base",
            "_view_module_version": "1.2.0",
            "_view_name": "StyleView",
            "description_width": ""
          }
        },
        "b978c7231a734c97805d0a1087fb7494": {
          "model_module": "@jupyter-widgets/base",
          "model_name": "LayoutModel",
          "model_module_version": "1.2.0",
          "state": {
            "_model_module": "@jupyter-widgets/base",
            "_model_module_version": "1.2.0",
            "_model_name": "LayoutModel",
            "_view_count": null,
            "_view_module": "@jupyter-widgets/base",
            "_view_module_version": "1.2.0",
            "_view_name": "LayoutView",
            "align_content": null,
            "align_items": null,
            "align_self": null,
            "border": null,
            "bottom": null,
            "display": null,
            "flex": null,
            "flex_flow": null,
            "grid_area": null,
            "grid_auto_columns": null,
            "grid_auto_flow": null,
            "grid_auto_rows": null,
            "grid_column": null,
            "grid_gap": null,
            "grid_row": null,
            "grid_template_areas": null,
            "grid_template_columns": null,
            "grid_template_rows": null,
            "height": null,
            "justify_content": null,
            "justify_items": null,
            "left": null,
            "margin": null,
            "max_height": null,
            "max_width": null,
            "min_height": null,
            "min_width": null,
            "object_fit": null,
            "object_position": null,
            "order": null,
            "overflow": null,
            "overflow_x": null,
            "overflow_y": null,
            "padding": null,
            "right": null,
            "top": null,
            "visibility": null,
            "width": null
          }
        },
        "5c980e6c784c43d685957f19b49556c9": {
          "model_module": "@jupyter-widgets/controls",
          "model_name": "DescriptionStyleModel",
          "model_module_version": "1.5.0",
          "state": {
            "_model_module": "@jupyter-widgets/controls",
            "_model_module_version": "1.5.0",
            "_model_name": "DescriptionStyleModel",
            "_view_count": null,
            "_view_module": "@jupyter-widgets/base",
            "_view_module_version": "1.2.0",
            "_view_name": "StyleView",
            "description_width": ""
          }
        },
        "a8d625e3b19946d695db8673f63befd7": {
          "model_module": "@jupyter-widgets/base",
          "model_name": "LayoutModel",
          "model_module_version": "1.2.0",
          "state": {
            "_model_module": "@jupyter-widgets/base",
            "_model_module_version": "1.2.0",
            "_model_name": "LayoutModel",
            "_view_count": null,
            "_view_module": "@jupyter-widgets/base",
            "_view_module_version": "1.2.0",
            "_view_name": "LayoutView",
            "align_content": null,
            "align_items": null,
            "align_self": null,
            "border": null,
            "bottom": null,
            "display": null,
            "flex": null,
            "flex_flow": null,
            "grid_area": null,
            "grid_auto_columns": null,
            "grid_auto_flow": null,
            "grid_auto_rows": null,
            "grid_column": null,
            "grid_gap": null,
            "grid_row": null,
            "grid_template_areas": null,
            "grid_template_columns": null,
            "grid_template_rows": null,
            "height": null,
            "justify_content": null,
            "justify_items": null,
            "left": null,
            "margin": null,
            "max_height": null,
            "max_width": null,
            "min_height": null,
            "min_width": null,
            "object_fit": null,
            "object_position": null,
            "order": null,
            "overflow": null,
            "overflow_x": null,
            "overflow_y": null,
            "padding": null,
            "right": null,
            "top": null,
            "visibility": null,
            "width": null
          }
        },
        "0a95902e374c48718c6e31faba0d6eb1": {
          "model_module": "@jupyter-widgets/controls",
          "model_name": "DescriptionStyleModel",
          "model_module_version": "1.5.0",
          "state": {
            "_model_module": "@jupyter-widgets/controls",
            "_model_module_version": "1.5.0",
            "_model_name": "DescriptionStyleModel",
            "_view_count": null,
            "_view_module": "@jupyter-widgets/base",
            "_view_module_version": "1.2.0",
            "_view_name": "StyleView",
            "description_width": ""
          }
        },
        "761d358d8312447282ab19a3b52671b0": {
          "model_module": "@jupyter-widgets/base",
          "model_name": "LayoutModel",
          "model_module_version": "1.2.0",
          "state": {
            "_model_module": "@jupyter-widgets/base",
            "_model_module_version": "1.2.0",
            "_model_name": "LayoutModel",
            "_view_count": null,
            "_view_module": "@jupyter-widgets/base",
            "_view_module_version": "1.2.0",
            "_view_name": "LayoutView",
            "align_content": null,
            "align_items": null,
            "align_self": null,
            "border": null,
            "bottom": null,
            "display": null,
            "flex": null,
            "flex_flow": null,
            "grid_area": null,
            "grid_auto_columns": null,
            "grid_auto_flow": null,
            "grid_auto_rows": null,
            "grid_column": null,
            "grid_gap": null,
            "grid_row": null,
            "grid_template_areas": null,
            "grid_template_columns": null,
            "grid_template_rows": null,
            "height": null,
            "justify_content": null,
            "justify_items": null,
            "left": null,
            "margin": null,
            "max_height": null,
            "max_width": null,
            "min_height": null,
            "min_width": null,
            "object_fit": null,
            "object_position": null,
            "order": null,
            "overflow": null,
            "overflow_x": null,
            "overflow_y": null,
            "padding": null,
            "right": null,
            "top": null,
            "visibility": null,
            "width": null
          }
        },
        "3ff36c14724e414483e6830317b1132f": {
          "model_module": "@jupyter-widgets/controls",
          "model_name": "ButtonStyleModel",
          "model_module_version": "1.5.0",
          "state": {
            "_model_module": "@jupyter-widgets/controls",
            "_model_module_version": "1.5.0",
            "_model_name": "ButtonStyleModel",
            "_view_count": null,
            "_view_module": "@jupyter-widgets/base",
            "_view_module_version": "1.2.0",
            "_view_name": "StyleView",
            "button_color": null,
            "font_weight": ""
          }
        },
        "c34dc0f33f2d46d6b35858c4119e70e7": {
          "model_module": "@jupyter-widgets/base",
          "model_name": "LayoutModel",
          "model_module_version": "1.2.0",
          "state": {
            "_model_module": "@jupyter-widgets/base",
            "_model_module_version": "1.2.0",
            "_model_name": "LayoutModel",
            "_view_count": null,
            "_view_module": "@jupyter-widgets/base",
            "_view_module_version": "1.2.0",
            "_view_name": "LayoutView",
            "align_content": null,
            "align_items": null,
            "align_self": null,
            "border": null,
            "bottom": null,
            "display": null,
            "flex": null,
            "flex_flow": null,
            "grid_area": null,
            "grid_auto_columns": null,
            "grid_auto_flow": null,
            "grid_auto_rows": null,
            "grid_column": null,
            "grid_gap": null,
            "grid_row": null,
            "grid_template_areas": null,
            "grid_template_columns": null,
            "grid_template_rows": null,
            "height": null,
            "justify_content": null,
            "justify_items": null,
            "left": null,
            "margin": null,
            "max_height": null,
            "max_width": null,
            "min_height": null,
            "min_width": null,
            "object_fit": null,
            "object_position": null,
            "order": null,
            "overflow": null,
            "overflow_x": null,
            "overflow_y": null,
            "padding": null,
            "right": null,
            "top": null,
            "visibility": null,
            "width": null
          }
        },
        "dbe6ca1aedf24f4390359b71bc561988": {
          "model_module": "@jupyter-widgets/controls",
          "model_name": "DescriptionStyleModel",
          "model_module_version": "1.5.0",
          "state": {
            "_model_module": "@jupyter-widgets/controls",
            "_model_module_version": "1.5.0",
            "_model_name": "DescriptionStyleModel",
            "_view_count": null,
            "_view_module": "@jupyter-widgets/base",
            "_view_module_version": "1.2.0",
            "_view_name": "StyleView",
            "description_width": ""
          }
        },
        "bf4331db26d34894a0014614ac8bc201": {
          "model_module": "@jupyter-widgets/controls",
          "model_name": "LabelModel",
          "model_module_version": "1.5.0",
          "state": {
            "_dom_classes": [],
            "_model_module": "@jupyter-widgets/controls",
            "_model_module_version": "1.5.0",
            "_model_name": "LabelModel",
            "_view_count": null,
            "_view_module": "@jupyter-widgets/controls",
            "_view_module_version": "1.5.0",
            "_view_name": "LabelView",
            "description": "",
            "description_tooltip": null,
            "layout": "IPY_MODEL_f3b8f1e1c04c4685b299ba1540a18bf6",
            "placeholder": "​",
            "style": "IPY_MODEL_ffb9713f1535451e99bc3c20ec45d08d",
            "value": "Connecting..."
          }
        },
        "f3b8f1e1c04c4685b299ba1540a18bf6": {
          "model_module": "@jupyter-widgets/base",
          "model_name": "LayoutModel",
          "model_module_version": "1.2.0",
          "state": {
            "_model_module": "@jupyter-widgets/base",
            "_model_module_version": "1.2.0",
            "_model_name": "LayoutModel",
            "_view_count": null,
            "_view_module": "@jupyter-widgets/base",
            "_view_module_version": "1.2.0",
            "_view_name": "LayoutView",
            "align_content": null,
            "align_items": null,
            "align_self": null,
            "border": null,
            "bottom": null,
            "display": null,
            "flex": null,
            "flex_flow": null,
            "grid_area": null,
            "grid_auto_columns": null,
            "grid_auto_flow": null,
            "grid_auto_rows": null,
            "grid_column": null,
            "grid_gap": null,
            "grid_row": null,
            "grid_template_areas": null,
            "grid_template_columns": null,
            "grid_template_rows": null,
            "height": null,
            "justify_content": null,
            "justify_items": null,
            "left": null,
            "margin": null,
            "max_height": null,
            "max_width": null,
            "min_height": null,
            "min_width": null,
            "object_fit": null,
            "object_position": null,
            "order": null,
            "overflow": null,
            "overflow_x": null,
            "overflow_y": null,
            "padding": null,
            "right": null,
            "top": null,
            "visibility": null,
            "width": null
          }
        },
        "ffb9713f1535451e99bc3c20ec45d08d": {
          "model_module": "@jupyter-widgets/controls",
          "model_name": "DescriptionStyleModel",
          "model_module_version": "1.5.0",
          "state": {
            "_model_module": "@jupyter-widgets/controls",
            "_model_module_version": "1.5.0",
            "_model_name": "DescriptionStyleModel",
            "_view_count": null,
            "_view_module": "@jupyter-widgets/base",
            "_view_module_version": "1.2.0",
            "_view_name": "StyleView",
            "description_width": ""
          }
        },
        "9c0942e850f6460cae31449b33d35b43": {
          "model_module": "@jupyter-widgets/controls",
          "model_name": "LabelModel",
          "model_module_version": "1.5.0",
          "state": {
            "_dom_classes": [],
            "_model_module": "@jupyter-widgets/controls",
            "_model_module_version": "1.5.0",
            "_model_name": "LabelModel",
            "_view_count": null,
            "_view_module": "@jupyter-widgets/controls",
            "_view_module_version": "1.5.0",
            "_view_name": "LabelView",
            "description": "",
            "description_tooltip": null,
            "layout": "IPY_MODEL_614d6c52334e4abc833e2876b90a578f",
            "placeholder": "​",
            "style": "IPY_MODEL_63178075baca4ed88d82bbd52921696d",
            "value": "Token is valid (permission: write)."
          }
        },
        "450168cdac2143b59ea7aa573849f6fb": {
          "model_module": "@jupyter-widgets/controls",
          "model_name": "LabelModel",
          "model_module_version": "1.5.0",
          "state": {
            "_dom_classes": [],
            "_model_module": "@jupyter-widgets/controls",
            "_model_module_version": "1.5.0",
            "_model_name": "LabelModel",
            "_view_count": null,
            "_view_module": "@jupyter-widgets/controls",
            "_view_module_version": "1.5.0",
            "_view_name": "LabelView",
            "description": "",
            "description_tooltip": null,
            "layout": "IPY_MODEL_926fd7e882484b83bef2fb3b216f6b14",
            "placeholder": "​",
            "style": "IPY_MODEL_ed851f0560b24099ba240b0de2870613",
            "value": "Your token has been saved in your configured git credential helpers (store)."
          }
        },
        "b8da4265bb464c85b302e107e9116386": {
          "model_module": "@jupyter-widgets/controls",
          "model_name": "LabelModel",
          "model_module_version": "1.5.0",
          "state": {
            "_dom_classes": [],
            "_model_module": "@jupyter-widgets/controls",
            "_model_module_version": "1.5.0",
            "_model_name": "LabelModel",
            "_view_count": null,
            "_view_module": "@jupyter-widgets/controls",
            "_view_module_version": "1.5.0",
            "_view_name": "LabelView",
            "description": "",
            "description_tooltip": null,
            "layout": "IPY_MODEL_a6bf7644f2594f32a38e767c7c747291",
            "placeholder": "​",
            "style": "IPY_MODEL_ce9657d06fb140948ae9ea809997965b",
            "value": "Your token has been saved to /root/.cache/huggingface/token"
          }
        },
        "91495b2776544e8bad31f6e554c6bb81": {
          "model_module": "@jupyter-widgets/controls",
          "model_name": "LabelModel",
          "model_module_version": "1.5.0",
          "state": {
            "_dom_classes": [],
            "_model_module": "@jupyter-widgets/controls",
            "_model_module_version": "1.5.0",
            "_model_name": "LabelModel",
            "_view_count": null,
            "_view_module": "@jupyter-widgets/controls",
            "_view_module_version": "1.5.0",
            "_view_name": "LabelView",
            "description": "",
            "description_tooltip": null,
            "layout": "IPY_MODEL_224200e3d79d4bd0b91de4614bad1a78",
            "placeholder": "​",
            "style": "IPY_MODEL_fb337a7718084b60ab0f7bd8eceaf4d7",
            "value": "Login successful"
          }
        },
        "614d6c52334e4abc833e2876b90a578f": {
          "model_module": "@jupyter-widgets/base",
          "model_name": "LayoutModel",
          "model_module_version": "1.2.0",
          "state": {
            "_model_module": "@jupyter-widgets/base",
            "_model_module_version": "1.2.0",
            "_model_name": "LayoutModel",
            "_view_count": null,
            "_view_module": "@jupyter-widgets/base",
            "_view_module_version": "1.2.0",
            "_view_name": "LayoutView",
            "align_content": null,
            "align_items": null,
            "align_self": null,
            "border": null,
            "bottom": null,
            "display": null,
            "flex": null,
            "flex_flow": null,
            "grid_area": null,
            "grid_auto_columns": null,
            "grid_auto_flow": null,
            "grid_auto_rows": null,
            "grid_column": null,
            "grid_gap": null,
            "grid_row": null,
            "grid_template_areas": null,
            "grid_template_columns": null,
            "grid_template_rows": null,
            "height": null,
            "justify_content": null,
            "justify_items": null,
            "left": null,
            "margin": null,
            "max_height": null,
            "max_width": null,
            "min_height": null,
            "min_width": null,
            "object_fit": null,
            "object_position": null,
            "order": null,
            "overflow": null,
            "overflow_x": null,
            "overflow_y": null,
            "padding": null,
            "right": null,
            "top": null,
            "visibility": null,
            "width": null
          }
        },
        "63178075baca4ed88d82bbd52921696d": {
          "model_module": "@jupyter-widgets/controls",
          "model_name": "DescriptionStyleModel",
          "model_module_version": "1.5.0",
          "state": {
            "_model_module": "@jupyter-widgets/controls",
            "_model_module_version": "1.5.0",
            "_model_name": "DescriptionStyleModel",
            "_view_count": null,
            "_view_module": "@jupyter-widgets/base",
            "_view_module_version": "1.2.0",
            "_view_name": "StyleView",
            "description_width": ""
          }
        },
        "926fd7e882484b83bef2fb3b216f6b14": {
          "model_module": "@jupyter-widgets/base",
          "model_name": "LayoutModel",
          "model_module_version": "1.2.0",
          "state": {
            "_model_module": "@jupyter-widgets/base",
            "_model_module_version": "1.2.0",
            "_model_name": "LayoutModel",
            "_view_count": null,
            "_view_module": "@jupyter-widgets/base",
            "_view_module_version": "1.2.0",
            "_view_name": "LayoutView",
            "align_content": null,
            "align_items": null,
            "align_self": null,
            "border": null,
            "bottom": null,
            "display": null,
            "flex": null,
            "flex_flow": null,
            "grid_area": null,
            "grid_auto_columns": null,
            "grid_auto_flow": null,
            "grid_auto_rows": null,
            "grid_column": null,
            "grid_gap": null,
            "grid_row": null,
            "grid_template_areas": null,
            "grid_template_columns": null,
            "grid_template_rows": null,
            "height": null,
            "justify_content": null,
            "justify_items": null,
            "left": null,
            "margin": null,
            "max_height": null,
            "max_width": null,
            "min_height": null,
            "min_width": null,
            "object_fit": null,
            "object_position": null,
            "order": null,
            "overflow": null,
            "overflow_x": null,
            "overflow_y": null,
            "padding": null,
            "right": null,
            "top": null,
            "visibility": null,
            "width": null
          }
        },
        "ed851f0560b24099ba240b0de2870613": {
          "model_module": "@jupyter-widgets/controls",
          "model_name": "DescriptionStyleModel",
          "model_module_version": "1.5.0",
          "state": {
            "_model_module": "@jupyter-widgets/controls",
            "_model_module_version": "1.5.0",
            "_model_name": "DescriptionStyleModel",
            "_view_count": null,
            "_view_module": "@jupyter-widgets/base",
            "_view_module_version": "1.2.0",
            "_view_name": "StyleView",
            "description_width": ""
          }
        },
        "a6bf7644f2594f32a38e767c7c747291": {
          "model_module": "@jupyter-widgets/base",
          "model_name": "LayoutModel",
          "model_module_version": "1.2.0",
          "state": {
            "_model_module": "@jupyter-widgets/base",
            "_model_module_version": "1.2.0",
            "_model_name": "LayoutModel",
            "_view_count": null,
            "_view_module": "@jupyter-widgets/base",
            "_view_module_version": "1.2.0",
            "_view_name": "LayoutView",
            "align_content": null,
            "align_items": null,
            "align_self": null,
            "border": null,
            "bottom": null,
            "display": null,
            "flex": null,
            "flex_flow": null,
            "grid_area": null,
            "grid_auto_columns": null,
            "grid_auto_flow": null,
            "grid_auto_rows": null,
            "grid_column": null,
            "grid_gap": null,
            "grid_row": null,
            "grid_template_areas": null,
            "grid_template_columns": null,
            "grid_template_rows": null,
            "height": null,
            "justify_content": null,
            "justify_items": null,
            "left": null,
            "margin": null,
            "max_height": null,
            "max_width": null,
            "min_height": null,
            "min_width": null,
            "object_fit": null,
            "object_position": null,
            "order": null,
            "overflow": null,
            "overflow_x": null,
            "overflow_y": null,
            "padding": null,
            "right": null,
            "top": null,
            "visibility": null,
            "width": null
          }
        },
        "ce9657d06fb140948ae9ea809997965b": {
          "model_module": "@jupyter-widgets/controls",
          "model_name": "DescriptionStyleModel",
          "model_module_version": "1.5.0",
          "state": {
            "_model_module": "@jupyter-widgets/controls",
            "_model_module_version": "1.5.0",
            "_model_name": "DescriptionStyleModel",
            "_view_count": null,
            "_view_module": "@jupyter-widgets/base",
            "_view_module_version": "1.2.0",
            "_view_name": "StyleView",
            "description_width": ""
          }
        },
        "224200e3d79d4bd0b91de4614bad1a78": {
          "model_module": "@jupyter-widgets/base",
          "model_name": "LayoutModel",
          "model_module_version": "1.2.0",
          "state": {
            "_model_module": "@jupyter-widgets/base",
            "_model_module_version": "1.2.0",
            "_model_name": "LayoutModel",
            "_view_count": null,
            "_view_module": "@jupyter-widgets/base",
            "_view_module_version": "1.2.0",
            "_view_name": "LayoutView",
            "align_content": null,
            "align_items": null,
            "align_self": null,
            "border": null,
            "bottom": null,
            "display": null,
            "flex": null,
            "flex_flow": null,
            "grid_area": null,
            "grid_auto_columns": null,
            "grid_auto_flow": null,
            "grid_auto_rows": null,
            "grid_column": null,
            "grid_gap": null,
            "grid_row": null,
            "grid_template_areas": null,
            "grid_template_columns": null,
            "grid_template_rows": null,
            "height": null,
            "justify_content": null,
            "justify_items": null,
            "left": null,
            "margin": null,
            "max_height": null,
            "max_width": null,
            "min_height": null,
            "min_width": null,
            "object_fit": null,
            "object_position": null,
            "order": null,
            "overflow": null,
            "overflow_x": null,
            "overflow_y": null,
            "padding": null,
            "right": null,
            "top": null,
            "visibility": null,
            "width": null
          }
        },
        "fb337a7718084b60ab0f7bd8eceaf4d7": {
          "model_module": "@jupyter-widgets/controls",
          "model_name": "DescriptionStyleModel",
          "model_module_version": "1.5.0",
          "state": {
            "_model_module": "@jupyter-widgets/controls",
            "_model_module_version": "1.5.0",
            "_model_name": "DescriptionStyleModel",
            "_view_count": null,
            "_view_module": "@jupyter-widgets/base",
            "_view_module_version": "1.2.0",
            "_view_name": "StyleView",
            "description_width": ""
          }
        },
        "2321f8190a294f9093c7a8c3195f7d11": {
          "model_module": "@jupyter-widgets/controls",
          "model_name": "HBoxModel",
          "model_module_version": "1.5.0",
          "state": {
            "_dom_classes": [],
            "_model_module": "@jupyter-widgets/controls",
            "_model_module_version": "1.5.0",
            "_model_name": "HBoxModel",
            "_view_count": null,
            "_view_module": "@jupyter-widgets/controls",
            "_view_module_version": "1.5.0",
            "_view_name": "HBoxView",
            "box_style": "",
            "children": [
              "IPY_MODEL_06c49d678c27454bb8dcc4441c761cba",
              "IPY_MODEL_292d4cd832864a089000e8cbd9a22b80",
              "IPY_MODEL_ba6df7bd887847018e6fadca42c61034"
            ],
            "layout": "IPY_MODEL_3e0c7b7d8b1248ec8780e992173ec7ed"
          }
        },
        "06c49d678c27454bb8dcc4441c761cba": {
          "model_module": "@jupyter-widgets/controls",
          "model_name": "HTMLModel",
          "model_module_version": "1.5.0",
          "state": {
            "_dom_classes": [],
            "_model_module": "@jupyter-widgets/controls",
            "_model_module_version": "1.5.0",
            "_model_name": "HTMLModel",
            "_view_count": null,
            "_view_module": "@jupyter-widgets/controls",
            "_view_module_version": "1.5.0",
            "_view_name": "HTMLView",
            "description": "",
            "description_tooltip": null,
            "layout": "IPY_MODEL_9e00b542d4674adab8145a2d6edff03f",
            "placeholder": "​",
            "style": "IPY_MODEL_1e511f48807246fd811cf4f32079d8bc",
            "value": "model.safetensors: 100%"
          }
        },
        "292d4cd832864a089000e8cbd9a22b80": {
          "model_module": "@jupyter-widgets/controls",
          "model_name": "FloatProgressModel",
          "model_module_version": "1.5.0",
          "state": {
            "_dom_classes": [],
            "_model_module": "@jupyter-widgets/controls",
            "_model_module_version": "1.5.0",
            "_model_name": "FloatProgressModel",
            "_view_count": null,
            "_view_module": "@jupyter-widgets/controls",
            "_view_module_version": "1.5.0",
            "_view_name": "ProgressView",
            "bar_style": "success",
            "description": "",
            "description_tooltip": null,
            "layout": "IPY_MODEL_b785c671ab4d4dd1b4c7b0fb1bec2865",
            "max": 498810876,
            "min": 0,
            "orientation": "horizontal",
            "style": "IPY_MODEL_974f5294ae604fc2ad43d43d22ab9554",
            "value": 498810876
          }
        },
        "ba6df7bd887847018e6fadca42c61034": {
          "model_module": "@jupyter-widgets/controls",
          "model_name": "HTMLModel",
          "model_module_version": "1.5.0",
          "state": {
            "_dom_classes": [],
            "_model_module": "@jupyter-widgets/controls",
            "_model_module_version": "1.5.0",
            "_model_name": "HTMLModel",
            "_view_count": null,
            "_view_module": "@jupyter-widgets/controls",
            "_view_module_version": "1.5.0",
            "_view_name": "HTMLView",
            "description": "",
            "description_tooltip": null,
            "layout": "IPY_MODEL_1394a9450e794635afa3962c6ba16f27",
            "placeholder": "​",
            "style": "IPY_MODEL_2eec229057064e149e2a574a6866e7ad",
            "value": " 499M/499M [00:17&lt;00:00, 36.2MB/s]"
          }
        },
        "3e0c7b7d8b1248ec8780e992173ec7ed": {
          "model_module": "@jupyter-widgets/base",
          "model_name": "LayoutModel",
          "model_module_version": "1.2.0",
          "state": {
            "_model_module": "@jupyter-widgets/base",
            "_model_module_version": "1.2.0",
            "_model_name": "LayoutModel",
            "_view_count": null,
            "_view_module": "@jupyter-widgets/base",
            "_view_module_version": "1.2.0",
            "_view_name": "LayoutView",
            "align_content": null,
            "align_items": null,
            "align_self": null,
            "border": null,
            "bottom": null,
            "display": null,
            "flex": null,
            "flex_flow": null,
            "grid_area": null,
            "grid_auto_columns": null,
            "grid_auto_flow": null,
            "grid_auto_rows": null,
            "grid_column": null,
            "grid_gap": null,
            "grid_row": null,
            "grid_template_areas": null,
            "grid_template_columns": null,
            "grid_template_rows": null,
            "height": null,
            "justify_content": null,
            "justify_items": null,
            "left": null,
            "margin": null,
            "max_height": null,
            "max_width": null,
            "min_height": null,
            "min_width": null,
            "object_fit": null,
            "object_position": null,
            "order": null,
            "overflow": null,
            "overflow_x": null,
            "overflow_y": null,
            "padding": null,
            "right": null,
            "top": null,
            "visibility": null,
            "width": null
          }
        },
        "9e00b542d4674adab8145a2d6edff03f": {
          "model_module": "@jupyter-widgets/base",
          "model_name": "LayoutModel",
          "model_module_version": "1.2.0",
          "state": {
            "_model_module": "@jupyter-widgets/base",
            "_model_module_version": "1.2.0",
            "_model_name": "LayoutModel",
            "_view_count": null,
            "_view_module": "@jupyter-widgets/base",
            "_view_module_version": "1.2.0",
            "_view_name": "LayoutView",
            "align_content": null,
            "align_items": null,
            "align_self": null,
            "border": null,
            "bottom": null,
            "display": null,
            "flex": null,
            "flex_flow": null,
            "grid_area": null,
            "grid_auto_columns": null,
            "grid_auto_flow": null,
            "grid_auto_rows": null,
            "grid_column": null,
            "grid_gap": null,
            "grid_row": null,
            "grid_template_areas": null,
            "grid_template_columns": null,
            "grid_template_rows": null,
            "height": null,
            "justify_content": null,
            "justify_items": null,
            "left": null,
            "margin": null,
            "max_height": null,
            "max_width": null,
            "min_height": null,
            "min_width": null,
            "object_fit": null,
            "object_position": null,
            "order": null,
            "overflow": null,
            "overflow_x": null,
            "overflow_y": null,
            "padding": null,
            "right": null,
            "top": null,
            "visibility": null,
            "width": null
          }
        },
        "1e511f48807246fd811cf4f32079d8bc": {
          "model_module": "@jupyter-widgets/controls",
          "model_name": "DescriptionStyleModel",
          "model_module_version": "1.5.0",
          "state": {
            "_model_module": "@jupyter-widgets/controls",
            "_model_module_version": "1.5.0",
            "_model_name": "DescriptionStyleModel",
            "_view_count": null,
            "_view_module": "@jupyter-widgets/base",
            "_view_module_version": "1.2.0",
            "_view_name": "StyleView",
            "description_width": ""
          }
        },
        "b785c671ab4d4dd1b4c7b0fb1bec2865": {
          "model_module": "@jupyter-widgets/base",
          "model_name": "LayoutModel",
          "model_module_version": "1.2.0",
          "state": {
            "_model_module": "@jupyter-widgets/base",
            "_model_module_version": "1.2.0",
            "_model_name": "LayoutModel",
            "_view_count": null,
            "_view_module": "@jupyter-widgets/base",
            "_view_module_version": "1.2.0",
            "_view_name": "LayoutView",
            "align_content": null,
            "align_items": null,
            "align_self": null,
            "border": null,
            "bottom": null,
            "display": null,
            "flex": null,
            "flex_flow": null,
            "grid_area": null,
            "grid_auto_columns": null,
            "grid_auto_flow": null,
            "grid_auto_rows": null,
            "grid_column": null,
            "grid_gap": null,
            "grid_row": null,
            "grid_template_areas": null,
            "grid_template_columns": null,
            "grid_template_rows": null,
            "height": null,
            "justify_content": null,
            "justify_items": null,
            "left": null,
            "margin": null,
            "max_height": null,
            "max_width": null,
            "min_height": null,
            "min_width": null,
            "object_fit": null,
            "object_position": null,
            "order": null,
            "overflow": null,
            "overflow_x": null,
            "overflow_y": null,
            "padding": null,
            "right": null,
            "top": null,
            "visibility": null,
            "width": null
          }
        },
        "974f5294ae604fc2ad43d43d22ab9554": {
          "model_module": "@jupyter-widgets/controls",
          "model_name": "ProgressStyleModel",
          "model_module_version": "1.5.0",
          "state": {
            "_model_module": "@jupyter-widgets/controls",
            "_model_module_version": "1.5.0",
            "_model_name": "ProgressStyleModel",
            "_view_count": null,
            "_view_module": "@jupyter-widgets/base",
            "_view_module_version": "1.2.0",
            "_view_name": "StyleView",
            "bar_color": null,
            "description_width": ""
          }
        },
        "1394a9450e794635afa3962c6ba16f27": {
          "model_module": "@jupyter-widgets/base",
          "model_name": "LayoutModel",
          "model_module_version": "1.2.0",
          "state": {
            "_model_module": "@jupyter-widgets/base",
            "_model_module_version": "1.2.0",
            "_model_name": "LayoutModel",
            "_view_count": null,
            "_view_module": "@jupyter-widgets/base",
            "_view_module_version": "1.2.0",
            "_view_name": "LayoutView",
            "align_content": null,
            "align_items": null,
            "align_self": null,
            "border": null,
            "bottom": null,
            "display": null,
            "flex": null,
            "flex_flow": null,
            "grid_area": null,
            "grid_auto_columns": null,
            "grid_auto_flow": null,
            "grid_auto_rows": null,
            "grid_column": null,
            "grid_gap": null,
            "grid_row": null,
            "grid_template_areas": null,
            "grid_template_columns": null,
            "grid_template_rows": null,
            "height": null,
            "justify_content": null,
            "justify_items": null,
            "left": null,
            "margin": null,
            "max_height": null,
            "max_width": null,
            "min_height": null,
            "min_width": null,
            "object_fit": null,
            "object_position": null,
            "order": null,
            "overflow": null,
            "overflow_x": null,
            "overflow_y": null,
            "padding": null,
            "right": null,
            "top": null,
            "visibility": null,
            "width": null
          }
        },
        "2eec229057064e149e2a574a6866e7ad": {
          "model_module": "@jupyter-widgets/controls",
          "model_name": "DescriptionStyleModel",
          "model_module_version": "1.5.0",
          "state": {
            "_model_module": "@jupyter-widgets/controls",
            "_model_module_version": "1.5.0",
            "_model_name": "DescriptionStyleModel",
            "_view_count": null,
            "_view_module": "@jupyter-widgets/base",
            "_view_module_version": "1.2.0",
            "_view_name": "StyleView",
            "description_width": ""
          }
        },
        "86e1f9b98c7647b795d505ffccb1644e": {
          "model_module": "@jupyter-widgets/controls",
          "model_name": "HBoxModel",
          "model_module_version": "1.5.0",
          "state": {
            "_dom_classes": [],
            "_model_module": "@jupyter-widgets/controls",
            "_model_module_version": "1.5.0",
            "_model_name": "HBoxModel",
            "_view_count": null,
            "_view_module": "@jupyter-widgets/controls",
            "_view_module_version": "1.5.0",
            "_view_name": "HBoxView",
            "box_style": "",
            "children": [
              "IPY_MODEL_ae487fe4e0b746e5bea1b330ddae38ed",
              "IPY_MODEL_b275654d7d9a4e34b43d8ccdb2a418ad",
              "IPY_MODEL_48ef462ac3604272b3472cab03dddcdb"
            ],
            "layout": "IPY_MODEL_fb380ea1e8354684836d848e8d73f4e1"
          }
        },
        "ae487fe4e0b746e5bea1b330ddae38ed": {
          "model_module": "@jupyter-widgets/controls",
          "model_name": "HTMLModel",
          "model_module_version": "1.5.0",
          "state": {
            "_dom_classes": [],
            "_model_module": "@jupyter-widgets/controls",
            "_model_module_version": "1.5.0",
            "_model_name": "HTMLModel",
            "_view_count": null,
            "_view_module": "@jupyter-widgets/controls",
            "_view_module_version": "1.5.0",
            "_view_name": "HTMLView",
            "description": "",
            "description_tooltip": null,
            "layout": "IPY_MODEL_4394bd2b602a43eca91999f0c3b2c8ba",
            "placeholder": "​",
            "style": "IPY_MODEL_e329513c0d9246f89d26653a1bcdf86d",
            "value": "Upload 2 LFS files: 100%"
          }
        },
        "b275654d7d9a4e34b43d8ccdb2a418ad": {
          "model_module": "@jupyter-widgets/controls",
          "model_name": "FloatProgressModel",
          "model_module_version": "1.5.0",
          "state": {
            "_dom_classes": [],
            "_model_module": "@jupyter-widgets/controls",
            "_model_module_version": "1.5.0",
            "_model_name": "FloatProgressModel",
            "_view_count": null,
            "_view_module": "@jupyter-widgets/controls",
            "_view_module_version": "1.5.0",
            "_view_name": "ProgressView",
            "bar_style": "success",
            "description": "",
            "description_tooltip": null,
            "layout": "IPY_MODEL_3c1a62bcb4ce48f0a0d1af4a639585f5",
            "max": 2,
            "min": 0,
            "orientation": "horizontal",
            "style": "IPY_MODEL_3e4497b8a1b24101a10f62a7ed51b426",
            "value": 2
          }
        },
        "48ef462ac3604272b3472cab03dddcdb": {
          "model_module": "@jupyter-widgets/controls",
          "model_name": "HTMLModel",
          "model_module_version": "1.5.0",
          "state": {
            "_dom_classes": [],
            "_model_module": "@jupyter-widgets/controls",
            "_model_module_version": "1.5.0",
            "_model_name": "HTMLModel",
            "_view_count": null,
            "_view_module": "@jupyter-widgets/controls",
            "_view_module_version": "1.5.0",
            "_view_name": "HTMLView",
            "description": "",
            "description_tooltip": null,
            "layout": "IPY_MODEL_59e23b4e63c04e52a71c4ec2cc4e2d47",
            "placeholder": "​",
            "style": "IPY_MODEL_626c5fdbae5c40ff92ad14bf234f4c36",
            "value": " 2/2 [00:17&lt;00:00, 17.76s/it]"
          }
        },
        "fb380ea1e8354684836d848e8d73f4e1": {
          "model_module": "@jupyter-widgets/base",
          "model_name": "LayoutModel",
          "model_module_version": "1.2.0",
          "state": {
            "_model_module": "@jupyter-widgets/base",
            "_model_module_version": "1.2.0",
            "_model_name": "LayoutModel",
            "_view_count": null,
            "_view_module": "@jupyter-widgets/base",
            "_view_module_version": "1.2.0",
            "_view_name": "LayoutView",
            "align_content": null,
            "align_items": null,
            "align_self": null,
            "border": null,
            "bottom": null,
            "display": null,
            "flex": null,
            "flex_flow": null,
            "grid_area": null,
            "grid_auto_columns": null,
            "grid_auto_flow": null,
            "grid_auto_rows": null,
            "grid_column": null,
            "grid_gap": null,
            "grid_row": null,
            "grid_template_areas": null,
            "grid_template_columns": null,
            "grid_template_rows": null,
            "height": null,
            "justify_content": null,
            "justify_items": null,
            "left": null,
            "margin": null,
            "max_height": null,
            "max_width": null,
            "min_height": null,
            "min_width": null,
            "object_fit": null,
            "object_position": null,
            "order": null,
            "overflow": null,
            "overflow_x": null,
            "overflow_y": null,
            "padding": null,
            "right": null,
            "top": null,
            "visibility": null,
            "width": null
          }
        },
        "4394bd2b602a43eca91999f0c3b2c8ba": {
          "model_module": "@jupyter-widgets/base",
          "model_name": "LayoutModel",
          "model_module_version": "1.2.0",
          "state": {
            "_model_module": "@jupyter-widgets/base",
            "_model_module_version": "1.2.0",
            "_model_name": "LayoutModel",
            "_view_count": null,
            "_view_module": "@jupyter-widgets/base",
            "_view_module_version": "1.2.0",
            "_view_name": "LayoutView",
            "align_content": null,
            "align_items": null,
            "align_self": null,
            "border": null,
            "bottom": null,
            "display": null,
            "flex": null,
            "flex_flow": null,
            "grid_area": null,
            "grid_auto_columns": null,
            "grid_auto_flow": null,
            "grid_auto_rows": null,
            "grid_column": null,
            "grid_gap": null,
            "grid_row": null,
            "grid_template_areas": null,
            "grid_template_columns": null,
            "grid_template_rows": null,
            "height": null,
            "justify_content": null,
            "justify_items": null,
            "left": null,
            "margin": null,
            "max_height": null,
            "max_width": null,
            "min_height": null,
            "min_width": null,
            "object_fit": null,
            "object_position": null,
            "order": null,
            "overflow": null,
            "overflow_x": null,
            "overflow_y": null,
            "padding": null,
            "right": null,
            "top": null,
            "visibility": null,
            "width": null
          }
        },
        "e329513c0d9246f89d26653a1bcdf86d": {
          "model_module": "@jupyter-widgets/controls",
          "model_name": "DescriptionStyleModel",
          "model_module_version": "1.5.0",
          "state": {
            "_model_module": "@jupyter-widgets/controls",
            "_model_module_version": "1.5.0",
            "_model_name": "DescriptionStyleModel",
            "_view_count": null,
            "_view_module": "@jupyter-widgets/base",
            "_view_module_version": "1.2.0",
            "_view_name": "StyleView",
            "description_width": ""
          }
        },
        "3c1a62bcb4ce48f0a0d1af4a639585f5": {
          "model_module": "@jupyter-widgets/base",
          "model_name": "LayoutModel",
          "model_module_version": "1.2.0",
          "state": {
            "_model_module": "@jupyter-widgets/base",
            "_model_module_version": "1.2.0",
            "_model_name": "LayoutModel",
            "_view_count": null,
            "_view_module": "@jupyter-widgets/base",
            "_view_module_version": "1.2.0",
            "_view_name": "LayoutView",
            "align_content": null,
            "align_items": null,
            "align_self": null,
            "border": null,
            "bottom": null,
            "display": null,
            "flex": null,
            "flex_flow": null,
            "grid_area": null,
            "grid_auto_columns": null,
            "grid_auto_flow": null,
            "grid_auto_rows": null,
            "grid_column": null,
            "grid_gap": null,
            "grid_row": null,
            "grid_template_areas": null,
            "grid_template_columns": null,
            "grid_template_rows": null,
            "height": null,
            "justify_content": null,
            "justify_items": null,
            "left": null,
            "margin": null,
            "max_height": null,
            "max_width": null,
            "min_height": null,
            "min_width": null,
            "object_fit": null,
            "object_position": null,
            "order": null,
            "overflow": null,
            "overflow_x": null,
            "overflow_y": null,
            "padding": null,
            "right": null,
            "top": null,
            "visibility": null,
            "width": null
          }
        },
        "3e4497b8a1b24101a10f62a7ed51b426": {
          "model_module": "@jupyter-widgets/controls",
          "model_name": "ProgressStyleModel",
          "model_module_version": "1.5.0",
          "state": {
            "_model_module": "@jupyter-widgets/controls",
            "_model_module_version": "1.5.0",
            "_model_name": "ProgressStyleModel",
            "_view_count": null,
            "_view_module": "@jupyter-widgets/base",
            "_view_module_version": "1.2.0",
            "_view_name": "StyleView",
            "bar_color": null,
            "description_width": ""
          }
        },
        "59e23b4e63c04e52a71c4ec2cc4e2d47": {
          "model_module": "@jupyter-widgets/base",
          "model_name": "LayoutModel",
          "model_module_version": "1.2.0",
          "state": {
            "_model_module": "@jupyter-widgets/base",
            "_model_module_version": "1.2.0",
            "_model_name": "LayoutModel",
            "_view_count": null,
            "_view_module": "@jupyter-widgets/base",
            "_view_module_version": "1.2.0",
            "_view_name": "LayoutView",
            "align_content": null,
            "align_items": null,
            "align_self": null,
            "border": null,
            "bottom": null,
            "display": null,
            "flex": null,
            "flex_flow": null,
            "grid_area": null,
            "grid_auto_columns": null,
            "grid_auto_flow": null,
            "grid_auto_rows": null,
            "grid_column": null,
            "grid_gap": null,
            "grid_row": null,
            "grid_template_areas": null,
            "grid_template_columns": null,
            "grid_template_rows": null,
            "height": null,
            "justify_content": null,
            "justify_items": null,
            "left": null,
            "margin": null,
            "max_height": null,
            "max_width": null,
            "min_height": null,
            "min_width": null,
            "object_fit": null,
            "object_position": null,
            "order": null,
            "overflow": null,
            "overflow_x": null,
            "overflow_y": null,
            "padding": null,
            "right": null,
            "top": null,
            "visibility": null,
            "width": null
          }
        },
        "626c5fdbae5c40ff92ad14bf234f4c36": {
          "model_module": "@jupyter-widgets/controls",
          "model_name": "DescriptionStyleModel",
          "model_module_version": "1.5.0",
          "state": {
            "_model_module": "@jupyter-widgets/controls",
            "_model_module_version": "1.5.0",
            "_model_name": "DescriptionStyleModel",
            "_view_count": null,
            "_view_module": "@jupyter-widgets/base",
            "_view_module_version": "1.2.0",
            "_view_name": "StyleView",
            "description_width": ""
          }
        },
        "2a7d2b3ce719490a8fdff1077c0ce1a6": {
          "model_module": "@jupyter-widgets/controls",
          "model_name": "HBoxModel",
          "model_module_version": "1.5.0",
          "state": {
            "_dom_classes": [],
            "_model_module": "@jupyter-widgets/controls",
            "_model_module_version": "1.5.0",
            "_model_name": "HBoxModel",
            "_view_count": null,
            "_view_module": "@jupyter-widgets/controls",
            "_view_module_version": "1.5.0",
            "_view_name": "HBoxView",
            "box_style": "",
            "children": [
              "IPY_MODEL_454f5505aa28474292490acc4b244ad8",
              "IPY_MODEL_ce3e9939d3c640e69579e652b4cf6efb",
              "IPY_MODEL_0829fd1fe50f47e8ad7b6d0f9cf86782"
            ],
            "layout": "IPY_MODEL_349cd1985156455a8e338fb70b048aff"
          }
        },
        "454f5505aa28474292490acc4b244ad8": {
          "model_module": "@jupyter-widgets/controls",
          "model_name": "HTMLModel",
          "model_module_version": "1.5.0",
          "state": {
            "_dom_classes": [],
            "_model_module": "@jupyter-widgets/controls",
            "_model_module_version": "1.5.0",
            "_model_name": "HTMLModel",
            "_view_count": null,
            "_view_module": "@jupyter-widgets/controls",
            "_view_module_version": "1.5.0",
            "_view_name": "HTMLView",
            "description": "",
            "description_tooltip": null,
            "layout": "IPY_MODEL_751b13e51a654ff5aff0451ca18c49c0",
            "placeholder": "​",
            "style": "IPY_MODEL_10892943c01c472fadf0d132c9326cc4",
            "value": "training_args.bin: 100%"
          }
        },
        "ce3e9939d3c640e69579e652b4cf6efb": {
          "model_module": "@jupyter-widgets/controls",
          "model_name": "FloatProgressModel",
          "model_module_version": "1.5.0",
          "state": {
            "_dom_classes": [],
            "_model_module": "@jupyter-widgets/controls",
            "_model_module_version": "1.5.0",
            "_model_name": "FloatProgressModel",
            "_view_count": null,
            "_view_module": "@jupyter-widgets/controls",
            "_view_module_version": "1.5.0",
            "_view_name": "ProgressView",
            "bar_style": "success",
            "description": "",
            "description_tooltip": null,
            "layout": "IPY_MODEL_896cf72591774d31b625330ead3273eb",
            "max": 4536,
            "min": 0,
            "orientation": "horizontal",
            "style": "IPY_MODEL_caf95be3d94244e88aa367f56e94e510",
            "value": 4536
          }
        },
        "0829fd1fe50f47e8ad7b6d0f9cf86782": {
          "model_module": "@jupyter-widgets/controls",
          "model_name": "HTMLModel",
          "model_module_version": "1.5.0",
          "state": {
            "_dom_classes": [],
            "_model_module": "@jupyter-widgets/controls",
            "_model_module_version": "1.5.0",
            "_model_name": "HTMLModel",
            "_view_count": null,
            "_view_module": "@jupyter-widgets/controls",
            "_view_module_version": "1.5.0",
            "_view_name": "HTMLView",
            "description": "",
            "description_tooltip": null,
            "layout": "IPY_MODEL_53255cc9b14e46129a65884c9248f85d",
            "placeholder": "​",
            "style": "IPY_MODEL_2affe9e73ab34febab013909d86d6ba8",
            "value": " 4.54k/4.54k [00:00&lt;00:00, 15.6kB/s]"
          }
        },
        "349cd1985156455a8e338fb70b048aff": {
          "model_module": "@jupyter-widgets/base",
          "model_name": "LayoutModel",
          "model_module_version": "1.2.0",
          "state": {
            "_model_module": "@jupyter-widgets/base",
            "_model_module_version": "1.2.0",
            "_model_name": "LayoutModel",
            "_view_count": null,
            "_view_module": "@jupyter-widgets/base",
            "_view_module_version": "1.2.0",
            "_view_name": "LayoutView",
            "align_content": null,
            "align_items": null,
            "align_self": null,
            "border": null,
            "bottom": null,
            "display": null,
            "flex": null,
            "flex_flow": null,
            "grid_area": null,
            "grid_auto_columns": null,
            "grid_auto_flow": null,
            "grid_auto_rows": null,
            "grid_column": null,
            "grid_gap": null,
            "grid_row": null,
            "grid_template_areas": null,
            "grid_template_columns": null,
            "grid_template_rows": null,
            "height": null,
            "justify_content": null,
            "justify_items": null,
            "left": null,
            "margin": null,
            "max_height": null,
            "max_width": null,
            "min_height": null,
            "min_width": null,
            "object_fit": null,
            "object_position": null,
            "order": null,
            "overflow": null,
            "overflow_x": null,
            "overflow_y": null,
            "padding": null,
            "right": null,
            "top": null,
            "visibility": null,
            "width": null
          }
        },
        "751b13e51a654ff5aff0451ca18c49c0": {
          "model_module": "@jupyter-widgets/base",
          "model_name": "LayoutModel",
          "model_module_version": "1.2.0",
          "state": {
            "_model_module": "@jupyter-widgets/base",
            "_model_module_version": "1.2.0",
            "_model_name": "LayoutModel",
            "_view_count": null,
            "_view_module": "@jupyter-widgets/base",
            "_view_module_version": "1.2.0",
            "_view_name": "LayoutView",
            "align_content": null,
            "align_items": null,
            "align_self": null,
            "border": null,
            "bottom": null,
            "display": null,
            "flex": null,
            "flex_flow": null,
            "grid_area": null,
            "grid_auto_columns": null,
            "grid_auto_flow": null,
            "grid_auto_rows": null,
            "grid_column": null,
            "grid_gap": null,
            "grid_row": null,
            "grid_template_areas": null,
            "grid_template_columns": null,
            "grid_template_rows": null,
            "height": null,
            "justify_content": null,
            "justify_items": null,
            "left": null,
            "margin": null,
            "max_height": null,
            "max_width": null,
            "min_height": null,
            "min_width": null,
            "object_fit": null,
            "object_position": null,
            "order": null,
            "overflow": null,
            "overflow_x": null,
            "overflow_y": null,
            "padding": null,
            "right": null,
            "top": null,
            "visibility": null,
            "width": null
          }
        },
        "10892943c01c472fadf0d132c9326cc4": {
          "model_module": "@jupyter-widgets/controls",
          "model_name": "DescriptionStyleModel",
          "model_module_version": "1.5.0",
          "state": {
            "_model_module": "@jupyter-widgets/controls",
            "_model_module_version": "1.5.0",
            "_model_name": "DescriptionStyleModel",
            "_view_count": null,
            "_view_module": "@jupyter-widgets/base",
            "_view_module_version": "1.2.0",
            "_view_name": "StyleView",
            "description_width": ""
          }
        },
        "896cf72591774d31b625330ead3273eb": {
          "model_module": "@jupyter-widgets/base",
          "model_name": "LayoutModel",
          "model_module_version": "1.2.0",
          "state": {
            "_model_module": "@jupyter-widgets/base",
            "_model_module_version": "1.2.0",
            "_model_name": "LayoutModel",
            "_view_count": null,
            "_view_module": "@jupyter-widgets/base",
            "_view_module_version": "1.2.0",
            "_view_name": "LayoutView",
            "align_content": null,
            "align_items": null,
            "align_self": null,
            "border": null,
            "bottom": null,
            "display": null,
            "flex": null,
            "flex_flow": null,
            "grid_area": null,
            "grid_auto_columns": null,
            "grid_auto_flow": null,
            "grid_auto_rows": null,
            "grid_column": null,
            "grid_gap": null,
            "grid_row": null,
            "grid_template_areas": null,
            "grid_template_columns": null,
            "grid_template_rows": null,
            "height": null,
            "justify_content": null,
            "justify_items": null,
            "left": null,
            "margin": null,
            "max_height": null,
            "max_width": null,
            "min_height": null,
            "min_width": null,
            "object_fit": null,
            "object_position": null,
            "order": null,
            "overflow": null,
            "overflow_x": null,
            "overflow_y": null,
            "padding": null,
            "right": null,
            "top": null,
            "visibility": null,
            "width": null
          }
        },
        "caf95be3d94244e88aa367f56e94e510": {
          "model_module": "@jupyter-widgets/controls",
          "model_name": "ProgressStyleModel",
          "model_module_version": "1.5.0",
          "state": {
            "_model_module": "@jupyter-widgets/controls",
            "_model_module_version": "1.5.0",
            "_model_name": "ProgressStyleModel",
            "_view_count": null,
            "_view_module": "@jupyter-widgets/base",
            "_view_module_version": "1.2.0",
            "_view_name": "StyleView",
            "bar_color": null,
            "description_width": ""
          }
        },
        "53255cc9b14e46129a65884c9248f85d": {
          "model_module": "@jupyter-widgets/base",
          "model_name": "LayoutModel",
          "model_module_version": "1.2.0",
          "state": {
            "_model_module": "@jupyter-widgets/base",
            "_model_module_version": "1.2.0",
            "_model_name": "LayoutModel",
            "_view_count": null,
            "_view_module": "@jupyter-widgets/base",
            "_view_module_version": "1.2.0",
            "_view_name": "LayoutView",
            "align_content": null,
            "align_items": null,
            "align_self": null,
            "border": null,
            "bottom": null,
            "display": null,
            "flex": null,
            "flex_flow": null,
            "grid_area": null,
            "grid_auto_columns": null,
            "grid_auto_flow": null,
            "grid_auto_rows": null,
            "grid_column": null,
            "grid_gap": null,
            "grid_row": null,
            "grid_template_areas": null,
            "grid_template_columns": null,
            "grid_template_rows": null,
            "height": null,
            "justify_content": null,
            "justify_items": null,
            "left": null,
            "margin": null,
            "max_height": null,
            "max_width": null,
            "min_height": null,
            "min_width": null,
            "object_fit": null,
            "object_position": null,
            "order": null,
            "overflow": null,
            "overflow_x": null,
            "overflow_y": null,
            "padding": null,
            "right": null,
            "top": null,
            "visibility": null,
            "width": null
          }
        },
        "2affe9e73ab34febab013909d86d6ba8": {
          "model_module": "@jupyter-widgets/controls",
          "model_name": "DescriptionStyleModel",
          "model_module_version": "1.5.0",
          "state": {
            "_model_module": "@jupyter-widgets/controls",
            "_model_module_version": "1.5.0",
            "_model_name": "DescriptionStyleModel",
            "_view_count": null,
            "_view_module": "@jupyter-widgets/base",
            "_view_module_version": "1.2.0",
            "_view_name": "StyleView",
            "description_width": ""
          }
        }
      }
    }
  },
  "nbformat": 4,
  "nbformat_minor": 0
}
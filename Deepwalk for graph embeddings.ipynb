{
  "cells": [
    {
      "cell_type": "markdown",
      "metadata": {
        "id": "WoiT4NdPpq5M"
      },
      "source": [
        "## In the name of God\n",
        "---\n",
        "## Deep Learning HW4 - Practical Q3\n",
        "## Graph Embeddings\n",
        "\n"
      ]
    },
    {
      "cell_type": "code",
      "execution_count": null,
      "metadata": {
        "id": "kmO516PusxPF"
      },
      "outputs": [],
      "source": [
        "import os\n",
        "from collections import defaultdict\n",
        "import math\n",
        "import networkx as nx\n",
        "import random\n",
        "from tqdm import tqdm\n",
        "from zipfile import ZipFile\n",
        "from urllib.request import urlretrieve\n",
        "import numpy as np\n",
        "import pandas as pd\n",
        "import matplotlib.pyplot as plt\n"
      ]
    },
    {
      "cell_type": "markdown",
      "metadata": {
        "id": "ymsJdSrYkh1T"
      },
      "source": [
        "Graph embedding is a technique employed to transform nodes, edges, and their features into vector space. In this homework, we demonstrate the deepwalk technique on the small version of the Movielens dataset to learn movie embeddings"
      ]
    },
    {
      "cell_type": "markdown",
      "metadata": {
        "id": "9duo4L2HqDkJ"
      },
      "source": [
        "### Download and Extract the MovieLens dataset"
      ]
    },
    {
      "cell_type": "code",
      "execution_count": null,
      "metadata": {
        "id": "FtMX3qqOsTFF"
      },
      "outputs": [],
      "source": [
        "urlretrieve(\n",
        "    \"http://files.grouplens.org/datasets/movielens/ml-latest-small.zip\", \"movielens.zip\"\n",
        ")\n",
        "ZipFile(\"movielens.zip\", \"r\").extractall()\n"
      ]
    },
    {
      "cell_type": "markdown",
      "metadata": {
        "id": "TnZ5RADrkh1U"
      },
      "source": [
        "### Load Movies and Ratings data from csv files"
      ]
    },
    {
      "cell_type": "code",
      "execution_count": null,
      "metadata": {
        "id": "a6jraAYutPGF"
      },
      "outputs": [],
      "source": [
        "movies = pd.read_csv(\"ml-latest-small/movies.csv\")\n",
        "ratings = pd.read_csv(\"ml-latest-small/ratings.csv\")"
      ]
    },
    {
      "cell_type": "code",
      "execution_count": null,
      "metadata": {
        "colab": {
          "base_uri": "https://localhost:8080/",
          "height": 241
        },
        "id": "OcwcpvMjtQVM",
        "outputId": "f9359041-6202-4b49-d605-019941676075"
      },
      "outputs": [
        {
          "output_type": "stream",
          "name": "stdout",
          "text": [
            "Movies data shape: (9742, 3)\n",
            "Ratings data shape: (100836, 4)\n"
          ]
        },
        {
          "output_type": "execute_result",
          "data": {
            "text/plain": [
              "   movieId                               title  \\\n",
              "0        1                    Toy Story (1995)   \n",
              "1        2                      Jumanji (1995)   \n",
              "2        3             Grumpier Old Men (1995)   \n",
              "3        4            Waiting to Exhale (1995)   \n",
              "4        5  Father of the Bride Part II (1995)   \n",
              "\n",
              "                                        genres  \n",
              "0  Adventure|Animation|Children|Comedy|Fantasy  \n",
              "1                   Adventure|Children|Fantasy  \n",
              "2                               Comedy|Romance  \n",
              "3                         Comedy|Drama|Romance  \n",
              "4                                       Comedy  "
            ],
            "text/html": [
              "\n",
              "  <div id=\"df-0145654c-e9f3-41d4-8007-543f4c9156ae\" class=\"colab-df-container\">\n",
              "    <div>\n",
              "<style scoped>\n",
              "    .dataframe tbody tr th:only-of-type {\n",
              "        vertical-align: middle;\n",
              "    }\n",
              "\n",
              "    .dataframe tbody tr th {\n",
              "        vertical-align: top;\n",
              "    }\n",
              "\n",
              "    .dataframe thead th {\n",
              "        text-align: right;\n",
              "    }\n",
              "</style>\n",
              "<table border=\"1\" class=\"dataframe\">\n",
              "  <thead>\n",
              "    <tr style=\"text-align: right;\">\n",
              "      <th></th>\n",
              "      <th>movieId</th>\n",
              "      <th>title</th>\n",
              "      <th>genres</th>\n",
              "    </tr>\n",
              "  </thead>\n",
              "  <tbody>\n",
              "    <tr>\n",
              "      <th>0</th>\n",
              "      <td>1</td>\n",
              "      <td>Toy Story (1995)</td>\n",
              "      <td>Adventure|Animation|Children|Comedy|Fantasy</td>\n",
              "    </tr>\n",
              "    <tr>\n",
              "      <th>1</th>\n",
              "      <td>2</td>\n",
              "      <td>Jumanji (1995)</td>\n",
              "      <td>Adventure|Children|Fantasy</td>\n",
              "    </tr>\n",
              "    <tr>\n",
              "      <th>2</th>\n",
              "      <td>3</td>\n",
              "      <td>Grumpier Old Men (1995)</td>\n",
              "      <td>Comedy|Romance</td>\n",
              "    </tr>\n",
              "    <tr>\n",
              "      <th>3</th>\n",
              "      <td>4</td>\n",
              "      <td>Waiting to Exhale (1995)</td>\n",
              "      <td>Comedy|Drama|Romance</td>\n",
              "    </tr>\n",
              "    <tr>\n",
              "      <th>4</th>\n",
              "      <td>5</td>\n",
              "      <td>Father of the Bride Part II (1995)</td>\n",
              "      <td>Comedy</td>\n",
              "    </tr>\n",
              "  </tbody>\n",
              "</table>\n",
              "</div>\n",
              "    <div class=\"colab-df-buttons\">\n",
              "\n",
              "  <div class=\"colab-df-container\">\n",
              "    <button class=\"colab-df-convert\" onclick=\"convertToInteractive('df-0145654c-e9f3-41d4-8007-543f4c9156ae')\"\n",
              "            title=\"Convert this dataframe to an interactive table.\"\n",
              "            style=\"display:none;\">\n",
              "\n",
              "  <svg xmlns=\"http://www.w3.org/2000/svg\" height=\"24px\" viewBox=\"0 -960 960 960\">\n",
              "    <path d=\"M120-120v-720h720v720H120Zm60-500h600v-160H180v160Zm220 220h160v-160H400v160Zm0 220h160v-160H400v160ZM180-400h160v-160H180v160Zm440 0h160v-160H620v160ZM180-180h160v-160H180v160Zm440 0h160v-160H620v160Z\"/>\n",
              "  </svg>\n",
              "    </button>\n",
              "\n",
              "  <style>\n",
              "    .colab-df-container {\n",
              "      display:flex;\n",
              "      gap: 12px;\n",
              "    }\n",
              "\n",
              "    .colab-df-convert {\n",
              "      background-color: #E8F0FE;\n",
              "      border: none;\n",
              "      border-radius: 50%;\n",
              "      cursor: pointer;\n",
              "      display: none;\n",
              "      fill: #1967D2;\n",
              "      height: 32px;\n",
              "      padding: 0 0 0 0;\n",
              "      width: 32px;\n",
              "    }\n",
              "\n",
              "    .colab-df-convert:hover {\n",
              "      background-color: #E2EBFA;\n",
              "      box-shadow: 0px 1px 2px rgba(60, 64, 67, 0.3), 0px 1px 3px 1px rgba(60, 64, 67, 0.15);\n",
              "      fill: #174EA6;\n",
              "    }\n",
              "\n",
              "    .colab-df-buttons div {\n",
              "      margin-bottom: 4px;\n",
              "    }\n",
              "\n",
              "    [theme=dark] .colab-df-convert {\n",
              "      background-color: #3B4455;\n",
              "      fill: #D2E3FC;\n",
              "    }\n",
              "\n",
              "    [theme=dark] .colab-df-convert:hover {\n",
              "      background-color: #434B5C;\n",
              "      box-shadow: 0px 1px 3px 1px rgba(0, 0, 0, 0.15);\n",
              "      filter: drop-shadow(0px 1px 2px rgba(0, 0, 0, 0.3));\n",
              "      fill: #FFFFFF;\n",
              "    }\n",
              "  </style>\n",
              "\n",
              "    <script>\n",
              "      const buttonEl =\n",
              "        document.querySelector('#df-0145654c-e9f3-41d4-8007-543f4c9156ae button.colab-df-convert');\n",
              "      buttonEl.style.display =\n",
              "        google.colab.kernel.accessAllowed ? 'block' : 'none';\n",
              "\n",
              "      async function convertToInteractive(key) {\n",
              "        const element = document.querySelector('#df-0145654c-e9f3-41d4-8007-543f4c9156ae');\n",
              "        const dataTable =\n",
              "          await google.colab.kernel.invokeFunction('convertToInteractive',\n",
              "                                                    [key], {});\n",
              "        if (!dataTable) return;\n",
              "\n",
              "        const docLinkHtml = 'Like what you see? Visit the ' +\n",
              "          '<a target=\"_blank\" href=https://colab.research.google.com/notebooks/data_table.ipynb>data table notebook</a>'\n",
              "          + ' to learn more about interactive tables.';\n",
              "        element.innerHTML = '';\n",
              "        dataTable['output_type'] = 'display_data';\n",
              "        await google.colab.output.renderOutput(dataTable, element);\n",
              "        const docLink = document.createElement('div');\n",
              "        docLink.innerHTML = docLinkHtml;\n",
              "        element.appendChild(docLink);\n",
              "      }\n",
              "    </script>\n",
              "  </div>\n",
              "\n",
              "\n",
              "<div id=\"df-27c5328a-c53f-4e20-9830-e8f46f3ccb1a\">\n",
              "  <button class=\"colab-df-quickchart\" onclick=\"quickchart('df-27c5328a-c53f-4e20-9830-e8f46f3ccb1a')\"\n",
              "            title=\"Suggest charts\"\n",
              "            style=\"display:none;\">\n",
              "\n",
              "<svg xmlns=\"http://www.w3.org/2000/svg\" height=\"24px\"viewBox=\"0 0 24 24\"\n",
              "     width=\"24px\">\n",
              "    <g>\n",
              "        <path d=\"M19 3H5c-1.1 0-2 .9-2 2v14c0 1.1.9 2 2 2h14c1.1 0 2-.9 2-2V5c0-1.1-.9-2-2-2zM9 17H7v-7h2v7zm4 0h-2V7h2v10zm4 0h-2v-4h2v4z\"/>\n",
              "    </g>\n",
              "</svg>\n",
              "  </button>\n",
              "\n",
              "<style>\n",
              "  .colab-df-quickchart {\n",
              "      --bg-color: #E8F0FE;\n",
              "      --fill-color: #1967D2;\n",
              "      --hover-bg-color: #E2EBFA;\n",
              "      --hover-fill-color: #174EA6;\n",
              "      --disabled-fill-color: #AAA;\n",
              "      --disabled-bg-color: #DDD;\n",
              "  }\n",
              "\n",
              "  [theme=dark] .colab-df-quickchart {\n",
              "      --bg-color: #3B4455;\n",
              "      --fill-color: #D2E3FC;\n",
              "      --hover-bg-color: #434B5C;\n",
              "      --hover-fill-color: #FFFFFF;\n",
              "      --disabled-bg-color: #3B4455;\n",
              "      --disabled-fill-color: #666;\n",
              "  }\n",
              "\n",
              "  .colab-df-quickchart {\n",
              "    background-color: var(--bg-color);\n",
              "    border: none;\n",
              "    border-radius: 50%;\n",
              "    cursor: pointer;\n",
              "    display: none;\n",
              "    fill: var(--fill-color);\n",
              "    height: 32px;\n",
              "    padding: 0;\n",
              "    width: 32px;\n",
              "  }\n",
              "\n",
              "  .colab-df-quickchart:hover {\n",
              "    background-color: var(--hover-bg-color);\n",
              "    box-shadow: 0 1px 2px rgba(60, 64, 67, 0.3), 0 1px 3px 1px rgba(60, 64, 67, 0.15);\n",
              "    fill: var(--button-hover-fill-color);\n",
              "  }\n",
              "\n",
              "  .colab-df-quickchart-complete:disabled,\n",
              "  .colab-df-quickchart-complete:disabled:hover {\n",
              "    background-color: var(--disabled-bg-color);\n",
              "    fill: var(--disabled-fill-color);\n",
              "    box-shadow: none;\n",
              "  }\n",
              "\n",
              "  .colab-df-spinner {\n",
              "    border: 2px solid var(--fill-color);\n",
              "    border-color: transparent;\n",
              "    border-bottom-color: var(--fill-color);\n",
              "    animation:\n",
              "      spin 1s steps(1) infinite;\n",
              "  }\n",
              "\n",
              "  @keyframes spin {\n",
              "    0% {\n",
              "      border-color: transparent;\n",
              "      border-bottom-color: var(--fill-color);\n",
              "      border-left-color: var(--fill-color);\n",
              "    }\n",
              "    20% {\n",
              "      border-color: transparent;\n",
              "      border-left-color: var(--fill-color);\n",
              "      border-top-color: var(--fill-color);\n",
              "    }\n",
              "    30% {\n",
              "      border-color: transparent;\n",
              "      border-left-color: var(--fill-color);\n",
              "      border-top-color: var(--fill-color);\n",
              "      border-right-color: var(--fill-color);\n",
              "    }\n",
              "    40% {\n",
              "      border-color: transparent;\n",
              "      border-right-color: var(--fill-color);\n",
              "      border-top-color: var(--fill-color);\n",
              "    }\n",
              "    60% {\n",
              "      border-color: transparent;\n",
              "      border-right-color: var(--fill-color);\n",
              "    }\n",
              "    80% {\n",
              "      border-color: transparent;\n",
              "      border-right-color: var(--fill-color);\n",
              "      border-bottom-color: var(--fill-color);\n",
              "    }\n",
              "    90% {\n",
              "      border-color: transparent;\n",
              "      border-bottom-color: var(--fill-color);\n",
              "    }\n",
              "  }\n",
              "</style>\n",
              "\n",
              "  <script>\n",
              "    async function quickchart(key) {\n",
              "      const quickchartButtonEl =\n",
              "        document.querySelector('#' + key + ' button');\n",
              "      quickchartButtonEl.disabled = true;  // To prevent multiple clicks.\n",
              "      quickchartButtonEl.classList.add('colab-df-spinner');\n",
              "      try {\n",
              "        const charts = await google.colab.kernel.invokeFunction(\n",
              "            'suggestCharts', [key], {});\n",
              "      } catch (error) {\n",
              "        console.error('Error during call to suggestCharts:', error);\n",
              "      }\n",
              "      quickchartButtonEl.classList.remove('colab-df-spinner');\n",
              "      quickchartButtonEl.classList.add('colab-df-quickchart-complete');\n",
              "    }\n",
              "    (() => {\n",
              "      let quickchartButtonEl =\n",
              "        document.querySelector('#df-27c5328a-c53f-4e20-9830-e8f46f3ccb1a button');\n",
              "      quickchartButtonEl.style.display =\n",
              "        google.colab.kernel.accessAllowed ? 'block' : 'none';\n",
              "    })();\n",
              "  </script>\n",
              "</div>\n",
              "    </div>\n",
              "  </div>\n"
            ]
          },
          "metadata": {},
          "execution_count": 4
        }
      ],
      "source": [
        "print(\"Movies data shape:\", movies.shape)\n",
        "print(\"Ratings data shape:\", ratings.shape)\n",
        "movies.head()"
      ]
    },
    {
      "cell_type": "code",
      "execution_count": null,
      "metadata": {
        "id": "cvL3t4GitqRj"
      },
      "outputs": [],
      "source": [
        "# Functions to get movie information\n",
        "def get_movie_title_by_id(movieId):\n",
        "    return list(movies[movies.movieId == movieId].title)[0]\n",
        "\n",
        "def get_movie_genre_by_id(movieId):\n",
        "    return list(movies[movies.movieId == movieId].genres)[0]\n",
        "\n",
        "def get_movie_id_by_title(title):\n",
        "    return list(movies[movies.title == title].movieId)[0]\n"
      ]
    },
    {
      "cell_type": "markdown",
      "metadata": {
        "id": "6GRKu4NhttTx"
      },
      "source": [
        "### Construct the Movies graph"
      ]
    },
    {
      "cell_type": "markdown",
      "metadata": {
        "id": "ozYmtjPgkh1X"
      },
      "source": [
        "In this part we construct a graph from movies and rating data. In movie graph an edge is established between two movie nodes within the graph when both movies have received ratings from the same user, with each rating being greater than or equal to the minimum rating threshold, denoted as min_rating. The weight of this edge is determined by the pointwise mutual information (PMI) between the two movies, calculated as follows:\n",
        "\n",
        "PMI = log(xy) - log(x) - log(y) + log(D)\n",
        "\n",
        "\n",
        "- xy represents the number of users who have rated both movie x and movie y with a rating greater than or equal to min_rating.\n",
        "- x represents the count of users who have rated movie x with a rating greater than or equal to min_rating.\n",
        "- y represents the count of users who have rated movie y with a rating greater than or equal to min_rating.\n",
        "- D is the total number of movie ratings that meet or exceed the min_rating threshold."
      ]
    },
    {
      "cell_type": "code",
      "execution_count": null,
      "metadata": {
        "id": "cO5vIw-ItrGw"
      },
      "outputs": [],
      "source": [
        "min_rating_threshold = 5\n",
        "pair_frequency = defaultdict(int)\n",
        "item_frequency = defaultdict(int)\n",
        "\n",
        "# select ratings >= min_rating_threshold\n",
        "rated_movies = ratings[ratings.rating >= min_rating_threshold]\n",
        "users_movies = list(rated_movies.groupby(\"userId\"))\n",
        "\n",
        "for group in users_movies:\n",
        "    # Get a list of movies rated by the user.\n",
        "    current_movies = list(group[1][\"movieId\"])\n",
        "    # Computer frequency and pair frequency of movies\n",
        "    for i in range(len(current_movies)):\n",
        "        item_frequency[current_movies[i]] += 1\n",
        "        for j in range(i + 1, len(current_movies)):\n",
        "            x = min(current_movies[i], current_movies[j])\n",
        "            y = max(current_movies[i], current_movies[j])\n",
        "            pair_frequency[(x, y)] += 1\n"
      ]
    },
    {
      "cell_type": "code",
      "execution_count": null,
      "metadata": {
        "id": "_hrjHae2w3rh"
      },
      "outputs": [],
      "source": [
        "min_weight = 10\n",
        "D = math.log(sum(item_frequency.values()))\n",
        "movie_graph_edges = []\n",
        "\n",
        "# Compute weight of each edge based on PMI\n",
        "for pair in pair_frequency:\n",
        "    x, y = pair\n",
        "    xy_frequency = pair_frequency[pair]\n",
        "    x_frequency = item_frequency[x]\n",
        "    y_frequency = item_frequency[y]\n",
        "    pmi = math.log(xy_frequency) - math.log(x_frequency) - math.log(y_frequency) + D\n",
        "    weight = pmi * xy_frequency\n",
        "    # Only include edges with weight >= min_weight\n",
        "    if weight >= min_weight:\n",
        "        movie_graph_edges.append((x, y, weight))\n",
        "\n",
        "########################## TODO ##########################\n",
        "# Create a undirected graph of movies and add weighted edges\n",
        "# using movie_graph_edges array\n",
        "\n",
        "\n",
        "movies_graph = nx.Graph()\n",
        "for edge in movie_graph_edges:\n",
        "    x, y, weight = edge\n",
        "    movies_graph.add_node(x)\n",
        "    movies_graph.add_node(y)\n",
        "    movies_graph.add_edge(x, y, weight=weight)\n",
        "######################## (THE END) #######################"
      ]
    },
    {
      "cell_type": "code",
      "execution_count": null,
      "metadata": {
        "colab": {
          "base_uri": "https://localhost:8080/"
        },
        "id": "XjNYgCMhxMyL",
        "outputId": "46873c1a-2d07-41c3-9382-4f15813e9640"
      },
      "outputs": [
        {
          "output_type": "stream",
          "name": "stdout",
          "text": [
            "Total number of graph nodes: 1405\n",
            "Total number of graph edges: 40043\n"
          ]
        }
      ],
      "source": [
        "print(\"Total number of graph nodes:\", movies_graph.number_of_nodes())\n",
        "print(\"Total number of graph edges:\", movies_graph.number_of_edges())\n"
      ]
    },
    {
      "cell_type": "code",
      "execution_count": null,
      "metadata": {
        "colab": {
          "base_uri": "https://localhost:8080/"
        },
        "id": "7veJqYXkxMu7",
        "outputId": "7d8c5376-adb7-4775-9707-db9a7e477d9a"
      },
      "outputs": [
        {
          "output_type": "stream",
          "name": "stdout",
          "text": [
            "Average node degree: 57\n"
          ]
        }
      ],
      "source": [
        "########################## TODO ##########################\n",
        "# find average node degree of movies graph\n",
        "node_degrees = dict(movies_graph.degree())\n",
        "total_degrees = 0\n",
        "for node, degree in node_degrees.items():\n",
        "    total_degrees += degree\n",
        "avg_node_degree = total_degrees / len(node_degrees)\n",
        "\n",
        "print(\"Average node degree:\", round(avg_node_degree))\n",
        "######################## (THE END) #######################"
      ]
    },
    {
      "cell_type": "code",
      "execution_count": null,
      "metadata": {
        "id": "89jSI99JFCKF"
      },
      "outputs": [],
      "source": [
        "########################## TODO ##########################\n",
        "import random\n",
        "\n",
        "def random_walk(G, start_node, walk_length):\n",
        "    # starting node\n",
        "    walk = [start_node]\n",
        "\n",
        "    for i in range(walk_length - 1):\n",
        "        # Get all neighbours of the current node\n",
        "        neighbours = list(G.neighbors(walk[-1]))\n",
        "\n",
        "        # Filter out nodes that already exist in walk\n",
        "        new_neighbours = [node for node in neighbours if node not in walk]\n",
        "\n",
        "        if new_neighbours:\n",
        "            # Randomly pick 1 neighbor that does not exist in walk and append it to walk list\n",
        "            walk.append(random.choice(new_neighbours))\n",
        "        else:\n",
        "            break  # Exit if no new neighbours are found\n",
        "\n",
        "    return walk\n",
        "\n",
        "######################## (THE END) #######################"
      ]
    },
    {
      "cell_type": "code",
      "execution_count": null,
      "metadata": {
        "id": "W8IQVrhtFB_2",
        "scrolled": true
      },
      "outputs": [],
      "source": [
        "########################## TODO ##########################\n",
        "# Create random walks for train word2vec model\n",
        "# For each node in movies_graph generate 50 walks\n",
        "walk_length = 40\n",
        "num_walks = 50\n",
        "random_walks = []\n",
        "\n",
        "for node in movies_graph.nodes:\n",
        "    for i in range(num_walks):\n",
        "        walk_sequence = random_walk(movies_graph, node, walk_length)\n",
        "        random_walks.append(walk_sequence)\n",
        "######################## (THE END) #######################"
      ]
    },
    {
      "cell_type": "code",
      "execution_count": null,
      "metadata": {
        "colab": {
          "base_uri": "https://localhost:8080/"
        },
        "id": "gzqBQDXpFB9X",
        "outputId": "8f8992b5-7d87-4a08-9333-64828b4b44e8"
      },
      "outputs": [
        {
          "output_type": "stream",
          "name": "stdout",
          "text": [
            "Total number of walks: 70250\n"
          ]
        }
      ],
      "source": [
        "print(\"Total number of walks:\", len(random_walks))"
      ]
    },
    {
      "cell_type": "markdown",
      "metadata": {
        "id": "FGsgSINokh1Z"
      },
      "source": [
        "### Model"
      ]
    },
    {
      "cell_type": "code",
      "execution_count": null,
      "metadata": {
        "colab": {
          "base_uri": "https://localhost:8080/"
        },
        "id": "gm75dMABIt9Q",
        "outputId": "f49df392-6f28-4d4e-a7da-12f895d3a00f"
      },
      "outputs": [
        {
          "output_type": "stream",
          "name": "stderr",
          "text": [
            "WARNING:gensim.models.word2vec:Effective 'alpha' higher than previous training cycles\n"
          ]
        },
        {
          "output_type": "execute_result",
          "data": {
            "text/plain": [
              "(51874990, 55072780)"
            ]
          },
          "metadata": {},
          "execution_count": 13
        }
      ],
      "source": [
        "from gensim.models import Word2Vec\n",
        "\n",
        "########################## TODO ##########################\n",
        "# Define Word2vec model in skip-gram mode\n",
        "# Train model using created random walks\n",
        "window = 4\n",
        "min_alpha = 0.0007\n",
        "epochs=20\n",
        "w2v_model = Word2Vec(sentences=random_walks, vector_size=100, window=window, sg=1, min_alpha=min_alpha, epochs=epochs)\n",
        "\n",
        "w2v_model.train(random_walks, total_examples=w2v_model.corpus_count, epochs=w2v_model.epochs)"
      ]
    },
    {
      "cell_type": "markdown",
      "metadata": {
        "id": "wNlD9vlFkh1Z"
      },
      "source": [
        "### PCA"
      ]
    },
    {
      "cell_type": "code",
      "execution_count": null,
      "metadata": {
        "id": "Y8lC3B0Ukh1Z"
      },
      "outputs": [],
      "source": [
        "########################## TODO ##########################\n",
        "# Select movie_id of 25 mostly rated movies\n",
        "movie_ids = ratings['movieId'].value_counts().nlargest(25).index.tolist()\n",
        "\n",
        "######################## (THE END) #######################"
      ]
    },
    {
      "cell_type": "code",
      "execution_count": null,
      "metadata": {
        "id": "kaOv9zDpIt7G"
      },
      "outputs": [],
      "source": [
        "from sklearn.decomposition import PCA\n",
        "import seaborn as sns\n",
        "import numpy as np\n",
        "\n",
        "def plot_nodes(model, movie_ids):\n",
        "    X = model.wv[movie_ids]\n",
        "    movies_genres = [get_movie_genre_by_id(n) for n in movie_ids]\n",
        "\n",
        "    ########################## TODO ##########################\n",
        "    # Apply PCA with 2 component on X\n",
        "    # The shape of result should be : (25, 2)\n",
        "    pca = PCA(n_components=2)\n",
        "    result = pca.fit_transform(X)\n",
        "    ######################## (THE END) #######################\n",
        "\n",
        "    # plot pca results\n",
        "    sns.color_palette(\"tab10\")\n",
        "    sns.set(rc={'figure.figsize':(10,10)})\n",
        "    sns.scatterplot(x=result[:, 0], y=result[:, 1], hue=movies_genres)\n",
        "    plt.legend([],[], frameon=False)\n",
        "\n",
        "    for i, word in enumerate(movies_genres):\n",
        "        plt.annotate(word, xy=(result[i, 0], result[i, 1]), fontsize=7)\n",
        "\n",
        "    plt.show()\n",
        "\n"
      ]
    },
    {
      "cell_type": "code",
      "execution_count": null,
      "metadata": {
        "colab": {
          "base_uri": "https://localhost:8080/",
          "height": 835
        },
        "id": "h1AYglJKIt42",
        "outputId": "37787e93-4944-4b61-8a9b-05dbe6d1475d"
      },
      "outputs": [
        {
          "output_type": "display_data",
          "data": {
            "text/plain": [
              "<Figure size 1000x1000 with 1 Axes>"
            ],
            "image/png": "[encoded data removed]"
          },
          "metadata": {}
        }
      ],
      "source": [
        "plot_nodes(w2v_model, movie_ids)"
      ]
    },
    {
      "cell_type": "markdown",
      "metadata": {
        "id": "vxO7OX98kh1a"
      },
      "source": [
        "### Find Similar Movies"
      ]
    },
    {
      "cell_type": "code",
      "execution_count": null,
      "metadata": {
        "id": "JnkLei9zVpV6"
      },
      "outputs": [],
      "source": [
        "def most_similar_movies(model, movie_title, topn):\n",
        "    similar_movies = model.wv.similar_by_word(movie_title, topn=topn)\n",
        "\n",
        "    similar_movies_data = [\n",
        "        {\n",
        "            'id': movie_id,\n",
        "            'title': get_movie_title_by_id(movie_id),\n",
        "            'genre': get_movie_genre_by_id(movie_id),\n",
        "            'similarity': similarity\n",
        "        }\n",
        "        for movie_id, similarity in similar_movies\n",
        "    ]\n",
        "\n",
        "    return similar_movies_data\n",
        "\n"
      ]
    },
    {
      "cell_type": "code",
      "execution_count": null,
      "metadata": {
        "colab": {
          "base_uri": "https://localhost:8080/"
        },
        "id": "KNyIGG3GWaQS",
        "outputId": "658dd5dd-1638-4012-cc12-573e1d5d9a89"
      },
      "outputs": [
        {
          "output_type": "execute_result",
          "data": {
            "text/plain": [
              "[{'id': 1196,\n",
              "  'title': 'Star Wars: Episode V - The Empire Strikes Back (1980)',\n",
              "  'genre': 'Action|Adventure|Sci-Fi',\n",
              "  'similarity': 0.7289218902587891},\n",
              " {'id': 1210,\n",
              "  'title': 'Star Wars: Episode VI - Return of the Jedi (1983)',\n",
              "  'genre': 'Action|Adventure|Sci-Fi',\n",
              "  'similarity': 0.6680840849876404},\n",
              " {'id': 2571,\n",
              "  'title': 'Matrix, The (1999)',\n",
              "  'genre': 'Action|Sci-Fi|Thriller',\n",
              "  'similarity': 0.5367482304573059},\n",
              " {'id': 296,\n",
              "  'title': 'Pulp Fiction (1994)',\n",
              "  'genre': 'Comedy|Crime|Drama|Thriller',\n",
              "  'similarity': 0.47537070512771606},\n",
              " {'id': 3510,\n",
              "  'title': 'Frequency (2000)',\n",
              "  'genre': 'Drama|Thriller',\n",
              "  'similarity': 0.4448705017566681}]"
            ]
          },
          "metadata": {},
          "execution_count": 18
        }
      ],
      "source": [
        "most_similar_movies(w2v_model, get_movie_id_by_title('Star Wars: Episode IV - A New Hope (1977)'), topn=5)"
      ]
    }
  ],
  "metadata": {
    "colab": {
      "provenance": [],
      "gpuType": "T4"
    },
    "kernelspec": {
      "display_name": "Python 3",
      "name": "python3"
    },
    "language_info": {
      "codemirror_mode": {
        "name": "ipython",
        "version": 3
      },
      "file_extension": ".py",
      "mimetype": "text/x-python",
      "name": "python",
      "nbconvert_exporter": "python",
      "pygments_lexer": "ipython3",
      "version": "3.9.13"
    },
    "accelerator": "GPU"
  },
  "nbformat": 4,
  "nbformat_minor": 0
}